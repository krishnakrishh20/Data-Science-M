{
 "cells": [
  {
   "cell_type": "code",
   "execution_count": 14,
   "id": "f3c676eb-c387-400f-bcf2-88b429a9cd6a",
   "metadata": {},
   "outputs": [],
   "source": [
    "class parent:\n",
    "    def test_parent(self):\n",
    "        print(\"this is my parent class\")"
   ]
  },
  {
   "cell_type": "code",
   "execution_count": 15,
   "id": "b3d87b88-8d3e-4333-8dc7-67ad1e7b7ef1",
   "metadata": {},
   "outputs": [],
   "source": [
    "class child(parent):\n",
    "    pass"
   ]
  },
  {
   "cell_type": "code",
   "execution_count": 16,
   "id": "2be22802-6479-45d0-b686-8ea835f3ee91",
   "metadata": {},
   "outputs": [],
   "source": [
    "ob_c=child()"
   ]
  },
  {
   "cell_type": "code",
   "execution_count": 17,
   "id": "e0e2efc8-a5ec-41ba-aa89-43badda59bab",
   "metadata": {},
   "outputs": [
    {
     "name": "stdout",
     "output_type": "stream",
     "text": [
      "this is my parent class\n"
     ]
    }
   ],
   "source": [
    "ob_c.test_parent()"
   ]
  },
  {
   "cell_type": "code",
   "execution_count": 18,
   "id": "3a4dcb7b-0bb1-487e-a0aa-c2bc75b9e9a7",
   "metadata": {},
   "outputs": [],
   "source": [
    "class class1:\n",
    "    def test_class1(self):\n",
    "        print(\"This is class1\")"
   ]
  },
  {
   "cell_type": "code",
   "execution_count": 19,
   "id": "73e2f716-3c4d-4d36-a93c-573bf5bbd260",
   "metadata": {},
   "outputs": [],
   "source": [
    "class class2(class1):\n",
    "    def test_class2(self):\n",
    "        print(\"This is class2\")"
   ]
  },
  {
   "cell_type": "code",
   "execution_count": 20,
   "id": "cbf29e7f-2ab1-404f-a67c-3382b2ae1ff6",
   "metadata": {},
   "outputs": [],
   "source": [
    "class class3(class2):\n",
    "    def test_class3(self):\n",
    "        print(\"This is class3\")"
   ]
  },
  {
   "cell_type": "code",
   "execution_count": 21,
   "id": "dfb503b0-6027-4e94-b4f1-04c2ac065c8b",
   "metadata": {},
   "outputs": [],
   "source": [
    "ob_class3=class3()"
   ]
  },
  {
   "cell_type": "code",
   "execution_count": 24,
   "id": "7e8609d5-ceda-40c5-a7d8-e19ed930b327",
   "metadata": {},
   "outputs": [
    {
     "name": "stdout",
     "output_type": "stream",
     "text": [
      "This is class1\n"
     ]
    }
   ],
   "source": [
    "ob_class3.test_class1()"
   ]
  },
  {
   "cell_type": "code",
   "execution_count": 25,
   "id": "e3f612a7-8c62-49af-969c-6a6eb1683bad",
   "metadata": {},
   "outputs": [
    {
     "name": "stdout",
     "output_type": "stream",
     "text": [
      "This is class2\n"
     ]
    }
   ],
   "source": [
    "ob_class3.test_class2()"
   ]
  },
  {
   "cell_type": "code",
   "execution_count": 27,
   "id": "02eb3d2f-9db7-432b-a485-b764ddce1a0d",
   "metadata": {},
   "outputs": [
    {
     "name": "stdout",
     "output_type": "stream",
     "text": [
      "This is class3\n"
     ]
    }
   ],
   "source": [
    "ob_class3.test_class3()"
   ]
  },
  {
   "cell_type": "code",
   "execution_count": 28,
   "id": "6e09294e-d59d-4370-b424-f511db8cf421",
   "metadata": {},
   "outputs": [],
   "source": [
    "#above is an multilevel inheritence"
   ]
  },
  {
   "cell_type": "code",
   "execution_count": 29,
   "id": "7aa3b598-bbea-411e-a9ed-2d450d7c9403",
   "metadata": {},
   "outputs": [],
   "source": [
    "class class1:\n",
    "    def test_class1(self):\n",
    "        print(\"this is class1\")"
   ]
  },
  {
   "cell_type": "code",
   "execution_count": 30,
   "id": "46438014-e45f-4ea2-a356-366efbdfdeda",
   "metadata": {},
   "outputs": [],
   "source": [
    "class class2:\n",
    "    def test_class2(self):\n",
    "        print(\"This is class2\")"
   ]
  },
  {
   "cell_type": "code",
   "execution_count": 31,
   "id": "e1af10f0-6093-4a29-9943-bd07a5156acf",
   "metadata": {},
   "outputs": [],
   "source": [
    "class class3(class1,class2):\n",
    "    pass"
   ]
  },
  {
   "cell_type": "code",
   "execution_count": 32,
   "id": "0d63025d-de93-4122-9835-9ac8276bb35f",
   "metadata": {},
   "outputs": [],
   "source": [
    "ob_class3=class3()"
   ]
  },
  {
   "cell_type": "code",
   "execution_count": 33,
   "id": "49f97e19-f6d0-4b3a-af89-a72765ef6d15",
   "metadata": {},
   "outputs": [
    {
     "name": "stdout",
     "output_type": "stream",
     "text": [
      "this is class1\n"
     ]
    }
   ],
   "source": [
    "ob_class3.test_class1()"
   ]
  },
  {
   "cell_type": "code",
   "execution_count": 34,
   "id": "0d1a71b2-47e0-437d-8216-1482cea7b0f6",
   "metadata": {},
   "outputs": [
    {
     "name": "stdout",
     "output_type": "stream",
     "text": [
      "This is class2\n"
     ]
    }
   ],
   "source": [
    "ob_class3.test_class2()"
   ]
  },
  {
   "cell_type": "code",
   "execution_count": 35,
   "id": "ee1f9b8f-1d8d-47b2-b2b6-f0991cd82049",
   "metadata": {},
   "outputs": [],
   "source": [
    "# above is an example of multiple inheritence"
   ]
  },
  {
   "cell_type": "code",
   "execution_count": null,
   "id": "17f007e1-f9fa-4f08-b453-604acfc94f6d",
   "metadata": {},
   "outputs": [],
   "source": []
  }
 ],
 "metadata": {
  "kernelspec": {
   "display_name": "Python 3 (ipykernel)",
   "language": "python",
   "name": "python3"
  },
  "language_info": {
   "codemirror_mode": {
    "name": "ipython",
    "version": 3
   },
   "file_extension": ".py",
   "mimetype": "text/x-python",
   "name": "python",
   "nbconvert_exporter": "python",
   "pygments_lexer": "ipython3",
   "version": "3.10.8"
  }
 },
 "nbformat": 4,
 "nbformat_minor": 5
}
