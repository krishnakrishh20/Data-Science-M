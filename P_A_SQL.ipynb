{
 "cells": [
  {
   "cell_type": "markdown",
   "id": "84127779-2283-4fa2-99d7-7697df7d9910",
   "metadata": {},
   "source": [
    "### What is a database? Differentiate between SQL and NoSQL databases."
   ]
  },
  {
   "cell_type": "raw",
   "id": "bc259119-e2bc-4df2-a106-f0e45fa7de44",
   "metadata": {},
   "source": [
    "SQL is the programming language used to interface with relational databases. (Relational databases model data as records in rows and tables with logical links between them). NoSQL is a class of DBMs that are non-relational and generally do not use SQL.\n",
    "\n",
    "1.Languaue:\n",
    "\n",
    "SQL-Safe and versatile, it’s particularly well suited for complex queries.SQL restricts the user to working within a predefined tabular schema, and more care must be taken to organize and understand the data before it is used.\n",
    "\n",
    "NOSQL-There is less emphasis on planning, greater freedom when adding new attributes or fields, and the possibility of varied syntax across databases. As a group, however, NoSQL languages lack the standard interface which SQL provides, so more complex queries can be difficult to execute.\n",
    "\n",
    "\n",
    "2.sacalability:\n",
    "\n",
    "Most SQL databases can be scaled vertically, by increasing the processing power of existing hardware. NoSQL databases use a master-slave architecture which scales better horizontally, with additional servers or nodes\n",
    "\n",
    "3.structure:\n",
    "\n",
    "SQL database schemata always represent relational, tabular data, with rules about consistency and integrity. They contain tables with columns (attributes) and rows (records), and keys have constrained logical relationships.\n",
    "\n",
    "\n",
    "NoSQL databases need not stick to this format,column oriented,key-value ,Document,Graph.\n",
    "\n",
    "\n",
    "4.Properties\n",
    "\n",
    "SQL-ACID\n",
    "NoSQL-CAP\n",
    "\n",
    "\n",
    "\n"
   ]
  },
  {
   "cell_type": "markdown",
   "id": "9ac51439-b4ba-42ab-9b78-e8b149d19ffd",
   "metadata": {},
   "source": [
    "### Q2. What is DDL? Explain why CREATE, DROP, ALTER, and TRUNCATE are used with an example."
   ]
  },
  {
   "cell_type": "raw",
   "id": "6964b28f-0f1d-414b-b9a5-58b2c91804df",
   "metadata": {},
   "source": [
    "Data Definition Language(DDL) is a subset of SQL and a part of DBMS(Database Management System). DDL consist of Commands to commands like CREATE, ALTER, TRUNCATE and DROP. These commands are used to create or modify the tables in SQL."
   ]
  },
  {
   "cell_type": "raw",
   "id": "a97c3cfb-7bba-4c39-bb24-d1376f0a463e",
   "metadata": {},
   "source": [
    "1.CREATE\n",
    "\n",
    "CREATE TABLENAME table_name\n",
    "\n",
    "(\n",
    "C1 INT,\n",
    "C2 VARCHAR(40),\n",
    "C3 Float,\n",
    "\n",
    "    \n",
    ")\n",
    "\n",
    "\n",
    "2.ALTER\n",
    " used to add ,delter or change columns in the existing table.\n",
    " \n",
    " \n",
    " ALTER TABLE table_name\n",
    " ADD column_name INT\n",
    " \n",
    " \n",
    " \n",
    " \n",
    " 3.TRUNCATE\n",
    " \n",
    " used to remove all rows  from table ,but the structure of the table exists.\n",
    " \n",
    " TRUNCATE TABLE table_name\n",
    " \n",
    " \n",
    " 4.DROP\n",
    " \n",
    " remove an existing table along with its structure from database.\n",
    " \n",
    " DROP TABLE table_name\n",
    "."
   ]
  },
  {
   "cell_type": "markdown",
   "id": "f0e2e4e7-de0d-4c24-8554-b93f784366b0",
   "metadata": {},
   "source": [
    "###  What is DML? Explain INSERT, UPDATE, and DELETE with an example."
   ]
  },
  {
   "cell_type": "raw",
   "id": "a1d07f47-1e5b-41d9-a36b-a2a7e1149730",
   "metadata": {},
   "source": [
    "DML stands for Data Manipulation Language. Tables and formulas are helpful when communicating with data stored up to a point in a database through SQL, but a time comes when we actually want to execute some fairly complicated data interactions. We will also need the Data Manipulation Language in that situation. DML is a way to inform a database precisely what we want it to do by conversing in a manner that it has been built to comprehend from the scratch. When it comes to interacting within existing data, whether adding, moving, or deleting data, it provides a convenient way to do so."
   ]
  },
  {
   "cell_type": "raw",
   "id": "07d24a1b-bf8a-49d5-81ee-22ec67978ea3",
   "metadata": {},
   "source": [
    "INSERT---\n",
    "\n",
    "command used to enter information or values into a row.\n",
    "\n",
    "INSERT INTO students('stu_id' int, 'stu_name' varchar(20),'city' varchar(20))\n",
    "\n",
    "VALUES ('1','Krishna','KP')\n",
    "\n",
    "\n",
    "UPDATE---\n",
    "\n",
    "COMMAND IS USED TO ALTER EXISTING TABLE RECORD.within a table it modifies data from one or more records.\n",
    "\n",
    "UPDATE students\n",
    "\n",
    "SET due_fees=10000\n",
    "WHERE stu_name='Mini'\n",
    "\n",
    "\n",
    "DELETE \n",
    "\n",
    "it deletes all archives from a table. This command is used to erase some or all of the previous table’s records. If we do not specify the ‘WHERE’ condition then all the rows would be erased or deleted.\n",
    "\n",
    "DELETE FROM students\n",
    "WHERE stu_id='001'\n",
    "\n"
   ]
  },
  {
   "cell_type": "markdown",
   "id": "0a179cad-fdce-4c7c-8db1-407cfece6c96",
   "metadata": {},
   "source": [
    "###  What is DQL? Explain SELECT with an example."
   ]
  },
  {
   "cell_type": "raw",
   "id": "db8e271c-8a0a-4fa4-88dd-44c3769f388e",
   "metadata": {},
   "source": [
    "An SQL SELECT statement retrieves records from a database table according to clauses (for example, FROM and WHERE) that specify criteria\n",
    "\n",
    "\n",
    "SELECT c1, c2 FROM student_table1, student_table2 WHERE c2='value'; \n",
    "\n",
    "SELECT clause specifies one or more columns to be retrieved; to specify multiple columns, use a comma and a space between column names\n",
    "\n",
    "The FROM clause specifies one or more tables to be queried. Use a comma and space between table names when specifying multiple tables.\n",
    "\n",
    "The WHERE clause selects only the rows in which the specified column contains the specified value. The value is enclosed in single quotes (for example, WHERE last_name='Vader').\n",
    "\n"
   ]
  },
  {
   "cell_type": "markdown",
   "id": "696c07ba-39fe-4def-8ee9-c91021398f82",
   "metadata": {},
   "source": [
    "###  Explain Primary Key and Foreign Key."
   ]
  },
  {
   "cell_type": "raw",
   "id": "9260f7e9-91e3-4373-b670-afa885b5b44f",
   "metadata": {},
   "source": [
    "Primary Key: A primary key is used to ensure that data in the specific column is unique. A column cannot have NULL values. It is either an existing table column or a column that is specifically generated by the database according to a defined sequence. \n",
    "\n",
    "A foreign key is a column or group of columns in a relational database table that provides a link between data in two tables. It is a column (or columns) that references a column (most often the primary key) of another table. \n"
   ]
  },
  {
   "cell_type": "markdown",
   "id": "3b75e3d2-a5b6-4f43-9266-29c7a291161e",
   "metadata": {},
   "source": [
    "### Write a python code to connect MySQL to python. Explain the cursor() and execute() method."
   ]
  },
  {
   "cell_type": "raw",
   "id": "5f6dfacb-579a-41b5-887f-e25f129494a2",
   "metadata": {},
   "source": [
    "import mysql.connector\n",
    "mydb=mysql.connector.connect(\n",
    "host=\"localhost\",\n",
    "user=\"abc\",\n",
    "password=\"password\"\n",
    "\n",
    ")\n",
    "\n",
    "print(mydb)\n",
    "mycursor=mydb.cursor()\n",
    "mycursor.execute('SHOW DATABASES')\n",
    "\n",
    "for x in mycursor:\n",
    "    print(x)"
   ]
  },
  {
   "cell_type": "raw",
   "id": "dc5ebd4c-c759-4863-92ea-53250bf8eeb0",
   "metadata": {},
   "source": [
    "CURSOR\n",
    "\n",
    "A cursor is an object which helps to execute the query and fetch the records from the database. The cursor plays a very important role in executing the query.t is an object that is used to make the connection for executing SQL queries\n",
    "\n",
    "execute()\n",
    "\n",
    "This method accepts a MySQL query as a parameter and executes the given query"
   ]
  },
  {
   "cell_type": "markdown",
   "id": "fc66d866-135c-40f4-8650-6496783f3f88",
   "metadata": {},
   "source": [
    "###  Give the order of execution of SQL clauses in an SQL query."
   ]
  },
  {
   "cell_type": "raw",
   "id": "c1ad46d1-dbf4-447c-ae20-1e526e460d35",
   "metadata": {},
   "source": [
    "FROM clause\n",
    "ON clause\n",
    "OUTER clause\n",
    "WHERE clause\n",
    "GROUP BY clause\n",
    "HAVING clause\n",
    "SELECT clause\n",
    "DISTINCT clause\n",
    "ORDER BY clause\n",
    "TOP clause"
   ]
  },
  {
   "cell_type": "code",
   "execution_count": null,
   "id": "bf722670-b0e8-4a03-a065-d8cb4e541641",
   "metadata": {},
   "outputs": [],
   "source": []
  }
 ],
 "metadata": {
  "kernelspec": {
   "display_name": "Python 3 (ipykernel)",
   "language": "python",
   "name": "python3"
  },
  "language_info": {
   "codemirror_mode": {
    "name": "ipython",
    "version": 3
   },
   "file_extension": ".py",
   "mimetype": "text/x-python",
   "name": "python",
   "nbconvert_exporter": "python",
   "pygments_lexer": "ipython3",
   "version": "3.10.8"
  }
 },
 "nbformat": 4,
 "nbformat_minor": 5
}
