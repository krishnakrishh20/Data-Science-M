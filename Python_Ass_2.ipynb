{
 "cells": [
  {
   "cell_type": "markdown",
   "id": "02e2452f-1ba0-411e-9eda-786bb7289612",
   "metadata": {},
   "source": [
    "write a program to accept percentage from the user and display the grade according to the following criteria:\n",
    "\n",
    "### >=90--A \n",
    "### >80 and <=90--B\n",
    "### >=60 and <=80 --c\n",
    "### below 60 D"
   ]
  },
  {
   "cell_type": "code",
   "execution_count": 5,
   "id": "7ae06756-ed77-416f-aa6d-477eb8b29637",
   "metadata": {},
   "outputs": [
    {
     "name": "stdin",
     "output_type": "stream",
     "text": [
      "enter the percentage: 80\n"
     ]
    },
    {
     "name": "stdout",
     "output_type": "stream",
     "text": [
      "C\n"
     ]
    }
   ],
   "source": [
    "percentage=int(input(\"enter the percentage:\"))\n",
    "\n",
    "if percentage>=90:\n",
    "    print(\"A\")\n",
    "elif 80<percentage<=90:\n",
    "    print(\"B\")\n",
    "elif 60<=percentage<=80:\n",
    "    print(\"C\")\n",
    "else:\n",
    "    print(\"D\")"
   ]
  },
  {
   "cell_type": "markdown",
   "id": "b78bc485-a32d-4ddb-869c-8bf0b8c319e4",
   "metadata": {},
   "source": [
    "Write a program to accept the cost price of a bike and display the tax to be paid according to the folllowing criteria\n",
    "\n",
    "### 15%------->100000\n",
    "### 10%------->50000 and <=100000\n",
    "### 5%--------<=50000"
   ]
  },
  {
   "cell_type": "code",
   "execution_count": null,
   "id": "7c0a99d9-a306-4ee8-80a5-256504a0fb48",
   "metadata": {},
   "outputs": [],
   "source": [
    "cst_of_bike=int(input(\"enter cost price of the bike:\"))\n",
    "if cst_of_bike<=50000:\n",
    "    print (\"road tax:\" ,cst_of_bike*0.05)\n",
    "elif 50000<cst_of_bike<=100000:\n",
    "    print(\"road tax:\",cst_of_bike*0.1)\n",
    "else :\n",
    "    print(\"road tax:\",cst_of_bike*.15)"
   ]
  },
  {
   "cell_type": "markdown",
   "id": "805e816b-fc17-48e8-925c-549001f9a46a",
   "metadata": {},
   "source": [
    "Accept any city from the user and display monuments of that city.\n",
    "\n",
    "### Delhi---Redfort\n",
    "### Agra----TajMahal\n",
    "### Jaipur--Jal Mahal\n"
   ]
  },
  {
   "cell_type": "code",
   "execution_count": 21,
   "id": "d3b2adab-669f-4e9e-8453-a11fa3d46004",
   "metadata": {},
   "outputs": [
    {
     "name": "stdin",
     "output_type": "stream",
     "text": [
      "Enter the city name Jaipur\n"
     ]
    },
    {
     "name": "stdout",
     "output_type": "stream",
     "text": [
      "Monument of Jaipur: Jal Mahal\n"
     ]
    }
   ],
   "source": [
    "city=str(input(\"Enter the city name\"))\n",
    "\n",
    "if city==\"Delhi\" :\n",
    "    print(\"Monument of the Delhi: Redfort\")\n",
    "elif city==\"Agra\":\n",
    "    print(\"Monument of the Agra: TajMahal\")\n",
    "elif city==\"Jaipur\":\n",
    "    print(\"Monument of Jaipur: Jal Mahal\")"
   ]
  },
  {
   "cell_type": "code",
   "execution_count": null,
   "id": "4634f4d1-6d34-4423-9d51-92daef85f3d9",
   "metadata": {},
   "outputs": [],
   "source": []
  },
  {
   "cell_type": "markdown",
   "id": "20172e6b-4f65-4e4b-a893-66eb75904fea",
   "metadata": {},
   "source": [
    "4.Check how many times agiven number can be divided be 3 before it is less than or equal to 10"
   ]
  },
  {
   "cell_type": "code",
   "execution_count": 27,
   "id": "9e74e624-a3e5-42f0-80d4-874defc5aba4",
   "metadata": {},
   "outputs": [
    {
     "name": "stdin",
     "output_type": "stream",
     "text": [
      "enter the no. 9000\n"
     ]
    },
    {
     "name": "stdout",
     "output_type": "stream",
     "text": [
      "6\n"
     ]
    }
   ],
   "source": [
    "count=0\n",
    "num=int(input(\"enter the no.\"))\n",
    "while (num/3)>10:\n",
    "    count+=1\n",
    "    num=(num/3)\n",
    "    \n",
    "print(count)"
   ]
  },
  {
   "cell_type": "code",
   "execution_count": null,
   "id": "ddec31a0-d811-43d6-ae44-24a63cf4d82c",
   "metadata": {},
   "outputs": [],
   "source": []
  },
  {
   "cell_type": "markdown",
   "id": "592a18a9-8c4b-4867-9626-82d0384c2fa2",
   "metadata": {},
   "source": [
    "#### 5.Why and when to use while loop in python give a detailed description with example?\n",
    "\n",
    "##### while loop is used to run a block code until certain condition is met.\n",
    "\n",
    "##### while loop evaluated the condition and if the condition appears to be true. it runs the code inside the loop until the condition is not true\n",
    "\n",
    "#### For Eg:\n",
    "### i=3\n",
    "\n",
    "### while 0<i<5:\n",
    "###    print(i)\n",
    "###    i-=1\n",
    "\n",
    "##### point to note: provide condition such that it doest go to an infinite loop \n"
   ]
  },
  {
   "cell_type": "code",
   "execution_count": null,
   "id": "f54a5555-a728-4e87-a96f-79739d399387",
   "metadata": {},
   "outputs": [],
   "source": []
  },
  {
   "cell_type": "markdown",
   "id": "76241c53-feee-4ee5-9422-067da170ac9f",
   "metadata": {},
   "source": [
    "6.Nested while loop to print 3 different pattern"
   ]
  },
  {
   "cell_type": "code",
   "execution_count": 1,
   "id": "38dfca2a-e191-4977-9e22-c64f6c279d26",
   "metadata": {},
   "outputs": [
    {
     "name": "stdout",
     "output_type": "stream",
     "text": [
      "\n",
      "*\n",
      "**\n",
      "***\n",
      "****\n",
      "*****\n",
      "******\n"
     ]
    }
   ],
   "source": [
    "rw=6\n",
    "i=0\n",
    "while i<(rw+1):\n",
    "    j=0\n",
    "    while j<i:\n",
    "        print(\"*\",end=\"\")\n",
    "        j+=1\n",
    "    print(\"\\r\")\n",
    "    i+=1"
   ]
  },
  {
   "cell_type": "code",
   "execution_count": 2,
   "id": "f34ff46a-32ed-44e7-96c4-7b3b15b9d7fa",
   "metadata": {},
   "outputs": [
    {
     "name": "stdout",
     "output_type": "stream",
     "text": [
      "******\n",
      "*****\n",
      "****\n",
      "***\n",
      "**\n",
      "*\n"
     ]
    }
   ],
   "source": [
    "rw=6\n",
    "i=rw\n",
    "while 0<i<=rw:\n",
    "    j=i\n",
    "    while 0<j<=i:\n",
    "        print(\"*\",end=\"\")\n",
    "        j-=1\n",
    "    print(\"\\r\")\n",
    "    i-=1"
   ]
  },
  {
   "cell_type": "code",
   "execution_count": 3,
   "id": "b153c300-e605-4950-8eb8-a76f0b04f74b",
   "metadata": {},
   "outputs": [
    {
     "name": "stdout",
     "output_type": "stream",
     "text": [
      "654321\n",
      "54321\n",
      "4321\n",
      "321\n",
      "21\n",
      "1\n"
     ]
    }
   ],
   "source": [
    "rw=6\n",
    "i=rw\n",
    "while 0<i<=rw:\n",
    "    j=i\n",
    "    while 0<j<=i:\n",
    "        print(j,end=\"\")\n",
    "        j-=1\n",
    "    print(\"\\r\")\n",
    "    i-=1"
   ]
  },
  {
   "cell_type": "markdown",
   "id": "de3e56c0-483b-4ec4-97fb-ca1a1d162db2",
   "metadata": {},
   "source": [
    "7. Reverse a while loop to display numbers from 10 t0 1"
   ]
  },
  {
   "cell_type": "code",
   "execution_count": 37,
   "id": "70b9e129-2f56-4306-a33c-903dad768263",
   "metadata": {},
   "outputs": [
    {
     "name": "stdout",
     "output_type": "stream",
     "text": [
      "10\n",
      "9\n",
      "8\n",
      "7\n",
      "6\n",
      "5\n",
      "4\n",
      "3\n",
      "2\n",
      "1\n"
     ]
    }
   ],
   "source": [
    "i=10\n",
    "while 0<i<=10:\n",
    "    print(i)\n",
    "    i-=1"
   ]
  },
  {
   "cell_type": "code",
   "execution_count": null,
   "id": "ae02febf-f898-4f83-a52e-82b0c2029fac",
   "metadata": {},
   "outputs": [],
   "source": []
  },
  {
   "cell_type": "code",
   "execution_count": null,
   "id": "92b74fd7-d936-44cc-9a22-59eafb0e48f8",
   "metadata": {},
   "outputs": [],
   "source": []
  }
 ],
 "metadata": {
  "kernelspec": {
   "display_name": "Python 3 (ipykernel)",
   "language": "python",
   "name": "python3"
  },
  "language_info": {
   "codemirror_mode": {
    "name": "ipython",
    "version": 3
   },
   "file_extension": ".py",
   "mimetype": "text/x-python",
   "name": "python",
   "nbconvert_exporter": "python",
   "pygments_lexer": "ipython3",
   "version": "3.10.8"
  }
 },
 "nbformat": 4,
 "nbformat_minor": 5
}
