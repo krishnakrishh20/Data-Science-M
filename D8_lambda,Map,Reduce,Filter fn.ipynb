{
 "cells": [
  {
   "cell_type": "code",
   "execution_count": 1,
   "id": "c355f965-507d-48e6-892a-f00e0e289bbc",
   "metadata": {},
   "outputs": [],
   "source": [
    "def test(n,p):\n",
    "    return n**p"
   ]
  },
  {
   "cell_type": "code",
   "execution_count": 2,
   "id": "fe2a670a-58f0-480f-9042-b5d5e91565ec",
   "metadata": {},
   "outputs": [
    {
     "data": {
      "text/plain": [
       "1"
      ]
     },
     "execution_count": 2,
     "metadata": {},
     "output_type": "execute_result"
    }
   ],
   "source": [
    "test(1,2)"
   ]
  },
  {
   "cell_type": "code",
   "execution_count": 3,
   "id": "b7f4c61f-27db-40aa-9ca8-43deab48dbfd",
   "metadata": {},
   "outputs": [
    {
     "data": {
      "text/plain": [
       "3486784401"
      ]
     },
     "execution_count": 3,
     "metadata": {},
     "output_type": "execute_result"
    }
   ],
   "source": [
    "test(9,10)"
   ]
  },
  {
   "cell_type": "code",
   "execution_count": 5,
   "id": "8e27da66-81aa-4a10-8a09-bdcfa4145c65",
   "metadata": {},
   "outputs": [],
   "source": [
    "a=lambda n,p:n**p"
   ]
  },
  {
   "cell_type": "code",
   "execution_count": 6,
   "id": "dda34f8e-b09a-4b79-bdef-d6384d74364e",
   "metadata": {},
   "outputs": [
    {
     "data": {
      "text/plain": [
       "9"
      ]
     },
     "execution_count": 6,
     "metadata": {},
     "output_type": "execute_result"
    }
   ],
   "source": [
    "a(3,2)"
   ]
  },
  {
   "cell_type": "code",
   "execution_count": 7,
   "id": "eeea8ee9-42f4-448b-bc32-a85012701870",
   "metadata": {},
   "outputs": [
    {
     "data": {
      "text/plain": [
       "16807"
      ]
     },
     "execution_count": 7,
     "metadata": {},
     "output_type": "execute_result"
    }
   ],
   "source": [
    "a(7,5)"
   ]
  },
  {
   "cell_type": "code",
   "execution_count": 8,
   "id": "f46705cc-8445-45e3-bd30-c2928b049ea6",
   "metadata": {},
   "outputs": [
    {
     "data": {
      "text/plain": [
       "64"
      ]
     },
     "execution_count": 8,
     "metadata": {},
     "output_type": "execute_result"
    }
   ],
   "source": [
    "a(8,2)"
   ]
  },
  {
   "cell_type": "code",
   "execution_count": 9,
   "id": "a638cacc-fa34-46d8-b5f0-baddfa263b39",
   "metadata": {},
   "outputs": [],
   "source": [
    "b=lambda x,y:x+y"
   ]
  },
  {
   "cell_type": "code",
   "execution_count": 10,
   "id": "a02a9630-81fd-47bd-8aed-fb85aa6d6a80",
   "metadata": {},
   "outputs": [
    {
     "data": {
      "text/plain": [
       "15"
      ]
     },
     "execution_count": 10,
     "metadata": {},
     "output_type": "execute_result"
    }
   ],
   "source": [
    "b(12,3)"
   ]
  },
  {
   "cell_type": "code",
   "execution_count": 11,
   "id": "f08ba95c-273d-4585-94ca-0df5f35ae497",
   "metadata": {},
   "outputs": [],
   "source": [
    "c_to_f=lambda c:(9/5)*c+32"
   ]
  },
  {
   "cell_type": "code",
   "execution_count": 12,
   "id": "042b50f0-0fe2-4f46-943c-6b7e58b5a27c",
   "metadata": {},
   "outputs": [
    {
     "data": {
      "text/plain": [
       "93.2"
      ]
     },
     "execution_count": 12,
     "metadata": {},
     "output_type": "execute_result"
    }
   ],
   "source": [
    "c_to_f(34)"
   ]
  },
  {
   "cell_type": "code",
   "execution_count": 13,
   "id": "13cd9f8e-2fac-4aa7-9fda-495cf45c42d7",
   "metadata": {},
   "outputs": [],
   "source": [
    "s=\"krishna\"\n",
    "l=lambda s:len(s)"
   ]
  },
  {
   "cell_type": "code",
   "execution_count": 14,
   "id": "2bfd8fc2-e542-424b-a91a-4389b452a71d",
   "metadata": {},
   "outputs": [
    {
     "data": {
      "text/plain": [
       "7"
      ]
     },
     "execution_count": 14,
     "metadata": {},
     "output_type": "execute_result"
    }
   ],
   "source": [
    "l(s)"
   ]
  },
  {
   "cell_type": "code",
   "execution_count": null,
   "id": "6a9a9fa8-6465-4fee-9d40-49e2cf08400b",
   "metadata": {},
   "outputs": [],
   "source": []
  },
  {
   "cell_type": "markdown",
   "id": "36d5e95e-f225-4f81-a61b-0ecae194c438",
   "metadata": {},
   "source": [
    "MAP"
   ]
  },
  {
   "cell_type": "code",
   "execution_count": 2,
   "id": "a40c0d82-77a3-4dc7-9e4c-362fb47f867f",
   "metadata": {},
   "outputs": [],
   "source": [
    " l=[1,2,3,4,65,5,6]"
   ]
  },
  {
   "cell_type": "code",
   "execution_count": 3,
   "id": "337460b9-3d0f-4742-8d55-366478d0f05c",
   "metadata": {},
   "outputs": [],
   "source": [
    "def test(l):\n",
    "    l1=[]\n",
    "    for i in l:\n",
    "        l1.append(i**2)\n",
    "    return l1"
   ]
  },
  {
   "cell_type": "code",
   "execution_count": 4,
   "id": "151d09c2-80c7-4041-b980-37b1061df9ae",
   "metadata": {},
   "outputs": [
    {
     "data": {
      "text/plain": [
       "[1, 4, 9, 16, 4225, 25, 36]"
      ]
     },
     "execution_count": 4,
     "metadata": {},
     "output_type": "execute_result"
    }
   ],
   "source": [
    "test(l)"
   ]
  },
  {
   "cell_type": "code",
   "execution_count": 5,
   "id": "95a408cc-be0f-4977-af45-5126a1dd2fdc",
   "metadata": {},
   "outputs": [
    {
     "data": {
      "text/plain": [
       "[1, 4, 9, 16, 4225, 25, 36]"
      ]
     },
     "execution_count": 5,
     "metadata": {},
     "output_type": "execute_result"
    }
   ],
   "source": [
    "\n",
    "def sq(i):\n",
    "    return i**2\n",
    "list(map(sq ,l))"
   ]
  },
  {
   "cell_type": "code",
   "execution_count": 6,
   "id": "883674f9-6bba-4eae-98c8-7107c1871f48",
   "metadata": {},
   "outputs": [
    {
     "data": {
      "text/plain": [
       "[1, 4, 9, 16, 4225, 25, 36]"
      ]
     },
     "execution_count": 6,
     "metadata": {},
     "output_type": "execute_result"
    }
   ],
   "source": [
    "list(map(lambda x:x**2,l))"
   ]
  },
  {
   "cell_type": "code",
   "execution_count": 25,
   "id": "18abc802-17f7-40d1-99c3-40349f081030",
   "metadata": {},
   "outputs": [
    {
     "data": {
      "text/plain": [
       "[8, 16, 24, 32, 520, 40, 48]"
      ]
     },
     "execution_count": 25,
     "metadata": {},
     "output_type": "execute_result"
    }
   ],
   "source": [
    "list(map(lambda x:x*8,l))"
   ]
  },
  {
   "cell_type": "code",
   "execution_count": 26,
   "id": "602d6faf-a0c0-4ee0-a84f-5d9ef7f4ada8",
   "metadata": {},
   "outputs": [
    {
     "data": {
      "text/plain": [
       "['1', '2', '3', '4', '65', '5', '6']"
      ]
     },
     "execution_count": 26,
     "metadata": {},
     "output_type": "execute_result"
    }
   ],
   "source": [
    "list(map(lambda x:str(x),l))"
   ]
  },
  {
   "cell_type": "code",
   "execution_count": 27,
   "id": "569f8629-557c-4367-9df8-59c56169682d",
   "metadata": {},
   "outputs": [],
   "source": [
    "l1=[1,2,34,8]\n",
    "l2=[8,2,3,1]"
   ]
  },
  {
   "cell_type": "code",
   "execution_count": 32,
   "id": "4d0e5488-e80f-4b84-8516-33519093d442",
   "metadata": {},
   "outputs": [
    {
     "data": {
      "text/plain": [
       "[9, 4, 37, 9]"
      ]
     },
     "execution_count": 32,
     "metadata": {},
     "output_type": "execute_result"
    }
   ],
   "source": [
    "list(map(lambda x,y:x+y ,l1,l2))"
   ]
  },
  {
   "cell_type": "code",
   "execution_count": 34,
   "id": "9505bba6-cac9-4ea0-b930-18a83e18dddf",
   "metadata": {},
   "outputs": [
    {
     "data": {
      "text/plain": [
       "[9, 4, 37, 9]"
      ]
     },
     "execution_count": 34,
     "metadata": {},
     "output_type": "execute_result"
    }
   ],
   "source": [
    "list(map(f,l1,l2))"
   ]
  },
  {
   "cell_type": "code",
   "execution_count": 35,
   "id": "ea34c7cf-c345-41c8-810c-91e8d589ebba",
   "metadata": {},
   "outputs": [],
   "source": [
    "f=lambda x,y:x+y "
   ]
  },
  {
   "cell_type": "markdown",
   "id": "48162bcf-6900-425c-bfc4-566f4a508af1",
   "metadata": {},
   "source": []
  },
  {
   "cell_type": "markdown",
   "id": "504bf08b-67b9-4f1e-849f-ef21db1978d3",
   "metadata": {},
   "source": [
    "REDUCE\n"
   ]
  },
  {
   "cell_type": "code",
   "execution_count": 8,
   "id": "c0fcd22f-d506-4b2d-93d4-e0ce64cea847",
   "metadata": {},
   "outputs": [],
   "source": [
    "l=[1,2,3,4,7,4]"
   ]
  },
  {
   "cell_type": "code",
   "execution_count": 9,
   "id": "dbca040a-28b9-4f21-8ab9-a896d261c873",
   "metadata": {},
   "outputs": [],
   "source": [
    "from functools import reduce"
   ]
  },
  {
   "cell_type": "code",
   "execution_count": 10,
   "id": "c4925127-a127-4c7b-8381-0af1be2f60ea",
   "metadata": {},
   "outputs": [
    {
     "data": {
      "text/plain": [
       "21"
      ]
     },
     "execution_count": 10,
     "metadata": {},
     "output_type": "execute_result"
    }
   ],
   "source": [
    "reduce(lambda x,y:x+y,l)"
   ]
  },
  {
   "cell_type": "code",
   "execution_count": null,
   "id": "89720d02-4df7-48aa-bfd4-8a9c22972e9d",
   "metadata": {},
   "outputs": [],
   "source": [
    "\n"
   ]
  },
  {
   "cell_type": "code",
   "execution_count": 11,
   "id": "3d3cdd4c-2a26-42ad-a439-108fe4fc9f76",
   "metadata": {},
   "outputs": [
    {
     "ename": "NameError",
     "evalue": "name 'add' is not defined",
     "output_type": "error",
     "traceback": [
      "\u001b[0;31m---------------------------------------------------------------------------\u001b[0m",
      "\u001b[0;31mNameError\u001b[0m                                 Traceback (most recent call last)",
      "Cell \u001b[0;32mIn[11], line 1\u001b[0m\n\u001b[0;32m----> 1\u001b[0m reduce(\u001b[43madd\u001b[49m,l)\n",
      "\u001b[0;31mNameError\u001b[0m: name 'add' is not defined"
     ]
    }
   ],
   "source": [
    "reduce(add,l)"
   ]
  },
  {
   "cell_type": "code",
   "execution_count": 12,
   "id": "77013879-51ca-4528-adb6-180fd3185e26",
   "metadata": {},
   "outputs": [],
   "source": [
    "\n",
    "# onlu two argumenr at any point of time"
   ]
  },
  {
   "cell_type": "code",
   "execution_count": 15,
   "id": "0297e27d-cf3c-490d-adfb-85b9ffe191dc",
   "metadata": {},
   "outputs": [
    {
     "data": {
      "text/plain": [
       "21"
      ]
     },
     "execution_count": 15,
     "metadata": {},
     "output_type": "execute_result"
    }
   ],
   "source": [
    "reduce (lambda x,y : x+y ,l)\n",
    "\n"
   ]
  },
  {
   "cell_type": "code",
   "execution_count": 16,
   "id": "e15556d1-e798-46f6-a9a8-abddfff9d54c",
   "metadata": {},
   "outputs": [
    {
     "data": {
      "text/plain": [
       "7"
      ]
     },
     "execution_count": 16,
     "metadata": {},
     "output_type": "execute_result"
    }
   ],
   "source": [
    "reduce (lambda x,y : x if x>y else y ,l)"
   ]
  },
  {
   "cell_type": "markdown",
   "id": "f8049f69-1864-48db-8f5f-57d289488f59",
   "metadata": {},
   "source": [
    "FILTER"
   ]
  },
  {
   "cell_type": "code",
   "execution_count": 19,
   "id": "9cd7fb62-ec32-4060-8437-b8cfb6564884",
   "metadata": {},
   "outputs": [
    {
     "data": {
      "text/plain": [
       "[2, 4, 4]"
      ]
     },
     "execution_count": 19,
     "metadata": {},
     "output_type": "execute_result"
    }
   ],
   "source": [
    "list(filter(lambda x :x%2==0,l))"
   ]
  },
  {
   "cell_type": "code",
   "execution_count": 20,
   "id": "3084d682-72e1-4771-aecb-719f70ae75af",
   "metadata": {},
   "outputs": [],
   "source": [
    "l2=[\"my\",\"gbbjn\",\"kl\"]"
   ]
  },
  {
   "cell_type": "code",
   "execution_count": 22,
   "id": "131e6581-9c25-43d4-a927-6c5cd34b3bd0",
   "metadata": {},
   "outputs": [
    {
     "data": {
      "text/plain": [
       "['gbbjn']"
      ]
     },
     "execution_count": 22,
     "metadata": {},
     "output_type": "execute_result"
    }
   ],
   "source": [
    "list(filter(lambda x:len(x)>3 ,l2))"
   ]
  },
  {
   "cell_type": "code",
   "execution_count": null,
   "id": "774d273c-19f1-428b-a114-eb1e241d8f9f",
   "metadata": {},
   "outputs": [],
   "source": []
  }
 ],
 "metadata": {
  "kernelspec": {
   "display_name": "Python 3 (ipykernel)",
   "language": "python",
   "name": "python3"
  },
  "language_info": {
   "codemirror_mode": {
    "name": "ipython",
    "version": 3
   },
   "file_extension": ".py",
   "mimetype": "text/x-python",
   "name": "python",
   "nbconvert_exporter": "python",
   "pygments_lexer": "ipython3",
   "version": "3.10.8"
  }
 },
 "nbformat": 4,
 "nbformat_minor": 5
}
