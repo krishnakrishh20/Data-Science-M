{
 "cells": [
  {
   "cell_type": "markdown",
   "id": "1d93fe8d-dcfc-4518-a1c1-5e65531d6e41",
   "metadata": {},
   "source": [
    "### Q1, Create a vehicle class with an init method having instance variables as name_of_vehicle, max_speed and average_of_vehicle."
   ]
  },
  {
   "cell_type": "code",
   "execution_count": 38,
   "id": "f3cdb815-c500-42de-afee-e7d8733f1c72",
   "metadata": {},
   "outputs": [],
   "source": [
    "class vehicle:\n",
    "    def __init__(self,name_of_vehicle,max_speed,average_of_vehicle):\n",
    "        self.name_of_vehicle=name_of_vehicle\n",
    "        self.max_speed=max_speed\n",
    "        self.average_of_vehicle=average_of_vehicle\n",
    "        \n",
    "        \n",
    "        \n",
    "    def name(self,name_of_vehicle):\n",
    "        print(\"name of vehicle {}\".format(name_of_vehicle))\n",
    "        \n",
    "        \n",
    "\n",
    "        \n",
    "    \n",
    "        "
   ]
  },
  {
   "cell_type": "code",
   "execution_count": 39,
   "id": "46434b52-2ca9-4491-9948-c6096ffb976e",
   "metadata": {},
   "outputs": [],
   "source": [
    "obj_of_vehicle=vehicle(\"car\",60,4)"
   ]
  },
  {
   "cell_type": "code",
   "execution_count": 40,
   "id": "5a7e8a20-f882-43df-9eaa-62cfcb6c4ea4",
   "metadata": {},
   "outputs": [
    {
     "data": {
      "text/plain": [
       "'car'"
      ]
     },
     "execution_count": 40,
     "metadata": {},
     "output_type": "execute_result"
    }
   ],
   "source": [
    "obj_of_vehicle.name_of_vehicle"
   ]
  },
  {
   "cell_type": "code",
   "execution_count": 41,
   "id": "fc0296a4-6a08-48d8-af0f-e9e73a7db517",
   "metadata": {},
   "outputs": [
    {
     "data": {
      "text/plain": [
       "60"
      ]
     },
     "execution_count": 41,
     "metadata": {},
     "output_type": "execute_result"
    }
   ],
   "source": [
    "obj_of_vehicle.max_speed"
   ]
  },
  {
   "cell_type": "code",
   "execution_count": 42,
   "id": "f1ebce7d-d93e-44ae-93d3-ad5b87448dc3",
   "metadata": {},
   "outputs": [
    {
     "data": {
      "text/plain": [
       "4"
      ]
     },
     "execution_count": 42,
     "metadata": {},
     "output_type": "execute_result"
    }
   ],
   "source": [
    "obj_of_vehicle.average_of_vehicle"
   ]
  },
  {
   "cell_type": "markdown",
   "id": "22ffb23f-5586-4bb0-9795-525287db1654",
   "metadata": {},
   "source": [
    "### Q2. Create a child class car from the vehicle class created in Que 1, which will inherit the vehicle class.Create a method named seating_capacity which takes capacity as an argument and returns the name of the vehicle and its seating capacity."
   ]
  },
  {
   "cell_type": "code",
   "execution_count": 43,
   "id": "a9b70dd8-cee8-4dbd-840b-3e162dc4c2a3",
   "metadata": {},
   "outputs": [],
   "source": [
    "class car(vehicle):\n",
    "    def seating_capacity(self,capacity):\n",
    "        self.capacity=capacity\n",
    "        \n",
    "        \n",
    "        print(\"{} seating capacity is {}\".format(self.name_of_vehicle,self.capacity))\n",
    "    \n",
    "    \n",
    "        \n",
    "        "
   ]
  },
  {
   "cell_type": "code",
   "execution_count": 44,
   "id": "70a64ff3-e386-4a43-ac12-7317d8587f57",
   "metadata": {},
   "outputs": [],
   "source": [
    "obj_of_car=car(\"car\",60,4)"
   ]
  },
  {
   "cell_type": "code",
   "execution_count": 45,
   "id": "2d58d7f4-fe55-4e51-86af-040efc41f886",
   "metadata": {},
   "outputs": [
    {
     "name": "stdout",
     "output_type": "stream",
     "text": [
      "car seating capacity is 4\n"
     ]
    }
   ],
   "source": [
    "obj_of_car.seating_capacity(4)"
   ]
  },
  {
   "cell_type": "markdown",
   "id": "322c647e-5c48-4de4-921b-001ece1f8fb0",
   "metadata": {},
   "source": [
    "### What is multiple inheritance? Write a python code to demonstrate multiple inheritance."
   ]
  },
  {
   "cell_type": "raw",
   "id": "30967331-b012-4c24-99e2-414493ebf3db",
   "metadata": {},
   "source": [
    "multiple inheritance is where the child class inherits from different parent class"
   ]
  },
  {
   "cell_type": "code",
   "execution_count": 86,
   "id": "22a7eaf0-0dc1-43be-87d7-5b02328eecf6",
   "metadata": {},
   "outputs": [],
   "source": [
    "class father:\n",
    "    def pt1(self,birthday):\n",
    "        self.birthday=birthday\n",
    "        print(\"{} is his bithday\".format(self.birthday))"
   ]
  },
  {
   "cell_type": "code",
   "execution_count": 91,
   "id": "bb72bd4a-2214-4bdd-b13b-09a020a71f69",
   "metadata": {},
   "outputs": [],
   "source": [
    "class Mother:\n",
    "    def pt2(self,birthday):\n",
    "        self.birthday=birthday\n",
    "        \n",
    "        print(\"{} is her birthday\".format(self.birthday))"
   ]
  },
  {
   "cell_type": "code",
   "execution_count": 97,
   "id": "465ff9fe-1890-4372-a9e4-4518ab2c2ff6",
   "metadata": {},
   "outputs": [],
   "source": [
    "class child(father,Mother):\n",
    "    def pt3(self,birthday):\n",
    "        self.birthday=birthday\n",
    "        print(\"{} is my bithday\".format(self.birthday))"
   ]
  },
  {
   "cell_type": "code",
   "execution_count": 98,
   "id": "23324d47-891e-44cf-8b6d-cd400a62b44e",
   "metadata": {},
   "outputs": [],
   "source": [
    "ob_child=child()"
   ]
  },
  {
   "cell_type": "code",
   "execution_count": 99,
   "id": "3a05457b-9f51-4f20-a894-fedf9ee994f5",
   "metadata": {},
   "outputs": [
    {
     "name": "stdout",
     "output_type": "stream",
     "text": [
      "8/9/1975 is his bithday\n"
     ]
    }
   ],
   "source": [
    "ob_child.pt1(\"8/9/1975\")"
   ]
  },
  {
   "cell_type": "code",
   "execution_count": 100,
   "id": "d58337fa-245c-483f-899a-8661a24214ae",
   "metadata": {},
   "outputs": [
    {
     "name": "stdout",
     "output_type": "stream",
     "text": [
      "4/3/1978 is her birthday\n"
     ]
    }
   ],
   "source": [
    "ob_child.pt2(\"4/3/1978\")"
   ]
  },
  {
   "cell_type": "markdown",
   "id": "fce32966-dbc3-437f-9772-d1c6564a779e",
   "metadata": {},
   "source": [
    "### Q4. What are getter and setter in python? Create a class and create a getter and a setter method in this class."
   ]
  },
  {
   "cell_type": "markdown",
   "id": "4d2a9c82-2c54-49b5-bab2-8ba27ae2bbba",
   "metadata": {},
   "source": [
    "##### Getters: These are the methods used in Object-Oriented Programming (OOPS) which helps to access the private attributes from a class.\n",
    "##### Setters: These are the methods used in OOPS feature which helps to set the value to private attributes in a class."
   ]
  },
  {
   "cell_type": "code",
   "execution_count": 136,
   "id": "15454a98-dbe4-4278-ba98-99f8a2396a22",
   "metadata": {},
   "outputs": [],
   "source": [
    "class class1:\n",
    "    def __init__(self,a,b):\n",
    "        self.__a=a\n",
    "        self.__b=b\n",
    "        \n",
    "    \n",
    "    \n",
    "    def set_ab(self,a,b):\n",
    "        self.__a=a+self.__a\n",
    "        self.__b=b+self.__b\n",
    "        \n",
    "    def get_ab(self):\n",
    "        return self.__a,self.__b"
   ]
  },
  {
   "cell_type": "code",
   "execution_count": 137,
   "id": "b2fa7c74-6257-44b2-9144-6430ce200af4",
   "metadata": {},
   "outputs": [],
   "source": [
    "ob_class1=class1(10,11)"
   ]
  },
  {
   "cell_type": "code",
   "execution_count": 138,
   "id": "87f07892-cc01-4ccc-8c44-8c4d9b74845f",
   "metadata": {},
   "outputs": [
    {
     "data": {
      "text/plain": [
       "(10, 11)"
      ]
     },
     "execution_count": 138,
     "metadata": {},
     "output_type": "execute_result"
    }
   ],
   "source": [
    "ob_class1.get_ab()"
   ]
  },
  {
   "cell_type": "code",
   "execution_count": 139,
   "id": "e458d96e-e66b-4805-bcc9-37c7b4a8c0f5",
   "metadata": {},
   "outputs": [],
   "source": [
    "ob_class1.set_ab(1,2)"
   ]
  },
  {
   "cell_type": "code",
   "execution_count": 140,
   "id": "7610c54d-b572-4d8a-86a2-9301fbffd53c",
   "metadata": {},
   "outputs": [
    {
     "data": {
      "text/plain": [
       "(11, 13)"
      ]
     },
     "execution_count": 140,
     "metadata": {},
     "output_type": "execute_result"
    }
   ],
   "source": [
    "ob_class1.get_ab()"
   ]
  },
  {
   "cell_type": "markdown",
   "id": "045108de-858d-4fb8-942a-1a34aea5ea0a",
   "metadata": {},
   "source": [
    "### Q5.What is method overriding in python? Write a python code to demonstrate method overriding."
   ]
  },
  {
   "cell_type": "code",
   "execution_count": 143,
   "id": "5b9845ec-5058-4459-a9e3-e24cd7b79092",
   "metadata": {},
   "outputs": [],
   "source": [
    "class father:\n",
    "    def pt1(self,birthday):\n",
    "        self.birthday=birthday\n",
    "        print(\"{} is his bithday\".format(self.birthday))\n",
    "        \n",
    "class child(father):\n",
    "    def pt1(self,birthday):\n",
    "        self.birthday=birthday\n",
    "        print(\"{} is my bithday\".format(self.birthday))"
   ]
  },
  {
   "cell_type": "code",
   "execution_count": 144,
   "id": "c167de22-89f2-4bd7-9b7d-c1d92624ecd9",
   "metadata": {},
   "outputs": [],
   "source": [
    "obj_class=child()"
   ]
  },
  {
   "cell_type": "code",
   "execution_count": 145,
   "id": "4c163f72-2f60-498d-bad1-7c2c2e4f113e",
   "metadata": {},
   "outputs": [
    {
     "name": "stdout",
     "output_type": "stream",
     "text": [
      "4/2/18 is my bithday\n"
     ]
    }
   ],
   "source": [
    "obj_class.pt1(\"4/2/18\")"
   ]
  },
  {
   "cell_type": "raw",
   "id": "ce8fbe62-1d73-4672-8760-cc0fa2359414",
   "metadata": {},
   "source": [
    "Method Overriding in Python is an OOPs concept closely related to inheritance. When a child class method overrides(or, provides it's own implementation) the parent class method of the same name, parameters and return type, it is known as method overriding.\n",
    "\n",
    "In this case, the child class's method is called the overriding method and the parent class's method is called the overriden method.\n",
    "\n",
    "Method overriding is completely different from the concept of method overloading. Method overloading occurs when there are two functions with the same name but different parameters. And, method overloading is not directly supported in Python.\n",
    "\n",
    "Parent class: The class being inherited is called the Parent or Superclass.\n",
    "\n",
    "Child class : The class that inherits the properties and methods of the parent class is called the Child or Subclass."
   ]
  },
  {
   "cell_type": "code",
   "execution_count": null,
   "id": "c9ee15f0-3717-4c89-b130-f1a0d0d3f4f5",
   "metadata": {},
   "outputs": [],
   "source": []
  }
 ],
 "metadata": {
  "kernelspec": {
   "display_name": "Python 3 (ipykernel)",
   "language": "python",
   "name": "python3"
  },
  "language_info": {
   "codemirror_mode": {
    "name": "ipython",
    "version": 3
   },
   "file_extension": ".py",
   "mimetype": "text/x-python",
   "name": "python",
   "nbconvert_exporter": "python",
   "pygments_lexer": "ipython3",
   "version": "3.10.8"
  }
 },
 "nbformat": 4,
 "nbformat_minor": 5
}
