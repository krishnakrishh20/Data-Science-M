{
 "cells": [
  {
   "cell_type": "markdown",
   "id": "e95a96c9-4627-4258-9071-ae2c0c80eee8",
   "metadata": {},
   "source": [
    "### 1.Which keyword is used to create a function? Create a function to return a list of odd numbers in therange of 1 to 25."
   ]
  },
  {
   "cell_type": "raw",
   "id": "0ce869ba-ef96-471e-8791-aa8b7e0ab0e2",
   "metadata": {},
   "source": [
    "keyword used to create a function- def"
   ]
  },
  {
   "cell_type": "code",
   "execution_count": 29,
   "id": "100d1a22-15dc-4fa1-bd36-f569ee34bf37",
   "metadata": {},
   "outputs": [],
   "source": [
    "def ret_odd():\n",
    "    \n",
    "    nl=[]\n",
    "    for i in range(0,26):\n",
    "        if i%2 !=0:\n",
    "            nl.append(i)\n",
    "    return nl\n",
    "        "
   ]
  },
  {
   "cell_type": "code",
   "execution_count": 32,
   "id": "a08af86e-a7af-426f-8c30-53451257ac53",
   "metadata": {},
   "outputs": [
    {
     "data": {
      "text/plain": [
       "[1, 3, 5, 7, 9, 11, 13, 15, 17, 19, 21, 23, 25]"
      ]
     },
     "execution_count": 32,
     "metadata": {},
     "output_type": "execute_result"
    }
   ],
   "source": [
    "ret_odd()"
   ]
  },
  {
   "cell_type": "code",
   "execution_count": null,
   "id": "0fae4ad2-453f-4972-aa6d-028240a5b54d",
   "metadata": {},
   "outputs": [],
   "source": []
  },
  {
   "cell_type": "markdown",
   "id": "b93a287c-068e-4261-8ebf-d59810ebad8d",
   "metadata": {},
   "source": [
    "### 2.Why *args and **kwargs is used in some functions? Create a function each for *args and **kwargs to demonstrate their use."
   ]
  },
  {
   "cell_type": "raw",
   "id": "6f384b03-c4a4-4a2d-bf62-2bc89157dbf1",
   "metadata": {},
   "source": [
    "*args and *kwargs are unsed in some functions to pass any number of arguments and any no. of key-value pair arguments"
   ]
  },
  {
   "cell_type": "code",
   "execution_count": 42,
   "id": "7c0020cc-ac84-4cfc-b886-5be7a9c9ff44",
   "metadata": {},
   "outputs": [],
   "source": [
    "## return even num\n",
    "\n",
    "def ret_ty(*args):\n",
    "    return(type(args))\n",
    "        \n",
    "    "
   ]
  },
  {
   "cell_type": "code",
   "execution_count": 43,
   "id": "380bda4f-b302-4123-8950-f1161af34e7f",
   "metadata": {},
   "outputs": [
    {
     "data": {
      "text/plain": [
       "tuple"
      ]
     },
     "execution_count": 43,
     "metadata": {},
     "output_type": "execute_result"
    }
   ],
   "source": [
    "ret_ty(1,3,\"i\")"
   ]
  },
  {
   "cell_type": "code",
   "execution_count": 47,
   "id": "5804d736-569e-4377-9c5b-cee2a1f16d7b",
   "metadata": {},
   "outputs": [],
   "source": [
    "def ret_ty(*args):\n",
    "    n=[]\n",
    "    for i in args:\n",
    "        n.append(type(args))\n",
    "    return n"
   ]
  },
  {
   "cell_type": "code",
   "execution_count": 48,
   "id": "84749a9c-99fc-4dae-a00f-ab996e6bbdf5",
   "metadata": {},
   "outputs": [
    {
     "data": {
      "text/plain": [
       "[tuple, tuple, tuple, tuple]"
      ]
     },
     "execution_count": 48,
     "metadata": {},
     "output_type": "execute_result"
    }
   ],
   "source": [
    "ret_ty(\"kp\",1,2,3)"
   ]
  },
  {
   "cell_type": "code",
   "execution_count": 63,
   "id": "ea698363-9acb-4cc3-aadd-16b940ad465b",
   "metadata": {},
   "outputs": [],
   "source": [
    "def testk1(**kwargs):\n",
    "    n=[]\n",
    "    for i in kwargs.keys():\n",
    "        if type(kwargs[i])==list:\n",
    "            return i,kwargs[i]"
   ]
  },
  {
   "cell_type": "code",
   "execution_count": 65,
   "id": "1df35a57-8756-4a63-8a0c-39d2842a3a5d",
   "metadata": {},
   "outputs": [
    {
     "data": {
      "text/plain": [
       "('c', [1, 2, 3])"
      ]
     },
     "execution_count": 65,
     "metadata": {},
     "output_type": "execute_result"
    }
   ],
   "source": [
    "testk1(a=3333334,b=7,c=[1,2,3],d=(\"krishna\",\"pw\"))"
   ]
  },
  {
   "cell_type": "code",
   "execution_count": 71,
   "id": "52db8449-6027-429e-9e20-a9285066f5d2",
   "metadata": {},
   "outputs": [],
   "source": [
    "def testk1_args(**kwargs):\n",
    "    n=[]\n",
    "    for i in kwargs.keys():\n",
    "        return type(kwargs[i])\n",
    "            "
   ]
  },
  {
   "cell_type": "code",
   "execution_count": 72,
   "id": "fd8b8c5f-0848-4201-a9c3-4f149c49e649",
   "metadata": {},
   "outputs": [
    {
     "data": {
      "text/plain": [
       "int"
      ]
     },
     "execution_count": 72,
     "metadata": {},
     "output_type": "execute_result"
    }
   ],
   "source": [
    "testk1_args(a=3333334,b=7,c=[1,2,3],d=(\"krishna\",\"pw\"))"
   ]
  },
  {
   "cell_type": "markdown",
   "id": "9087f4ea-dd07-4fe8-896a-c291f8918180",
   "metadata": {},
   "source": [
    "### What is an iterator in python? Name the method used to initialise the iterator object and the method used for iteration. Use these methods to print the first five elements of the given list [2, 4, 6, 8, 10, 12, 14, 16,\n",
    "18, 20]."
   ]
  },
  {
   "cell_type": "markdown",
   "id": "e3f66ea9-9394-4028-9787-4a07e93a1cfd",
   "metadata": {},
   "source": [
    "Iterator in Python is an object that is used to iterate over iterable objects like lists, tuples, dicts, and sets. The iterator object is initialized using the iter() method. It uses the next() method for iteration.\n"
   ]
  },
  {
   "cell_type": "code",
   "execution_count": 78,
   "id": "a2b75945-66c4-448e-a984-09865630049a",
   "metadata": {},
   "outputs": [
    {
     "name": "stdout",
     "output_type": "stream",
     "text": [
      "2\n",
      "4\n",
      "6\n",
      "8\n",
      "10\n"
     ]
    }
   ],
   "source": [
    "l=[2, 4, 6, 8, 10, 12, 14, 16,\n",
    "18, 20]\n",
    "\n",
    "inlist=iter(l)\n",
    "print(next(iter(inlist)))\n",
    "print(next(iter(inlist)))\n",
    "print(next(iter(inlist)))\n",
    "print(next(iter(inlist)))\n",
    "print(next(iter(inlist)))\n",
    "\n"
   ]
  },
  {
   "cell_type": "markdown",
   "id": "29117e57-cff1-48f8-8100-dd07fc130b25",
   "metadata": {},
   "source": [
    "### 4.What is a generator function in python? Why yield keyword is used? Give an example of a generator function."
   ]
  },
  {
   "cell_type": "raw",
   "id": "2836e8d7-5132-475c-aafb-c37a13908a8e",
   "metadata": {},
   "source": [
    "they allow you to define an iterative algorithm by writing a single function whose execution is not continuous\n",
    "\n",
    "yield keyword is used to create a generator function. A type of function that is memory efficient and can be used like an iterator object\n",
    "\n",
    "yield key word is used to return the same value that is provided"
   ]
  },
  {
   "cell_type": "code",
   "execution_count": 79,
   "id": "4bd1a9da-5556-4b11-8bf7-ba40004341b2",
   "metadata": {},
   "outputs": [],
   "source": [
    "def test_fib(n):\n",
    "    a,b=0,1\n",
    "    for i in range(0,n):\n",
    "        yield a\n",
    "        a,b=b,a+b"
   ]
  },
  {
   "cell_type": "markdown",
   "id": "9ac3be6a-137f-49ff-9603-5b11400c016e",
   "metadata": {},
   "source": [
    "### 5.Create a generator function for prime numbers less than 1000. Use the next() method to print thefirst 20 prime numbers."
   ]
  },
  {
   "cell_type": "code",
   "execution_count": 101,
   "id": "94f36f84-42aa-4653-82d7-a58763a611cd",
   "metadata": {},
   "outputs": [],
   "source": [
    "def gener_func(n):\n",
    "    \n",
    "    for i in range(2,n):\n",
    "        for j in range(2,int((i/2))):\n",
    "              if i%j!=0:\n",
    "                    yield j\n",
    "    \n",
    "    \n",
    "    "
   ]
  },
  {
   "cell_type": "code",
   "execution_count": 102,
   "id": "aba59d03-bc6b-433f-b09d-59a705b72c7f",
   "metadata": {},
   "outputs": [
    {
     "name": "stdout",
     "output_type": "stream",
     "text": [
      "2\n",
      "3\n",
      "2\n",
      "3\n",
      "4\n",
      "2\n",
      "3\n",
      "4\n",
      "5\n",
      "2\n",
      "3\n",
      "4\n",
      "5\n",
      "3\n",
      "4\n",
      "5\n",
      "6\n",
      "2\n",
      "4\n",
      "6\n",
      "3\n",
      "5\n",
      "6\n",
      "7\n",
      "2\n",
      "3\n",
      "4\n",
      "5\n",
      "6\n",
      "7\n",
      "4\n",
      "5\n",
      "7\n",
      "8\n",
      "2\n",
      "3\n",
      "4\n",
      "5\n",
      "6\n",
      "7\n",
      "8\n"
     ]
    }
   ],
   "source": [
    "for i in gener_func(20):\n",
    "    print (i)\n",
    "    "
   ]
  },
  {
   "cell_type": "code",
   "execution_count": 96,
   "id": "86e6b1b6-dae7-4a55-84b9-941ebc052f7c",
   "metadata": {},
   "outputs": [
    {
     "ename": "SyntaxError",
     "evalue": "'yield' outside function (844584096.py, line 4)",
     "output_type": "error",
     "traceback": [
      "\u001b[0;36m  Cell \u001b[0;32mIn[96], line 4\u001b[0;36m\u001b[0m\n\u001b[0;31m    yield i\u001b[0m\n\u001b[0m    ^\u001b[0m\n\u001b[0;31mSyntaxError\u001b[0m\u001b[0;31m:\u001b[0m 'yield' outside function\n"
     ]
    }
   ],
   "source": [
    "for i in range(1,20):\n",
    "    for j in range(2,(i/2)):\n",
    "        if i%j!=0:\n",
    "            yield i\n",
    "            \n",
    "        \n",
    "        "
   ]
  },
  {
   "cell_type": "code",
   "execution_count": null,
   "id": "25b7f03a-42b6-4a08-9113-a442be0b565b",
   "metadata": {},
   "outputs": [],
   "source": [
    "2,3,5,7,11,13,17\n",
    "3-----1,3\n",
    "4-----1,2,4\n",
    "6-----1,2,3,6\n",
    "    "
   ]
  }
 ],
 "metadata": {
  "kernelspec": {
   "display_name": "Python 3 (ipykernel)",
   "language": "python",
   "name": "python3"
  },
  "language_info": {
   "codemirror_mode": {
    "name": "ipython",
    "version": 3
   },
   "file_extension": ".py",
   "mimetype": "text/x-python",
   "name": "python",
   "nbconvert_exporter": "python",
   "pygments_lexer": "ipython3",
   "version": "3.10.8"
  }
 },
 "nbformat": 4,
 "nbformat_minor": 5
}
