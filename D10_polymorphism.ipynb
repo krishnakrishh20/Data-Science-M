{
 "cells": [
  {
   "cell_type": "code",
   "execution_count": 2,
   "id": "196cc50d-ad1b-409a-8909-0831de7f959e",
   "metadata": {},
   "outputs": [],
   "source": [
    "def test(a,b):\n",
    "    return a+b"
   ]
  },
  {
   "cell_type": "code",
   "execution_count": 3,
   "id": "611e3183-be2c-42d2-892b-4f27edc559f9",
   "metadata": {},
   "outputs": [
    {
     "data": {
      "text/plain": [
       "5"
      ]
     },
     "execution_count": 3,
     "metadata": {},
     "output_type": "execute_result"
    }
   ],
   "source": [
    "test(1,4)"
   ]
  },
  {
   "cell_type": "code",
   "execution_count": 5,
   "id": "af65ddfa-a811-478d-8f0d-63c425361101",
   "metadata": {},
   "outputs": [
    {
     "data": {
      "text/plain": [
       "'my name'"
      ]
     },
     "execution_count": 5,
     "metadata": {},
     "output_type": "execute_result"
    }
   ],
   "source": [
    "test(\"my\",\" name\")"
   ]
  },
  {
   "cell_type": "code",
   "execution_count": 6,
   "id": "c9031ebe-16ae-4623-90fc-dfa9bfb058a6",
   "metadata": {},
   "outputs": [],
   "source": [
    "#mutliple characteristics\n"
   ]
  },
  {
   "cell_type": "code",
   "execution_count": 7,
   "id": "347f605f-255e-4af2-bba9-246cfdf2e542",
   "metadata": {},
   "outputs": [
    {
     "data": {
      "text/plain": [
       "[1, 2, 3, 'krishna', 6, 7]"
      ]
     },
     "execution_count": 7,
     "metadata": {},
     "output_type": "execute_result"
    }
   ],
   "source": [
    "test([1,2,3,\"krishna\"],[6,7])"
   ]
  },
  {
   "cell_type": "code",
   "execution_count": 30,
   "id": "9d237e86-e41b-445f-82c3-db7a25a71b16",
   "metadata": {},
   "outputs": [],
   "source": [
    "class data_science:\n",
    "    def syllabus(self):\n",
    "        print(\"this is my method for data science syllabus\")\n",
    "        "
   ]
  },
  {
   "cell_type": "code",
   "execution_count": 31,
   "id": "d47f0472-4701-4bf1-8568-a31da3f90086",
   "metadata": {},
   "outputs": [],
   "source": [
    "class web_dev:\n",
    "    def syllabus(self):\n",
    "        print(\"this is my method for web dev syllabus \")"
   ]
  },
  {
   "cell_type": "code",
   "execution_count": 32,
   "id": "943f2f55-4caa-41d7-a044-2c8e84d42b5f",
   "metadata": {},
   "outputs": [],
   "source": [
    "def class_parcer(class_obj):\n",
    "    for i in class_obj:\n",
    "        i.syllabus()"
   ]
  },
  {
   "cell_type": "code",
   "execution_count": 33,
   "id": "9b487b97-cab5-4b77-be87-a6a4b4f35bf6",
   "metadata": {},
   "outputs": [],
   "source": [
    "obj_web_dev=web_dev()"
   ]
  },
  {
   "cell_type": "code",
   "execution_count": 37,
   "id": "0a36ffa8-d206-4cda-adb6-5aafb05079a4",
   "metadata": {},
   "outputs": [],
   "source": [
    "obj_data_science=data_science()"
   ]
  },
  {
   "cell_type": "code",
   "execution_count": 38,
   "id": "49c05820-0d82-486a-acfc-e74787b89a5c",
   "metadata": {},
   "outputs": [],
   "source": [
    "class_obj=[obj_web_dev,obj_data_science]"
   ]
  },
  {
   "cell_type": "code",
   "execution_count": 40,
   "id": "5d0b3fa5-ade5-4348-b223-4225644eb856",
   "metadata": {},
   "outputs": [
    {
     "name": "stdout",
     "output_type": "stream",
     "text": [
      "this is my method for web dev syllabus \n",
      "this is my method for data science syllabus\n"
     ]
    }
   ],
   "source": [
    "class_parcer(class_obj)"
   ]
  },
  {
   "cell_type": "code",
   "execution_count": null,
   "id": "2fab6e88-6dcf-46f9-bdb8-1711f2535d13",
   "metadata": {},
   "outputs": [],
   "source": []
  },
  {
   "cell_type": "markdown",
   "id": "d672e26a-329b-4e7f-9088-3b63bd075ae9",
   "metadata": {},
   "source": [
    "### ENCAPUSALATION"
   ]
  },
  {
   "cell_type": "code",
   "execution_count": 41,
   "id": "7344b180-b12a-4cf3-bfd4-448731dfabac",
   "metadata": {},
   "outputs": [],
   "source": [
    "class test:\n",
    "    def __init__(self,a,b):\n",
    "        self.a=a\n",
    "        self.b=b"
   ]
  },
  {
   "cell_type": "code",
   "execution_count": 42,
   "id": "0015b576-2e0f-4467-a21d-21fe6fc7e5a8",
   "metadata": {},
   "outputs": [],
   "source": [
    "t=test(45,56)"
   ]
  },
  {
   "cell_type": "code",
   "execution_count": 43,
   "id": "b84bf4c4-a10a-4de9-a50b-ac121ca50a1b",
   "metadata": {},
   "outputs": [
    {
     "data": {
      "text/plain": [
       "45"
      ]
     },
     "execution_count": 43,
     "metadata": {},
     "output_type": "execute_result"
    }
   ],
   "source": [
    "t.a"
   ]
  },
  {
   "cell_type": "code",
   "execution_count": 44,
   "id": "fb8b4fd9-056a-4cdf-b872-e723b6fa6cd9",
   "metadata": {},
   "outputs": [
    {
     "data": {
      "text/plain": [
       "56"
      ]
     },
     "execution_count": 44,
     "metadata": {},
     "output_type": "execute_result"
    }
   ],
   "source": [
    "t.b"
   ]
  },
  {
   "cell_type": "code",
   "execution_count": 45,
   "id": "123c2c63-5e8a-4b04-95d1-1593a5e9703d",
   "metadata": {},
   "outputs": [],
   "source": [
    "t.a=133"
   ]
  },
  {
   "cell_type": "code",
   "execution_count": 46,
   "id": "b474e94c-092a-4382-96c0-39ad7e1e9130",
   "metadata": {},
   "outputs": [],
   "source": [
    "#prevent anykind of direct access or change data"
   ]
  },
  {
   "cell_type": "code",
   "execution_count": 96,
   "id": "d516d571-5513-4878-b24a-a33b31ef53c8",
   "metadata": {},
   "outputs": [],
   "source": [
    "class car:\n",
    "    def __init__(self,year,make,model,speed):\n",
    "        self.__year=year\n",
    "        self.__make=make\n",
    "        self.__model=model\n",
    "        self.__speed=0\n",
    "        # made private\n",
    "        \n",
    "    def set_speed(self,speed):\n",
    "        self.__speed=0 if speed<0 else speed"
   ]
  },
  {
   "cell_type": "code",
   "execution_count": 97,
   "id": "ab794f1e-3d41-4e9a-92dd-0fd0a9a2af03",
   "metadata": {},
   "outputs": [],
   "source": [
    "obj_car=car(2021,\"Cheverlett\",\"cruze\",30)"
   ]
  },
  {
   "cell_type": "code",
   "execution_count": 98,
   "id": "67f3b91c-91b4-4ba7-b1d0-5b9dd48a4f17",
   "metadata": {},
   "outputs": [],
   "source": [
    "obj_car._car__year=2023\n"
   ]
  },
  {
   "cell_type": "code",
   "execution_count": 99,
   "id": "e2e89381-b589-4c5e-9175-5b1060c39504",
   "metadata": {},
   "outputs": [
    {
     "data": {
      "text/plain": [
       "2023"
      ]
     },
     "execution_count": 99,
     "metadata": {},
     "output_type": "execute_result"
    }
   ],
   "source": [
    "obj_car._car__year"
   ]
  },
  {
   "cell_type": "code",
   "execution_count": 100,
   "id": "3b7d80e2-cad8-4c7d-9deb-12cd1dfa2147",
   "metadata": {},
   "outputs": [],
   "source": [
    "obj_car.set_speed(-3788)"
   ]
  },
  {
   "cell_type": "code",
   "execution_count": 101,
   "id": "f0cbae51-765f-41e4-80d0-3e0d1b94d4ea",
   "metadata": {},
   "outputs": [],
   "source": [
    "obj_car.set_speed(40)"
   ]
  },
  {
   "cell_type": "code",
   "execution_count": 102,
   "id": "8643ad61-908b-4997-ae43-9687afa8f49b",
   "metadata": {},
   "outputs": [
    {
     "data": {
      "text/plain": [
       "40"
      ]
     },
     "execution_count": 102,
     "metadata": {},
     "output_type": "execute_result"
    }
   ],
   "source": [
    "obj_car.set_speed\n",
    "obj_car._car__speed"
   ]
  },
  {
   "cell_type": "code",
   "execution_count": 103,
   "id": "5258fdbc-e667-4656-a42e-fecaaa6e36c0",
   "metadata": {},
   "outputs": [],
   "source": [
    "class car:\n",
    "    def __init__(self,year,make,model,speed):\n",
    "        self.__year=year\n",
    "        self.__make=make\n",
    "        self.__model=model\n",
    "        self.__speed=0\n",
    "        # made private\n",
    "        \n",
    "    def set_speed(self,speed):\n",
    "        self.__speed=0 if speed<0 else speed\n",
    "    def get_speed(self):\n",
    "        return self.__speed\n",
    "        \n",
    "    "
   ]
  },
  {
   "cell_type": "code",
   "execution_count": 104,
   "id": "e10fd9bb-5584-4b2a-b4f6-af8d0394da3e",
   "metadata": {},
   "outputs": [
    {
     "data": {
      "text/plain": [
       "2023"
      ]
     },
     "execution_count": 104,
     "metadata": {},
     "output_type": "execute_result"
    }
   ],
   "source": [
    "obj_car._car__year"
   ]
  },
  {
   "cell_type": "code",
   "execution_count": 107,
   "id": "a235923e-3b29-4ecd-91e4-ad8bb77be7da",
   "metadata": {},
   "outputs": [],
   "source": [
    "obj_car.set_speed(40)"
   ]
  },
  {
   "cell_type": "code",
   "execution_count": 106,
   "id": "da9533a6-f947-4ae1-9039-26c9b21e09c1",
   "metadata": {},
   "outputs": [
    {
     "ename": "AttributeError",
     "evalue": "'car' object has no attribute 'get_speed'",
     "output_type": "error",
     "traceback": [
      "\u001b[0;31m---------------------------------------------------------------------------\u001b[0m",
      "\u001b[0;31mAttributeError\u001b[0m                            Traceback (most recent call last)",
      "Cell \u001b[0;32mIn[106], line 1\u001b[0m\n\u001b[0;32m----> 1\u001b[0m \u001b[43mobj_car\u001b[49m\u001b[38;5;241;43m.\u001b[39;49m\u001b[43mget_speed\u001b[49m()\n",
      "\u001b[0;31mAttributeError\u001b[0m: 'car' object has no attribute 'get_speed'"
     ]
    }
   ],
   "source": [
    "obj_car.get_speed()"
   ]
  },
  {
   "cell_type": "code",
   "execution_count": null,
   "id": "3e62adf0-24a2-459a-8eb6-117c950a04de",
   "metadata": {},
   "outputs": [],
   "source": []
  },
  {
   "cell_type": "code",
   "execution_count": null,
   "id": "17662e3d-f3a9-4352-9550-8a296ed91d31",
   "metadata": {},
   "outputs": [],
   "source": []
  }
 ],
 "metadata": {
  "kernelspec": {
   "display_name": "Python 3 (ipykernel)",
   "language": "python",
   "name": "python3"
  },
  "language_info": {
   "codemirror_mode": {
    "name": "ipython",
    "version": 3
   },
   "file_extension": ".py",
   "mimetype": "text/x-python",
   "name": "python",
   "nbconvert_exporter": "python",
   "pygments_lexer": "ipython3",
   "version": "3.10.8"
  }
 },
 "nbformat": 4,
 "nbformat_minor": 5
}
