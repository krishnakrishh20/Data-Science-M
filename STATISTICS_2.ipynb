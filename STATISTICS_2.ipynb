{
  "nbformat": 4,
  "nbformat_minor": 0,
  "metadata": {
    "colab": {
      "provenance": []
    },
    "kernelspec": {
      "name": "python3",
      "display_name": "Python 3"
    },
    "language_info": {
      "name": "python"
    }
  },
  "cells": [
    {
      "cell_type": "markdown",
      "source": [
        "**Q1. What are the three measures of central tendency?**"
      ],
      "metadata": {
        "id": "74Tq2Zbfr0cx"
      }
    },
    {
      "cell_type": "markdown",
      "source": [
        "The three measures of central tendency are:\n",
        "\n",
        "1. Mean: The average value of a dataset, calculated by summing all values and dividing by the total number of observations.\n",
        "\n",
        "2. Median: The middle value of a dataset when the values are arranged in ascending or descending order.\n",
        "\n",
        "3. Mode: The most frequently occurring value in a dataset."
      ],
      "metadata": {
        "id": "ipuxh5jhrv26"
      }
    },
    {
      "cell_type": "markdown",
      "source": [
        "**Q2. What is the difference between the mean, median, and mode? How are they used to measure the\n",
        "central tendency of a dataset?**"
      ],
      "metadata": {
        "id": "PfxQUtqBsu_H"
      }
    },
    {
      "cell_type": "markdown",
      "source": [
        "The mean, median, and mode are all measures of central tendency, but they differ in how they represent the typical or central value of a dataset:\n",
        "\n",
        "1. Mean:\n",
        "   - The mean is the average value of a dataset.\n",
        "   - It is calculated by summing all values and dividing by the total number of observations.\n",
        "   - The mean is sensitive to extreme values (outliers) in the dataset, as it considers all values equally.\n",
        "   - It is commonly used when the data is normally distributed or symmetrically distributed.\n",
        "\n",
        "2. Median:\n",
        "   - The median is the middle value of a dataset when the values are arranged in ascending or descending order.\n",
        "   - It is less affected by extreme values compared to the mean, making it more robust in the presence of outliers.\n",
        "   - The median is especially useful when the data is skewed or when there are outliers that could significantly influence the mean.\n",
        "\n",
        "3. Mode:\n",
        "   - The mode is the most frequently occurring value in a dataset.\n",
        "   - Unlike the mean and median, the mode can be applied to nominal or categorical data.\n",
        "   - It is useful for identifying the most common value or category in a dataset.\n",
        "   - In some cases, a dataset may have multiple modes (bimodal or multimodal), indicating more than one frequently occurring value.\n"
      ],
      "metadata": {
        "id": "PQkz49-CssXM"
      }
    },
    {
      "cell_type": "markdown",
      "source": [
        "**Q3. Measure the three measures of central tendency for the given height data:\n",
        "[178,177,176,177,178.2,178,175,179,180,175,178.9,176.2,177,172.5,178,176.5]**"
      ],
      "metadata": {
        "id": "noI-eZlXs1Es"
      }
    },
    {
      "cell_type": "code",
      "source": [
        "import statistics as st\n",
        "data=[178,177,176,177,178.2,178,175,179,180,175,178.9,176.2,177,172.5,178,176.5]\n",
        "\n",
        "mean=st.mean(data)\n",
        "print(\"MEAN Is \" ,mean)\n",
        "\n",
        "median=st.median(data)\n",
        "print(\"Median is \",median)\n",
        "\n",
        "mode=st.mode(data)\n",
        "print(\"Mode is \",mode)"
      ],
      "metadata": {
        "colab": {
          "base_uri": "https://localhost:8080/"
        },
        "id": "jyKcPI2ws6rr",
        "outputId": "6092d4c9-040e-49f8-bc69-35926be31869"
      },
      "execution_count": 3,
      "outputs": [
        {
          "output_type": "stream",
          "name": "stdout",
          "text": [
            "MEAN Is  177.01875\n",
            "Median is  177.0\n",
            "Mode is  178\n"
          ]
        }
      ]
    },
    {
      "cell_type": "markdown",
      "source": [
        "**Q4. Find the standard deviation for the given data:\n",
        "[178,177,176,177,178.2,178,175,179,180,175,178.9,176.2,177,172.5,178,176.5]t**"
      ],
      "metadata": {
        "id": "Fe2n58J2uC67"
      }
    },
    {
      "cell_type": "code",
      "source": [
        "import numpy as np\n",
        "\n",
        "dt=np.array([178,177,176,177,178.2,178,175,179,180,175,178.9,176.2,177,172.5,178,176.5])\n",
        "print(\"Standard deviation of the data is \",np.std(dt))"
      ],
      "metadata": {
        "colab": {
          "base_uri": "https://localhost:8080/"
        },
        "id": "K628_EA8tM8R",
        "outputId": "70f25824-1fc6-46c7-8a54-5d5cfd47c1e9"
      },
      "execution_count": 4,
      "outputs": [
        {
          "output_type": "stream",
          "name": "stdout",
          "text": [
            "Standard deviation of the data is  1.7885814036548633\n"
          ]
        }
      ]
    },
    {
      "cell_type": "markdown",
      "source": [
        "**Q5. How are measures of dispersion such as range, variance, and standard deviation used to describe\n",
        "the spread of a dataset? Provide an example.**"
      ],
      "metadata": {
        "id": "8SGBBr5TuiDm"
      }
    },
    {
      "cell_type": "markdown",
      "source": [
        "Measures of dispersion, including range, variance, and standard deviation, are used to quantify the spread or variability of a dataset. They provide valuable insights into how the individual data points are distributed around the central tendency measures, such as the mean or median. Here's how each measure is used and an example illustrating their application:\n",
        "\n",
        "1. Range:\n",
        "   - The range is the simplest measure of dispersion and represents the difference between the maximum and minimum values in a dataset.\n",
        "   - It provides a rough estimate of the spread of data but is sensitive to outliers.\n",
        "   - The larger the range, the more spread out the data points are.\n",
        "\n",
        "   Example: Suppose you have a dataset representing the heights (in inches) of students in a class:\n",
        "   Heights = [60, 62, 65, 68, 70]\n",
        "   The range would be: Range = Max(Heights) - Min(Heights) = 70 - 60 = 10 inches.\n",
        "\n",
        "2. Variance:\n",
        "   - Variance measures the average squared deviation of each data point from the mean of the dataset.\n",
        "   - It provides a more precise measure of spread than the range and considers all data points in the calculation.\n",
        "   - Larger variance values indicate greater variability in the dataset.\n",
        "\n",
        "   Example continuation: Using the same heights dataset,\n",
        "   Heights = [60, 62, 65, 68, 70]\n",
        "   First, calculate the mean height: Mean = (60 + 62 + 65 + 68 + 70) / 5 = 325 / 5 = 65 inches.\n",
        "   Next, calculate the variance:\n",
        "   Variance = [(60 - 65)^2 + (62 - 65)^2 + (65 - 65)^2 + (68 - 65)^2 + (70 - 65)^2] / 5\n",
        "            = [(25) + (9) + (0) + (9) + (25)] / 5\n",
        "            = 68 / 5\n",
        "            = 13.6 square inches.\n",
        "\n",
        "3. Standard Deviation:\n",
        "   - The standard deviation is the square root of the variance.\n",
        "   - It represents the average deviation of data points from the mean and is expressed in the same units as the original data.\n",
        "   - It is a widely used measure of dispersion due to its interpretability and ease of comparison.\n",
        "\n",
        "   Continuing the example: Calculate the standard deviation by taking the square root of the variance:\n",
        "   Standard Deviation = √(13.6) ≈ 3.68 inches.\n"
      ],
      "metadata": {
        "id": "lltnVIR_4M4L"
      }
    },
    {
      "cell_type": "markdown",
      "source": [
        "**Q6. What is a Venn diagram?**"
      ],
      "metadata": {
        "id": "u9bgWqOk4aWn"
      }
    },
    {
      "cell_type": "markdown",
      "source": [
        "A Venn diagram is a visual representation of the relationships between different sets or groups of objects. It consists of overlapping circles or shapes, with each representing a set, and the overlapping areas indicating common elements shared between the sets. Venn diagrams are widely used to illustrate logical relationships, intersections, and differences between sets in a clear and intuitive manner."
      ],
      "metadata": {
        "id": "TRHjCMe84ZHB"
      }
    },
    {
      "cell_type": "markdown",
      "source": [
        "**Q7. For the two given sets A = (2,3,4,5,6,7) & B = (0,2,6,8,10). Find:\n",
        "(i) A B\n",
        "(ii) A ⋃ B**"
      ],
      "metadata": {
        "id": "4EM5ua2m4Y9Q"
      }
    },
    {
      "cell_type": "code",
      "source": [
        "(i) A B--{2,6}\n",
        "\n",
        "(ii) A ⋃ B-{2,3,4,5,6,7,8,10}"
      ],
      "metadata": {
        "id": "UD-In5Fxub9t"
      },
      "execution_count": null,
      "outputs": []
    },
    {
      "cell_type": "markdown",
      "source": [
        "**Q8. What do you understand about skewness in data?**"
      ],
      "metadata": {
        "id": "ZVD3YLsc5L2R"
      }
    },
    {
      "cell_type": "markdown",
      "source": [
        "Skewness in data refers to the asymmetry or lack of symmetry in the distribution of values within a dataset. It indicates whether the data is concentrated more on one side of the distribution compared to the other. A dataset can exhibit three types of skewness:\n",
        "\n",
        "1. Positive Skewness (Right Skewness):\n",
        "   - In a positively skewed distribution, the tail of the distribution extends towards the right, meaning that the majority of the data is concentrated on the left side, and there are few extreme values on the right side.\n",
        "   - The mean is typically greater than the median in a positively skewed distribution, as the presence of outliers on the right side pulls the mean towards higher values.\n",
        "   - Positive skewness is also known as right skewness.\n",
        "\n",
        "2. Negative Skewness (Left Skewness):\n",
        "   - In a negatively skewed distribution, the tail of the distribution extends towards the left, indicating that the majority of the data is concentrated on the right side, with few extreme values on the left side.\n",
        "   - The mean is typically less than the median in a negatively skewed distribution, as the presence of outliers on the left side pulls the mean towards lower values.\n",
        "   - Negative skewness is also known as left skewness.\n",
        "\n",
        "3. Symmetric Distribution:\n",
        "   - In a symmetric distribution, the data is evenly distributed on both sides of the mean, with the tails of the distribution extending equally in both directions.\n",
        "   - The mean and median are approximately equal in a symmetric distribution.\n",
        "\n"
      ],
      "metadata": {
        "id": "ELVflzkn5KSx"
      }
    },
    {
      "cell_type": "code",
      "source": [],
      "metadata": {
        "id": "7jZnhv-K4--D"
      },
      "execution_count": null,
      "outputs": []
    },
    {
      "cell_type": "markdown",
      "source": [
        "**Q9. If a data is right skewed then what will be the position of median with respect to mean?**"
      ],
      "metadata": {
        "id": "DetEzcYr5VQ6"
      }
    },
    {
      "cell_type": "markdown",
      "source": [
        "The mean will be greater than the median.\n",
        "This occurs because in a right-skewed distribution, the tail of the distribution extends towards the higher values (right side), indicating that there are relatively few extreme values pulling the mean towards higher values. Consequently, the mean is influenced by these higher values, resulting in a higher mean compared to the median."
      ],
      "metadata": {
        "id": "vTL8rtQh56EZ"
      }
    },
    {
      "cell_type": "markdown",
      "source": [
        "**Q10. Explain the difference between covariance and correlation. How are these measures used in\n",
        "statistical analysis?**"
      ],
      "metadata": {
        "id": "GBEZnmyQ5_-x"
      }
    },
    {
      "cell_type": "markdown",
      "source": [
        "Covariance and correlation are both measures of the relationship between two variables, but they differ in scale and interpretation:\n",
        "\n",
        "1. Covariance:\n",
        "   - Covariance measures the degree to which two variables change together.\n",
        "   - It indicates the direction of the linear relationship between variables (positive, negative, or no relationship) and the magnitude of their joint variability.\n",
        "   - Covariance can take on any value, positive, negative, or zero, depending on the relationship between the variables.\n",
        "   - However, the scale of covariance depends on the scales of the variables being measured, making it difficult to interpret the strength of the relationship.\n",
        "\n",
        "2. Correlation:\n",
        "   - Correlation is a standardized measure of the linear relationship between two variables.\n",
        "   - It ranges from -1 to 1, where:\n",
        "     - Correlation of +1 indicates a perfect positive linear relationship,\n",
        "     - Correlation of -1 indicates a perfect negative linear relationship,\n",
        "     - Correlation of 0 indicates no linear relationship.\n",
        "   - Unlike covariance, correlation is unitless and allows for easier interpretation of the strength and direction of the relationship between variables.\n",
        "   - Correlation also helps in assessing the strength of the relationship relative to other relationships.\n",
        "\n",
        "In statistical analysis:\n",
        "\n",
        "- Covariance is used to measure the direction and strength of the linear relationship between two variables. However, interpreting covariance alone can be challenging due to its scale dependency.\n",
        "\n",
        "- Correlation is used to quantify the strength and direction of the linear relationship between variables on a standardized scale. It provides a clearer understanding of the relationship between variables and allows for comparison across different datasets.\n",
        "\n",
        "Both covariance and correlation are valuable tools in statistical analysis for identifying patterns, making predictions, and understanding the associations between variables in datasets. They are commonly used in fields such as finance, economics, social sciences, and machine learning."
      ],
      "metadata": {
        "id": "uweQZzei6oZQ"
      }
    },
    {
      "cell_type": "code",
      "source": [],
      "metadata": {
        "id": "OHv15u-h63HF"
      },
      "execution_count": null,
      "outputs": []
    },
    {
      "cell_type": "markdown",
      "source": [
        "**Q11. What is the formula for calculating the sample mean? Provide an example calculation for a\n",
        "dataset.**"
      ],
      "metadata": {
        "id": "71xLVhjh7Gym"
      }
    },
    {
      "cell_type": "markdown",
      "source": [
        "The formula for calculating the sample mean (average) is:\n",
        "\n",
        "\\[ \\text{Sample Mean} = \\frac{\\sum_{i=1}^{n} x_i}{n} \\]\n",
        "\n",
        "Where:\n",
        "- \\( x_i \\) represents each individual value in the dataset.\n",
        "- \\( n \\) is the total number of observations in the dataset.\n",
        "\n",
        "Here's an example calculation for a dataset:\n",
        "\n",
        "Suppose we have the following dataset representing the scores of students in a class:\n",
        "\\[ \\text{Scores} = \\{85, 90, 88, 92, 87\\} \\]\n",
        "\n",
        "To calculate the sample mean:\n",
        "\\[ \\text{Sample Mean} = \\frac{85 + 90 + 88 + 92 + 87}{5} \\]\n",
        "\\[ \\text{Sample Mean} = \\frac{442}{5} \\]\n",
        "\\[ \\text{Sample Mean} = 88.4 \\]\n",
        "\n",
        "So, the sample mean of the dataset is \\( 88.4 \\). This indicates that, on average, the students scored \\( 88.4 \\) in the class."
      ],
      "metadata": {
        "id": "rbx8DGVE6taS"
      }
    },
    {
      "cell_type": "code",
      "source": [
        "# Calculate Sample Mean\n",
        "# Example dataset representing the scores of students in a class\n",
        "scores = [85, 90, 88, 92, 87]\n",
        "\n",
        "# Calculate the sample mean\n",
        "sample_mean = sum(scores) / len(scores)\n",
        "\n",
        "# Print the sample mean\n",
        "print(\"Sample Mean:\", sample_mean)\n"
      ],
      "metadata": {
        "colab": {
          "base_uri": "https://localhost:8080/"
        },
        "id": "nNcFCodR7DcY",
        "outputId": "d9c8d2f8-d51c-4e95-e8ab-7ca403c1e36e"
      },
      "execution_count": 5,
      "outputs": [
        {
          "output_type": "stream",
          "name": "stdout",
          "text": [
            "Sample Mean: 88.4\n"
          ]
        }
      ]
    },
    {
      "cell_type": "code",
      "source": [],
      "metadata": {
        "id": "nooh1KgM7gpn"
      },
      "execution_count": null,
      "outputs": []
    },
    {
      "cell_type": "markdown",
      "source": [
        "**Q12. For a normal distribution data what is the relationship between its measure of central tendency?**"
      ],
      "metadata": {
        "id": "SgJf9XP87i_x"
      }
    },
    {
      "cell_type": "markdown",
      "source": [
        "In a normal distribution:\n",
        "- The mean, median, and mode are all equal.\n",
        "- They are located at the center of the distribution.\n",
        "- This holds true for any normal distribution."
      ],
      "metadata": {
        "id": "-8DyQsfp7KUY"
      }
    },
    {
      "cell_type": "markdown",
      "source": [
        "**Q13. How is covariance different from correlation?**"
      ],
      "metadata": {
        "id": "VPCvwGdH7rwo"
      }
    },
    {
      "cell_type": "markdown",
      "source": [
        "Covariance measures the degree to which two variables change together. It indicates the direction of the linear relationship between variables (positive, negative, or no relationship) and the magnitude of their joint variability. However, the scale of covariance depends on the scales of the variables being measured, making it difficult to interpret the strength of the relationship.\n",
        "\n",
        "Correlation, on the other hand, is a standardized measure of the linear relationship between two variables. It ranges from -1 to 1, where +1 indicates a perfect positive linear relationship, -1 indicates a perfect negative linear relationship, and 0 indicates no linear relationship. Unlike covariance, correlation is unitless and allows for easier interpretation of the strength and direction of the relationship between variables. It also helps in assessing the strength of the relationship relative to other relationships."
      ],
      "metadata": {
        "id": "XSJAxQ6m70oa"
      }
    },
    {
      "cell_type": "markdown",
      "source": [
        "**Q14. How do outliers affect measures of central tendency and dispersion? Provide an example.**"
      ],
      "metadata": {
        "id": "AGgX--E68Ns9"
      }
    },
    {
      "cell_type": "markdown",
      "source": [
        "Outliers can significantly affect measures of central tendency and dispersion:\n",
        "\n",
        "1. Measures of Central Tendency:\n",
        "   - Mean: Outliers can heavily influence the mean because it takes into account every value in the dataset. A single extreme value can pull the mean towards it, making it unrepresentative of the majority of the data.\n",
        "   - Median: Outliers have minimal effect on the median, as it represents the middle value when the dataset is ordered. Since it's not influenced by extreme values, it can provide a more robust measure of central tendency in the presence of outliers.\n",
        "   - Mode: Outliers generally have little to no effect on the mode, as it represents the most frequently occurring value. Unless the outlier occurs frequently enough to create a new mode, it typically doesn't impact the mode.\n",
        "\n",
        "2. Measures of Dispersion:\n",
        "   - Range: Outliers can significantly affect the range, especially if they are extreme values. The range is the difference between the maximum and minimum values in the dataset, so extreme outliers can widen the range.\n",
        "   - Variance and Standard Deviation: Outliers can inflate the variance and standard deviation, as these measures consider the deviation of each data point from the mean. Since outliers can be far from the mean, they contribute to larger deviations and increase the variability in the dataset.\n",
        "\n",
        "Example:\n",
        "Consider a dataset representing the ages of people in a neighborhood:\n",
        "\\[ \\{20, 22, 24, 26, 28, 30, 32, 34, 36, 38, 40, 42, 44, 46, 48, 50, 52, 54, 56, 58, 60, 150\\} \\]\n",
        "\n",
        "In this dataset, 150 is an outlier as it's significantly larger than the rest of the data. Its presence affects the measures of central tendency and dispersion as follows:\n",
        "- Mean: The mean age is influenced by the outlier and will be higher than expected.\n",
        "- Median: The median age will be less affected by the outlier and will remain close to the middle value of the dataset.\n",
        "- Range: The range of ages will be wider due to the presence of the outlier.\n",
        "- Variance and Standard Deviation: Both measures will be larger due to the increased variability caused by the outlier."
      ],
      "metadata": {
        "id": "4kHz6Q4R71tn"
      }
    },
    {
      "cell_type": "code",
      "source": [],
      "metadata": {
        "id": "2B5LAmfn7ECX"
      },
      "execution_count": null,
      "outputs": []
    }
  ]
}