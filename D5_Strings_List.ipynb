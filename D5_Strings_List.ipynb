{
 "cells": [
  {
   "cell_type": "code",
   "execution_count": 1,
   "id": "46e86d91-7bea-4a7e-828b-05342ede5b3b",
   "metadata": {},
   "outputs": [],
   "source": [
    "name=\"1234 5678\""
   ]
  },
  {
   "cell_type": "code",
   "execution_count": 2,
   "id": "944132c5-9509-4845-b970-7fefcf100c85",
   "metadata": {},
   "outputs": [
    {
     "data": {
      "text/plain": [
       "'1234 5678'"
      ]
     },
     "execution_count": 2,
     "metadata": {},
     "output_type": "execute_result"
    }
   ],
   "source": [
    "name.swapcase()"
   ]
  },
  {
   "cell_type": "code",
   "execution_count": 3,
   "id": "9b1f3098-6cff-4e4c-949e-635ae15ed130",
   "metadata": {},
   "outputs": [
    {
     "data": {
      "text/plain": [
       "'1234 5678'"
      ]
     },
     "execution_count": 3,
     "metadata": {},
     "output_type": "execute_result"
    }
   ],
   "source": [
    "name.title()"
   ]
  },
  {
   "cell_type": "code",
   "execution_count": 4,
   "id": "a5de6a33-a1ac-4313-bc55-cc266a9733b5",
   "metadata": {},
   "outputs": [],
   "source": [
    "name=\"krishna priya prasad\""
   ]
  },
  {
   "cell_type": "code",
   "execution_count": 5,
   "id": "a90aa486-4702-4f02-b247-c61d3e209089",
   "metadata": {},
   "outputs": [
    {
     "data": {
      "text/plain": [
       "'KRISHNA PRIYA PRASAD'"
      ]
     },
     "execution_count": 5,
     "metadata": {},
     "output_type": "execute_result"
    }
   ],
   "source": [
    "name.swapcase()"
   ]
  },
  {
   "cell_type": "code",
   "execution_count": 6,
   "id": "d4e173b7-1a58-4100-8b5d-1babaf23284d",
   "metadata": {},
   "outputs": [
    {
     "data": {
      "text/plain": [
       "'Krishna priya prasad'"
      ]
     },
     "execution_count": 6,
     "metadata": {},
     "output_type": "execute_result"
    }
   ],
   "source": [
    "name.capitalize()"
   ]
  },
  {
   "cell_type": "markdown",
   "id": "0d02b852-bad5-44d4-838a-6600ddedd8dc",
   "metadata": {},
   "source": [
    "Reversing A string"
   ]
  },
  {
   "cell_type": "code",
   "execution_count": 7,
   "id": "fdc828b8-9532-45f8-a3e4-09d1f11e0ff9",
   "metadata": {},
   "outputs": [
    {
     "data": {
      "text/plain": [
       "'dasarp ayirp anhsirk'"
      ]
     },
     "execution_count": 7,
     "metadata": {},
     "output_type": "execute_result"
    }
   ],
   "source": [
    "name[::-1]"
   ]
  },
  {
   "cell_type": "code",
   "execution_count": 8,
   "id": "299a6d5f-5370-4a78-b8b5-6738b4424fda",
   "metadata": {},
   "outputs": [
    {
     "data": {
      "text/plain": [
       "'krishna priya prasad'"
      ]
     },
     "execution_count": 8,
     "metadata": {},
     "output_type": "execute_result"
    }
   ],
   "source": [
    "name[::]"
   ]
  },
  {
   "cell_type": "code",
   "execution_count": 14,
   "id": "714237ab-abea-4ada-a184-9be5793cbc8d",
   "metadata": {},
   "outputs": [
    {
     "data": {
      "text/plain": [
       "' ayirp'"
      ]
     },
     "execution_count": 14,
     "metadata": {},
     "output_type": "execute_result"
    }
   ],
   "source": [
    "name[13:7:-1]\n",
    "                   "
   ]
  },
  {
   "cell_type": "code",
   "execution_count": 11,
   "id": "bab8504d-0c64-4807-bded-078cc5f43755",
   "metadata": {},
   "outputs": [
    {
     "data": {
      "text/plain": [
       "<reversed at 0x7f1970efe830>"
      ]
     },
     "execution_count": 11,
     "metadata": {},
     "output_type": "execute_result"
    }
   ],
   "source": [
    "reversed(name)"
   ]
  },
  {
   "cell_type": "code",
   "execution_count": 16,
   "id": "fc4dccbb-bd33-46b6-973b-9dca14ff3abe",
   "metadata": {},
   "outputs": [
    {
     "data": {
      "text/plain": [
       "'a b c d'"
      ]
     },
     "execution_count": 16,
     "metadata": {},
     "output_type": "execute_result"
    }
   ],
   "source": [
    "\" \".join(\"abcd\")"
   ]
  },
  {
   "cell_type": "code",
   "execution_count": 18,
   "id": "59d40b79-5ec7-46ef-aa9d-af45f705df20",
   "metadata": {},
   "outputs": [
    {
     "data": {
      "text/plain": [
       "'k r i s h n a   p r i y a   p r a s a d'"
      ]
     },
     "execution_count": 18,
     "metadata": {},
     "output_type": "execute_result"
    }
   ],
   "source": [
    "\" \".join(name)"
   ]
  },
  {
   "cell_type": "code",
   "execution_count": 20,
   "id": "2176cd00-a892-46ee-b8dd-97bb80c86b40",
   "metadata": {},
   "outputs": [
    {
     "data": {
      "text/plain": [
       "'d a s a r p   a y i r p   a n h s i r k'"
      ]
     },
     "execution_count": 20,
     "metadata": {},
     "output_type": "execute_result"
    }
   ],
   "source": [
    "\" \".join(reversed(name))"
   ]
  },
  {
   "cell_type": "code",
   "execution_count": 1,
   "id": "9165f0b4-df6d-4041-a9da-6413df073af9",
   "metadata": {},
   "outputs": [],
   "source": [
    "string=\" krishna \"\n"
   ]
  },
  {
   "cell_type": "code",
   "execution_count": 2,
   "id": "4debf882-6466-4d27-8ba9-c2ddea6f95d0",
   "metadata": {},
   "outputs": [
    {
     "data": {
      "text/plain": [
       "'krishna'"
      ]
     },
     "execution_count": 2,
     "metadata": {},
     "output_type": "execute_result"
    }
   ],
   "source": [
    "string.strip()"
   ]
  },
  {
   "cell_type": "code",
   "execution_count": 3,
   "id": "bc236da5-4852-4d8c-947a-6678bcb510eb",
   "metadata": {},
   "outputs": [
    {
     "data": {
      "text/plain": [
       "'krishna '"
      ]
     },
     "execution_count": 3,
     "metadata": {},
     "output_type": "execute_result"
    }
   ],
   "source": [
    "string.lstrip()"
   ]
  },
  {
   "cell_type": "code",
   "execution_count": 4,
   "id": "7c672732-c0d1-4bf1-a9cf-209f66f623ec",
   "metadata": {},
   "outputs": [
    {
     "data": {
      "text/plain": [
       "' krishna'"
      ]
     },
     "execution_count": 4,
     "metadata": {},
     "output_type": "execute_result"
    }
   ],
   "source": [
    "string.rstrip()"
   ]
  },
  {
   "cell_type": "code",
   "execution_count": 5,
   "id": "31c8c552-6083-4e15-8af9-559faf261765",
   "metadata": {},
   "outputs": [
    {
     "data": {
      "text/plain": [
       "'my name is krishnapriya'"
      ]
     },
     "execution_count": 5,
     "metadata": {},
     "output_type": "execute_result"
    }
   ],
   "source": [
    "str_a=\"my name is krishna\"\n",
    "\n",
    "str_a.replace(\"krishna\",\"krishnapriya\")"
   ]
  },
  {
   "cell_type": "code",
   "execution_count": 6,
   "id": "a5e53344-5523-4f38-9843-97bdb0ae7a4a",
   "metadata": {},
   "outputs": [],
   "source": [
    "str1=\"Welcome to pwskills.Welcome to Dat cience Masters\""
   ]
  },
  {
   "cell_type": "code",
   "execution_count": 7,
   "id": "39cb9b36-16a6-4f63-b76e-a06987c4d066",
   "metadata": {},
   "outputs": [
    {
     "data": {
      "text/plain": [
       "'Welcome to pwskills.Welcome to data science Masters'"
      ]
     },
     "execution_count": 7,
     "metadata": {},
     "output_type": "execute_result"
    }
   ],
   "source": [
    "str1.replace(\"Dat cience\",\"data science\")"
   ]
  },
  {
   "cell_type": "code",
   "execution_count": 8,
   "id": "28eaf555-7f49-4ad5-8b40-8d0ef4ffeb88",
   "metadata": {},
   "outputs": [
    {
     "data": {
      "text/plain": [
       "False"
      ]
     },
     "execution_count": 8,
     "metadata": {},
     "output_type": "execute_result"
    }
   ],
   "source": [
    "str1.isupper()"
   ]
  },
  {
   "cell_type": "code",
   "execution_count": 9,
   "id": "8422a2a6-8452-4cd6-af54-ff349afbcca1",
   "metadata": {},
   "outputs": [
    {
     "data": {
      "text/plain": [
       "'WELCOME TO PWSKILLS.WELCOME TO DAT CIENCE MASTERS'"
      ]
     },
     "execution_count": 9,
     "metadata": {},
     "output_type": "execute_result"
    }
   ],
   "source": [
    "str1.upper()"
   ]
  },
  {
   "cell_type": "code",
   "execution_count": 10,
   "id": "3249b8fa-e84c-45a9-9163-5e6968fed0bc",
   "metadata": {},
   "outputs": [
    {
     "data": {
      "text/plain": [
       "'wELCOME TO PWSKILLS.wELCOME TO dAT CIENCE mASTERS'"
      ]
     },
     "execution_count": 10,
     "metadata": {},
     "output_type": "execute_result"
    }
   ],
   "source": [
    "str1.swapcase()"
   ]
  },
  {
   "cell_type": "code",
   "execution_count": 11,
   "id": "82cc56ac-7cf7-4d0d-81c2-038d39f7a195",
   "metadata": {},
   "outputs": [
    {
     "data": {
      "text/plain": [
       "'welcome to pwskills.welcome to dat cience masters'"
      ]
     },
     "execution_count": 11,
     "metadata": {},
     "output_type": "execute_result"
    }
   ],
   "source": [
    "str1.lower()"
   ]
  },
  {
   "cell_type": "code",
   "execution_count": 12,
   "id": "7974160f-1ef2-4866-a600-6ed506b04b6d",
   "metadata": {},
   "outputs": [
    {
     "data": {
      "text/plain": [
       "True"
      ]
     },
     "execution_count": 12,
     "metadata": {},
     "output_type": "execute_result"
    }
   ],
   "source": [
    "str1.endswith(\"s\")"
   ]
  },
  {
   "cell_type": "code",
   "execution_count": 15,
   "id": "3ce4707e-2869-4c6c-bc62-f0ba1730b9bc",
   "metadata": {},
   "outputs": [
    {
     "name": "stdout",
     "output_type": "stream",
     "text": [
      "Good job\n"
     ]
    }
   ],
   "source": [
    "if str1.endswith(\"s\"):\n",
    "    print(\"Good job\")"
   ]
  },
  {
   "cell_type": "code",
   "execution_count": 16,
   "id": "8b71eb8e-d57e-4d29-90f8-0483f27ab591",
   "metadata": {},
   "outputs": [
    {
     "data": {
      "text/plain": [
       "False"
      ]
     },
     "execution_count": 16,
     "metadata": {},
     "output_type": "execute_result"
    }
   ],
   "source": [
    "str1.startswith(\"w\")"
   ]
  },
  {
   "cell_type": "code",
   "execution_count": 17,
   "id": "09cd43f6-3fb5-4747-9e93-77e416445c93",
   "metadata": {},
   "outputs": [
    {
     "data": {
      "text/plain": [
       "False"
      ]
     },
     "execution_count": 17,
     "metadata": {},
     "output_type": "execute_result"
    }
   ],
   "source": [
    "str1.isalnum()"
   ]
  },
  {
   "cell_type": "code",
   "execution_count": 18,
   "id": "96d433d0-3a51-45f2-857e-6f8bfa7067c9",
   "metadata": {},
   "outputs": [
    {
     "data": {
      "text/plain": [
       "True"
      ]
     },
     "execution_count": 18,
     "metadata": {},
     "output_type": "execute_result"
    }
   ],
   "source": [
    "\"keh2\".isalnum()"
   ]
  },
  {
   "cell_type": "code",
   "execution_count": 25,
   "id": "167cd5e6-ad44-4c1a-9c96-35fa11d41ec4",
   "metadata": {},
   "outputs": [
    {
     "name": "stdout",
     "output_type": "stream",
     "text": [
      "18\n"
     ]
    }
   ],
   "source": [
    "count=0\n",
    "\n",
    "for i in str_a:\n",
    "    count+=1\n",
    "    \n",
    "print(count)"
   ]
  },
  {
   "cell_type": "code",
   "execution_count": 21,
   "id": "1d8cfbcd-aa98-4237-b397-c63e0d298ee7",
   "metadata": {},
   "outputs": [
    {
     "name": "stdout",
     "output_type": "stream",
     "text": [
      "9\n"
     ]
    }
   ],
   "source": [
    "str=\"kri  shna\"\n",
    "\n",
    "count=0\n",
    "\n",
    "for i in str:\n",
    "    count+=1\n",
    "print(count)"
   ]
  },
  {
   "cell_type": "code",
   "execution_count": 27,
   "id": "ab2c695f-cbb2-459d-a99f-f207a2c78203",
   "metadata": {},
   "outputs": [
    {
     "data": {
      "text/plain": [
       "9"
      ]
     },
     "execution_count": 27,
     "metadata": {},
     "output_type": "execute_result"
    }
   ],
   "source": [
    "len(str)"
   ]
  },
  {
   "cell_type": "code",
   "execution_count": 30,
   "id": "967e6575-b0bd-42a0-b1cb-3f49cfd059af",
   "metadata": {},
   "outputs": [
    {
     "name": "stdout",
     "output_type": "stream",
     "text": [
      "49\n"
     ]
    }
   ],
   "source": [
    "count=0\n",
    "\n",
    "for i in str1:\n",
    "    count+=1\n",
    "print(count)"
   ]
  },
  {
   "cell_type": "code",
   "execution_count": 31,
   "id": "d6459c4e-633b-45b0-88c8-74a26b4b2bd3",
   "metadata": {},
   "outputs": [
    {
     "data": {
      "text/plain": [
       "49"
      ]
     },
     "execution_count": 31,
     "metadata": {},
     "output_type": "execute_result"
    }
   ],
   "source": [
    "len(str1)"
   ]
  },
  {
   "cell_type": "code",
   "execution_count": 34,
   "id": "adca1477-ce25-4217-8a50-70e5b9568e62",
   "metadata": {},
   "outputs": [
    {
     "name": "stdout",
     "output_type": "stream",
     "text": [
      "k\n",
      "r\n",
      "i\n",
      "s\n",
      "h\n",
      "n\n",
      "a\n"
     ]
    }
   ],
   "source": [
    "str=\"krishna\"\n",
    "\n",
    "for i in range(0,len(str)):\n",
    "               \n",
    "         print (str[i])\n",
    "    \n",
    "    "
   ]
  },
  {
   "cell_type": "code",
   "execution_count": 58,
   "id": "c549bebb-f7de-4d4b-9005-7a087305faa5",
   "metadata": {},
   "outputs": [
    {
     "name": "stdout",
     "output_type": "stream",
     "text": [
      "k\n",
      "r\n",
      "i\n",
      "s\n",
      "h\n",
      "n\n",
      "a\n"
     ]
    }
   ],
   "source": [
    "str=\"krishna\"\n",
    "\n",
    "for i in range (len(str)):\n",
    "    print(str[i])\n",
    "    \n",
    "    "
   ]
  },
  {
   "cell_type": "code",
   "execution_count": 63,
   "id": "e01262b9-6ee3-44c7-9c2b-535e291c94ad",
   "metadata": {},
   "outputs": [
    {
     "name": "stdout",
     "output_type": "stream",
     "text": [
      "a\n",
      "i\n",
      "p\n"
     ]
    }
   ],
   "source": [
    "str=\"priya\"\n",
    "for i in range(len(str)-1,-1,-2):\n",
    "    print(str[i])"
   ]
  },
  {
   "cell_type": "code",
   "execution_count": null,
   "id": "e720015a-d08b-4a3d-968b-6d0a1bc4ce88",
   "metadata": {},
   "outputs": [],
   "source": [
    "len(str)\n"
   ]
  },
  {
   "cell_type": "code",
   "execution_count": null,
   "id": "6ff09e4e-d7b8-40fc-8188-cba02f3aa12a",
   "metadata": {},
   "outputs": [],
   "source": [
    "str=\"krishna\"\n",
    "\n",
    "ch=len(str)-1\n",
    "\n",
    "while ch>=0:\n",
    "    print(str[ch])\n",
    "    ch=ch-1"
   ]
  },
  {
   "cell_type": "code",
   "execution_count": null,
   "id": "cec5901d-ca8e-42cb-bd02-1cb6bc4adbad",
   "metadata": {},
   "outputs": [],
   "source": [
    "a=10"
   ]
  },
  {
   "cell_type": "code",
   "execution_count": null,
   "id": "0042f366-b2cc-411f-96bc-066e0f449cff",
   "metadata": {},
   "outputs": [],
   "source": [
    "a"
   ]
  },
  {
   "cell_type": "code",
   "execution_count": 2,
   "id": "845be96e-be52-480e-b3ea-22521cb30145",
   "metadata": {},
   "outputs": [
    {
     "name": "stdout",
     "output_type": "stream",
     "text": [
      "20\n",
      "16\n"
     ]
    }
   ],
   "source": [
    "lst=[1,2,3,4,5,6,7,8]\n",
    "\n",
    "even_sum=0\n",
    "odd_sum=0\n",
    "\n",
    "for i in lst:\n",
    "    if i%2==0:\n",
    "        even_sum+=i\n",
    "    else:\n",
    "        odd_sum+=i\n",
    "\n",
    "print(even_sum)\n",
    "print(odd_sum)"
   ]
  },
  {
   "cell_type": "code",
   "execution_count": 5,
   "id": "b909e27f-b0c3-44b1-a903-eeacd047967f",
   "metadata": {},
   "outputs": [],
   "source": [
    "even_sum=sum([ i for i in lst if i%2==0 ])"
   ]
  },
  {
   "cell_type": "code",
   "execution_count": 6,
   "id": "549805db-c58e-4c30-a72f-493e6bb9494c",
   "metadata": {},
   "outputs": [
    {
     "data": {
      "text/plain": [
       "20"
      ]
     },
     "execution_count": 6,
     "metadata": {},
     "output_type": "execute_result"
    }
   ],
   "source": [
    "even_sum"
   ]
  },
  {
   "cell_type": "code",
   "execution_count": 7,
   "id": "6a340b4c-432d-4205-ae56-4550e0f54f76",
   "metadata": {},
   "outputs": [
    {
     "data": {
      "text/plain": [
       "[1, 4, 9, 16, 25, 36, 49, 64, 81, 100]"
      ]
     },
     "execution_count": 7,
     "metadata": {},
     "output_type": "execute_result"
    }
   ],
   "source": [
    "\n",
    "lst=[1,2,3,4,5,6,7,8,9,10]\n",
    "[(i*i) for i in lst ]\n",
    "    "
   ]
  },
  {
   "cell_type": "code",
   "execution_count": 9,
   "id": "8a6bc3aa-4cde-452f-8c8e-1ad40be56e08",
   "metadata": {},
   "outputs": [
    {
     "data": {
      "text/plain": [
       "[1, 2, 3, 4, 5, 6, 7, 8, 9, 10]"
      ]
     },
     "execution_count": 9,
     "metadata": {},
     "output_type": "execute_result"
    }
   ],
   "source": [
    "[i for i in lst if i>=0] "
   ]
  },
  {
   "cell_type": "code",
   "execution_count": 10,
   "id": "e062e50b-0850-4e0d-b1da-31e107c6476e",
   "metadata": {},
   "outputs": [],
   "source": [
    "lst=[\"krishna\",\"manju\",\"priya\"]"
   ]
  },
  {
   "cell_type": "code",
   "execution_count": 12,
   "id": "442cba2d-b39b-44ab-90c5-a3f9fcdfc5e7",
   "metadata": {},
   "outputs": [
    {
     "data": {
      "text/plain": [
       "['k', 'm', 'p']"
      ]
     },
     "execution_count": 12,
     "metadata": {},
     "output_type": "execute_result"
    }
   ],
   "source": [
    " [i[0] for i in lst]"
   ]
  },
  {
   "cell_type": "code",
   "execution_count": 14,
   "id": "fc3b9812-6221-4c8a-907c-1afd0fa53f59",
   "metadata": {},
   "outputs": [],
   "source": [
    "lst=[[1,2,3],[4,5,6],[7,8,9]]"
   ]
  },
  {
   "cell_type": "code",
   "execution_count": 28,
   "id": "7959ddf1-c091-4c94-beaf-3b1f3548a607",
   "metadata": {},
   "outputs": [
    {
     "data": {
      "text/plain": [
       "[7, 8, 9]"
      ]
     },
     "execution_count": 28,
     "metadata": {},
     "output_type": "execute_result"
    }
   ],
   "source": [
    "lst[0]\n",
    "lst[1]\n",
    "lst[2]"
   ]
  },
  {
   "cell_type": "code",
   "execution_count": 32,
   "id": "7c44db40-a193-4845-83d4-d1953ddc25c9",
   "metadata": {},
   "outputs": [
    {
     "ename": "TypeError",
     "evalue": "'int' object is not iterable",
     "output_type": "error",
     "traceback": [
      "\u001b[0;31m---------------------------------------------------------------------------\u001b[0m",
      "\u001b[0;31mTypeError\u001b[0m                                 Traceback (most recent call last)",
      "Cell \u001b[0;32mIn[32], line 1\u001b[0m\n\u001b[0;32m----> 1\u001b[0m [j \u001b[38;5;28;01mfor\u001b[39;00m j \u001b[38;5;129;01min\u001b[39;00m i \u001b[38;5;28;01mfor\u001b[39;00m i \u001b[38;5;129;01min\u001b[39;00m lst]\n",
      "\u001b[0;31mTypeError\u001b[0m: 'int' object is not iterable"
     ]
    }
   ],
   "source": []
  },
  {
   "cell_type": "code",
   "execution_count": 35,
   "id": "0cf7f792-b8a6-4db3-b150-9ad34c62ce3e",
   "metadata": {},
   "outputs": [
    {
     "data": {
      "text/plain": [
       "False"
      ]
     },
     "execution_count": 35,
     "metadata": {},
     "output_type": "execute_result"
    }
   ],
   "source": [
    "\"abcd\".isnumeric()"
   ]
  },
  {
   "cell_type": "code",
   "execution_count": null,
   "id": "a044388f-416e-4b7d-9305-2020f534309c",
   "metadata": {},
   "outputs": [],
   "source": [
    "string=\"k r i s h n a\"\n",
    "\" \".join(string.replace((\" \",\"\"))"
   ]
  },
  {
   "cell_type": "code",
   "execution_count": null,
   "id": "da542124-f5b3-4fed-a464-1515a7ab4d14",
   "metadata": {},
   "outputs": [],
   "source": []
  }
 ],
 "metadata": {
  "kernelspec": {
   "display_name": "Python 3 (ipykernel)",
   "language": "python",
   "name": "python3"
  },
  "language_info": {
   "codemirror_mode": {
    "name": "ipython",
    "version": 3
   },
   "file_extension": ".py",
   "mimetype": "text/x-python",
   "name": "python",
   "nbconvert_exporter": "python",
   "pygments_lexer": "ipython3",
   "version": "3.10.8"
  }
 },
 "nbformat": 4,
 "nbformat_minor": 5
}
