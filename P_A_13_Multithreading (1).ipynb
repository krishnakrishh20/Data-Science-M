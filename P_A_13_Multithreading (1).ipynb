{
 "cells": [
  {
   "cell_type": "markdown",
   "id": "f5ed0617-1aa3-443a-8251-fe2aa1f00bfb",
   "metadata": {},
   "source": [
    "### what is multithreading in python? why is it used? Name the module used to handle threads in python"
   ]
  },
  {
   "cell_type": "raw",
   "id": "34106673-4160-4103-bd5f-1fbcc34bb4a0",
   "metadata": {},
   "source": [
    "Multithreading is a threading technique that allows numerous threads to execute concurrently by fast switching between threads with the assistance of a CPU\n",
    "\n",
    "\n",
    "\n",
    "\n",
    "Multiple threads within a process share the same data space with the main thread and can therefore share information or communicate with each other more easily than if they were separate processes.\n",
    "\n",
    "Threads sometimes called light-weight processes and they do not require much memory overhead; they are cheaper than processes\n",
    "\n",
    "\n",
    "\n",
    "Module- threading"
   ]
  },
  {
   "cell_type": "markdown",
   "id": "75411b14-20ce-4be0-8395-528026aeca0f",
   "metadata": {},
   "source": [
    "###  why threading module used? rite the use of the following functions\n",
    "### ( activeCount\n",
    "### currentThread\n",
    "### enumerate)"
   ]
  },
  {
   "cell_type": "raw",
   "id": "d74df457-eaf1-43ef-91a3-a3f830a9948f",
   "metadata": {},
   "source": [
    "The Threading Module\n",
    "T provides much more powerful, high-level support for threads than the thread module \n",
    "\n",
    "The threading module exposes all the methods of the thread module and provides some additional methods −\n",
    "\n",
    "\n",
    "\n",
    "\n",
    "\n",
    "\n",
    "threading.activeCount() − Returns the number of thread objects that are active.\n",
    "\n",
    "threading.currentThread() − Returns the number of thread objects in the caller's thread control.\n",
    "\n",
    "threading.enumerate() − Returns a list of all thread objects that are currently active."
   ]
  },
  {
   "cell_type": "markdown",
   "id": "3726374f-3f4f-4fcc-82bb-6955e9938047",
   "metadata": {},
   "source": [
    "###  Explain the following functions\n",
    "### ( run\n",
    "###  start\n",
    "### join\n",
    "### ' isAlive)"
   ]
  },
  {
   "cell_type": "raw",
   "id": "1a433aec-d09e-4c46-8067-e4718faea36f",
   "metadata": {},
   "source": [
    "run()- this method defines a thread's activity and can be overridden by a class that extends the thread class.\n",
    "\n",
    "start()-this method is useed to initiate the activity of a thread. and it calls only once for each thread so that the execution of the thread can begin.\n",
    "\n",
    "join()-this method blocks the execution of another code until the thread terminates\n",
    "\n",
    "isalive()-he isAlive() method checks whether a thread is still executing.\n"
   ]
  },
  {
   "cell_type": "markdown",
   "id": "d8a06600-be76-442c-9184-2b8f14702f15",
   "metadata": {},
   "source": [
    "### write a python program to create two threads. Thread one must print the list of squares and thread two must print the list of cubes"
   ]
  },
  {
   "cell_type": "code",
   "execution_count": 49,
   "id": "b80dacc5-f025-4b81-91bc-f198c2fa3ce2",
   "metadata": {},
   "outputs": [],
   "source": [
    "import threading\n",
    "import time"
   ]
  },
  {
   "cell_type": "code",
   "execution_count": 58,
   "id": "0f3e9976-184b-45d7-8a70-d13555e77258",
   "metadata": {},
   "outputs": [],
   "source": [
    "def test(a,op):\n",
    "        \n",
    "        if op=='cube':\n",
    "            for i in range(0,a):\n",
    "                print('{} of {} is {}'.format(op,i,(i*i*i)))\n",
    "                time.sleep(1)\n",
    "            \n",
    "        \n",
    "        elif op=='square':\n",
    "            for i in range(0,a):\n",
    "                print('{} of {}  is {}'.format(op,i,(i*i)))\n",
    "                time.sleep(1)"
   ]
  },
  {
   "cell_type": "code",
   "execution_count": 59,
   "id": "6d7298a9-f1e1-4ba1-b99c-15e07a803c96",
   "metadata": {},
   "outputs": [
    {
     "name": "stdout",
     "output_type": "stream",
     "text": [
      "square of 0  is 0\n",
      "square of 1  is 1\n",
      "square of 2  is 4\n",
      "cube of 0 is 0\n",
      "cube of 1 is 1\n",
      "cube of 2 is 8\n"
     ]
    }
   ],
   "source": [
    "t1=test(3,'square')\n",
    "t2=test(3,'cube')"
   ]
  },
  {
   "cell_type": "code",
   "execution_count": 60,
   "id": "ae085399-4d24-4419-9f4e-096e5503387c",
   "metadata": {},
   "outputs": [],
   "source": [
    "op=['cube','square']"
   ]
  },
  {
   "cell_type": "code",
   "execution_count": 61,
   "id": "08eba64b-2e6a-40d7-80e1-cb806003b5ef",
   "metadata": {},
   "outputs": [],
   "source": [
    "thrd1=[threading.Thread(target=test,args=(100,op[i])) for i in (0,1)]"
   ]
  },
  {
   "cell_type": "code",
   "execution_count": 62,
   "id": "7928a4cb-e5fd-4b8e-aac0-ccd06a9ae995",
   "metadata": {},
   "outputs": [
    {
     "name": "stdout",
     "output_type": "stream",
     "text": [
      "cube of 0 is 0\n",
      "square of 0  is 0\n",
      "cube of 1 is 1square of 1  is 1\n",
      "\n",
      "square of 2  is 4\n",
      "cube of 2 is 8\n",
      "cube of 3 is 27\n",
      "square of 3  is 9\n",
      "cube of 4 is 64square of 4  is 16\n",
      "\n",
      "square of 5  is 25cube of 5 is 125\n",
      "\n",
      "cube of 6 is 216square of 6  is 36\n",
      "\n",
      "square of 7  is 49cube of 7 is 343\n",
      "\n",
      "cube of 8 is 512square of 8  is 64\n",
      "\n",
      "square of 9  is 81\n",
      "cube of 9 is 729\n",
      "square of 10  is 100\n",
      "cube of 10 is 1000\n",
      "square of 11  is 121\n",
      "cube of 11 is 1331\n",
      "square of 12  is 144\n",
      "cube of 12 is 1728\n",
      "square of 13  is 169\n",
      "cube of 13 is 2197\n",
      "square of 14  is 196\n",
      "cube of 14 is 2744\n",
      "square of 15  is 225\n",
      "cube of 15 is 3375\n",
      "square of 16  is 256\n",
      "cube of 16 is 4096\n",
      "square of 17  is 289\n",
      "cube of 17 is 4913\n",
      "square of 18  is 324\n",
      "cube of 18 is 5832\n",
      "square of 19  is 361\n",
      "cube of 19 is 6859\n",
      "square of 20  is 400\n",
      "cube of 20 is 8000\n",
      "square of 21  is 441\n",
      "cube of 21 is 9261\n",
      "square of 22  is 484\n",
      "cube of 22 is 10648\n",
      "square of 23  is 529\n",
      "cube of 23 is 12167\n",
      "square of 24  is 576\n",
      "cube of 24 is 13824\n",
      "square of 25  is 625\n",
      "cube of 25 is 15625\n",
      "square of 26  is 676\n",
      "cube of 26 is 17576\n",
      "cube of 27 is 19683\n",
      "square of 27  is 729\n",
      "cube of 28 is 21952\n",
      "square of 28  is 784\n",
      "cube of 29 is 24389\n",
      "square of 29  is 841\n",
      "cube of 30 is 27000\n",
      "square of 30  is 900\n",
      "cube of 31 is 29791\n",
      "square of 31  is 961\n",
      "cube of 32 is 32768\n",
      "square of 32  is 1024\n",
      "cube of 33 is 35937\n",
      "square of 33  is 1089\n",
      "cube of 34 is 39304\n",
      "square of 34  is 1156\n",
      "cube of 35 is 42875\n",
      "square of 35  is 1225\n",
      "cube of 36 is 46656\n",
      "square of 36  is 1296\n",
      "cube of 37 is 50653\n",
      "square of 37  is 1369\n",
      "cube of 38 is 54872\n",
      "square of 38  is 1444\n",
      "cube of 39 is 59319\n",
      "square of 39  is 1521\n",
      "cube of 40 is 64000\n",
      "square of 40  is 1600\n",
      "cube of 41 is 68921square of 41  is 1681\n",
      "\n",
      "square of 42  is 1764cube of 42 is 74088\n",
      "\n",
      "cube of 43 is 79507\n",
      "square of 43  is 1849\n",
      "cube of 44 is 85184\n",
      "square of 44  is 1936\n",
      "cube of 45 is 91125\n",
      "square of 45  is 2025\n",
      "cube of 46 is 97336\n",
      "square of 46  is 2116\n",
      "cube of 47 is 103823\n",
      "square of 47  is 2209\n",
      "cube of 48 is 110592\n",
      "square of 48  is 2304\n",
      "cube of 49 is 117649\n",
      "square of 49  is 2401\n",
      "cube of 50 is 125000\n",
      "square of 50  is 2500\n",
      "cube of 51 is 132651square of 51  is 2601\n",
      "\n",
      "cube of 52 is 140608square of 52  is 2704\n",
      "\n",
      "square of 53  is 2809\n",
      "cube of 53 is 148877\n",
      "square of 54  is 2916\n",
      "cube of 54 is 157464\n",
      "square of 55  is 3025\n",
      "cube of 55 is 166375\n",
      "square of 56  is 3136\n",
      "cube of 56 is 175616\n",
      "square of 57  is 3249\n",
      "cube of 57 is 185193\n",
      "square of 58  is 3364\n",
      "cube of 58 is 195112\n",
      "square of 59  is 3481\n",
      "cube of 59 is 205379\n",
      "square of 60  is 3600\n",
      "cube of 60 is 216000\n",
      "cube of 61 is 226981square of 61  is 3721\n",
      "\n",
      "square of 62  is 3844\n",
      "cube of 62 is 238328\n",
      "square of 63  is 3969\n",
      "cube of 63 is 250047\n",
      "square of 64  is 4096\n",
      "cube of 64 is 262144\n",
      "square of 65  is 4225\n",
      "cube of 65 is 274625\n",
      "square of 66  is 4356\n",
      "cube of 66 is 287496\n",
      "square of 67  is 4489\n",
      "cube of 67 is 300763\n",
      "square of 68  is 4624\n",
      "cube of 68 is 314432\n",
      "square of 69  is 4761\n",
      "cube of 69 is 328509\n",
      "square of 70  is 4900\n",
      "cube of 70 is 343000\n",
      "square of 71  is 5041cube of 71 is 357911\n",
      "\n",
      "cube of 72 is 373248square of 72  is 5184\n",
      "\n",
      "square of 73  is 5329\n",
      "cube of 73 is 389017\n",
      "square of 74  is 5476\n",
      "cube of 74 is 405224\n",
      "square of 75  is 5625\n",
      "cube of 75 is 421875\n",
      "square of 76  is 5776\n",
      "cube of 76 is 438976\n",
      "square of 77  is 5929\n",
      "cube of 77 is 456533\n",
      "square of 78  is 6084\n",
      "cube of 78 is 474552\n",
      "square of 79  is 6241\n",
      "cube of 79 is 493039\n",
      "square of 80  is 6400\n",
      "cube of 80 is 512000\n",
      "cube of 81 is 531441\n",
      "square of 81  is 6561\n",
      "cube of 82 is 551368square of 82  is 6724\n",
      "\n",
      "cube of 83 is 571787square of 83  is 6889\n",
      "\n",
      "square of 84  is 7056\n",
      "cube of 84 is 592704\n",
      "square of 85  is 7225\n",
      "cube of 85 is 614125\n",
      "square of 86  is 7396\n",
      "cube of 86 is 636056\n",
      "square of 87  is 7569\n",
      "cube of 87 is 658503\n",
      "square of 88  is 7744\n",
      "cube of 88 is 681472\n",
      "square of 89  is 7921\n",
      "cube of 89 is 704969\n",
      "square of 90  is 8100\n",
      "cube of 90 is 729000\n",
      "square of 91  is 8281cube of 91 is 753571\n",
      "\n",
      "cube of 92 is 778688\n",
      "square of 92  is 8464\n",
      "cube of 93 is 804357\n",
      "square of 93  is 8649\n",
      "cube of 94 is 830584\n",
      "square of 94  is 8836\n",
      "cube of 95 is 857375\n",
      "square of 95  is 9025\n",
      "cube of 96 is 884736\n",
      "square of 96  is 9216\n",
      "cube of 97 is 912673\n",
      "square of 97  is 9409\n",
      "cube of 98 is 941192\n",
      "square of 98  is 9604\n",
      "cube of 99 is 970299\n",
      "square of 99  is 9801\n"
     ]
    }
   ],
   "source": [
    "for t in thrd1:\n",
    "    t.start()"
   ]
  },
  {
   "cell_type": "markdown",
   "id": "93e7cec1-7111-42f6-b3a7-a5c16b30035c",
   "metadata": {},
   "source": [
    "###  State advantages and disadvantages of multithreading "
   ]
  },
  {
   "cell_type": "raw",
   "id": "bb6a2961-9346-4adf-ae8a-9abb38bd716e",
   "metadata": {},
   "source": [
    "Advantages\n",
    "-------------\n",
    "\n",
    "--Threads minimize the context switching time.\n",
    "--Use of threads provides concurrency within a process.\n",
    "--Efficient communication.\n",
    "--It is more economical to create and context switch threads.\n",
    "--Threads allow utilization of multiprocessor architectures to a greater scale and efficiency.\n",
    "\n",
    "Disadvantages\n",
    "-------------\n",
    "\n",
    "In a typical operating system, most system calls are blocking.\n",
    "Multithreaded application cannot take advantage of multiprocessing."
   ]
  },
  {
   "cell_type": "markdown",
   "id": "183d7c4e-0a06-4df6-b1cb-9185946deaaf",
   "metadata": {},
   "source": [
    "### Explain deadlocks and race conditions."
   ]
  },
  {
   "cell_type": "raw",
   "id": "0ec4bb25-0dd7-4287-911d-b167047e3709",
   "metadata": {},
   "source": [
    "DEADLOCK\n",
    "---------\n",
    " Two threads hold locks on different resources, each waiting indefinitely for the other to release its lock\n",
    "\n",
    "\n",
    "RACE CONDITIONS\n",
    "----------------\n",
    "Two (or more) threads alter the state of a shared resource concurrently, leaving it in an unpredictable state."
   ]
  },
  {
   "cell_type": "code",
   "execution_count": null,
   "id": "ea35a01f-cdf1-488d-9dec-367b6c00188b",
   "metadata": {},
   "outputs": [],
   "source": []
  }
 ],
 "metadata": {
  "kernelspec": {
   "display_name": "Python 3 (ipykernel)",
   "language": "python",
   "name": "python3"
  },
  "language_info": {
   "codemirror_mode": {
    "name": "ipython",
    "version": 3
   },
   "file_extension": ".py",
   "mimetype": "text/x-python",
   "name": "python",
   "nbconvert_exporter": "python",
   "pygments_lexer": "ipython3",
   "version": "3.10.8"
  }
 },
 "nbformat": 4,
 "nbformat_minor": 5
}
