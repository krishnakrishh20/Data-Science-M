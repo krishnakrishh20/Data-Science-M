{
 "cells": [
  {
   "cell_type": "markdown",
   "id": "90d593b2-723c-4d20-941f-b973e2a24f46",
   "metadata": {},
   "source": [
    "#loops \n",
    "\n",
    "1. while loop\n",
    "2. for\n",
    "3. Nested loop\n",
    "4. loop control(break,continue,pass)\n",
    "\n"
   ]
  },
  {
   "cell_type": "code",
   "execution_count": 6,
   "id": "47040819-0b77-4d95-835a-43bc7060a5f7",
   "metadata": {},
   "outputs": [
    {
     "name": "stdout",
     "output_type": "stream",
     "text": [
      "400\n",
      "300\n",
      "200\n",
      "100\n",
      "0\n"
     ]
    }
   ],
   "source": [
    "# while loop\n",
    "\n",
    "t_amt=500\n",
    "\n",
    "while t_amt!=0:\n",
    "    t_amt=t_amt-100\n",
    "    print(t_amt)\n",
    "\n",
    "\n"
   ]
  },
  {
   "cell_type": "code",
   "execution_count": null,
   "id": "f11af5b2-56dc-4a9e-a3ca-69a601414588",
   "metadata": {},
   "outputs": [],
   "source": []
  },
  {
   "cell_type": "markdown",
   "id": "eefe83b5-f812-447c-adfd-97551a29c390",
   "metadata": {},
   "source": [
    "FOR LOOP"
   ]
  },
  {
   "cell_type": "code",
   "execution_count": 7,
   "id": "f042846a-b053-4049-8dac-ec5930e4eec1",
   "metadata": {},
   "outputs": [],
   "source": [
    "list1=[1,2,7,\"friend\"]\n"
   ]
  },
  {
   "cell_type": "code",
   "execution_count": 8,
   "id": "94716c6e-9c96-4684-b3bf-9f4b106f1069",
   "metadata": {},
   "outputs": [
    {
     "data": {
      "text/plain": [
       "[1, 2, 7, 'friend']"
      ]
     },
     "execution_count": 8,
     "metadata": {},
     "output_type": "execute_result"
    }
   ],
   "source": [
    "list1"
   ]
  },
  {
   "cell_type": "code",
   "execution_count": 15,
   "id": "b16bd3c2-efa0-4e73-a24c-b88614fbc72f",
   "metadata": {},
   "outputs": [
    {
     "name": "stdout",
     "output_type": "stream",
     "text": [
      "1\n",
      "2\n",
      "7\n",
      "friend\n"
     ]
    }
   ],
   "source": [
    "for i in list1:\n",
    "    print(i)"
   ]
  },
  {
   "cell_type": "code",
   "execution_count": 17,
   "id": "a9f03b4d-976c-4983-acf3-4f3200cb8049",
   "metadata": {},
   "outputs": [
    {
     "name": "stdout",
     "output_type": "stream",
     "text": [
      "1\n",
      "2\n",
      "3\n",
      "4\n"
     ]
    }
   ],
   "source": [
    "for i in range (1,5):\n",
    "    print( i)"
   ]
  },
  {
   "cell_type": "code",
   "execution_count": 19,
   "id": "9c8926fa-8906-48f8-a08e-dea423d9c6d1",
   "metadata": {},
   "outputs": [
    {
     "name": "stdout",
     "output_type": "stream",
     "text": [
      "1\n",
      "6\n"
     ]
    }
   ],
   "source": [
    "for i in range (1,8,5):\n",
    "    print( i)"
   ]
  },
  {
   "cell_type": "code",
   "execution_count": 27,
   "id": "b1a5d9f2-7d3c-4b23-9e73-38b33a563030",
   "metadata": {},
   "outputs": [
    {
     "name": "stdout",
     "output_type": "stream",
     "text": [
      " 1\n",
      " 1 1\n",
      " 1 1 1\n",
      " 1 1 1 1\n",
      " 1 1 1 1 1\n"
     ]
    }
   ],
   "source": [
    "for i in range(0,5):\n",
    "    for j in range (0,i+1):\n",
    "        \n",
    "        print(\" 1\" ,end=\"\")\n",
    "    print(\"\\r\")"
   ]
  },
  {
   "cell_type": "markdown",
   "id": "bb1c2779-be02-4bc2-bce8-d36d30aa9793",
   "metadata": {},
   "source": []
  },
  {
   "cell_type": "markdown",
   "id": "92fdfd63-db89-46e2-b5b6-1cfdfbdcf49b",
   "metadata": {},
   "source": [
    "Break and continue"
   ]
  },
  {
   "cell_type": "code",
   "execution_count": null,
   "id": "f567b8f9-6410-467c-b27d-396df81fcc41",
   "metadata": {},
   "outputs": [],
   "source": []
  }
 ],
 "metadata": {
  "kernelspec": {
   "display_name": "Python 3 (ipykernel)",
   "language": "python",
   "name": "python3"
  },
  "language_info": {
   "codemirror_mode": {
    "name": "ipython",
    "version": 3
   },
   "file_extension": ".py",
   "mimetype": "text/x-python",
   "name": "python",
   "nbconvert_exporter": "python",
   "pygments_lexer": "ipython3",
   "version": "3.10.8"
  }
 },
 "nbformat": 4,
 "nbformat_minor": 5
}
