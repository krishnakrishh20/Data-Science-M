{
 "cells": [
  {
   "cell_type": "markdown",
   "id": "dab5422a-16b6-4171-8ead-8472b6c9e905",
   "metadata": {},
   "source": [
    "# TUPLE"
   ]
  },
  {
   "cell_type": "code",
   "execution_count": 1,
   "id": "d98097d8-6161-4dc7-bfd3-e87445b42c3d",
   "metadata": {},
   "outputs": [],
   "source": [
    "t=(1,3,4,6,7,\"pp\",\"krishna\")"
   ]
  },
  {
   "cell_type": "code",
   "execution_count": 2,
   "id": "17310f08-dce5-4704-a586-a2b2baea53e7",
   "metadata": {},
   "outputs": [
    {
     "data": {
      "text/plain": [
       "tuple"
      ]
     },
     "execution_count": 2,
     "metadata": {},
     "output_type": "execute_result"
    }
   ],
   "source": [
    "type(t)"
   ]
  },
  {
   "cell_type": "code",
   "execution_count": 3,
   "id": "92d969be-4603-48a8-be0d-7d7bcc6c4f7e",
   "metadata": {},
   "outputs": [],
   "source": [
    "l=[2,3,5,6,7,8,\"krish\",\"I\"]"
   ]
  },
  {
   "cell_type": "code",
   "execution_count": 4,
   "id": "b86f823c-3d50-45bf-9b88-6ef810ba7775",
   "metadata": {},
   "outputs": [
    {
     "data": {
      "text/plain": [
       "list"
      ]
     },
     "execution_count": 4,
     "metadata": {},
     "output_type": "execute_result"
    }
   ],
   "source": [
    "type(l)"
   ]
  },
  {
   "cell_type": "code",
   "execution_count": null,
   "id": "b815b6bc-7f67-44e5-8562-3ab36518b227",
   "metadata": {},
   "outputs": [],
   "source": []
  },
  {
   "cell_type": "code",
   "execution_count": 6,
   "id": "55244919-bb56-438f-ac19-89a7fe32eefa",
   "metadata": {},
   "outputs": [
    {
     "data": {
      "text/plain": [
       "1"
      ]
     },
     "execution_count": 6,
     "metadata": {},
     "output_type": "execute_result"
    }
   ],
   "source": [
    "t[0]"
   ]
  },
  {
   "cell_type": "code",
   "execution_count": 7,
   "id": "ad286213-ac43-4499-b034-247a0677e50a",
   "metadata": {},
   "outputs": [
    {
     "data": {
      "text/plain": [
       "'krishna'"
      ]
     },
     "execution_count": 7,
     "metadata": {},
     "output_type": "execute_result"
    }
   ],
   "source": [
    "t[6]"
   ]
  },
  {
   "cell_type": "code",
   "execution_count": 8,
   "id": "6807b19a-a5ea-44c3-9830-c5676a3a2cdc",
   "metadata": {},
   "outputs": [
    {
     "data": {
      "text/plain": [
       "2"
      ]
     },
     "execution_count": 8,
     "metadata": {},
     "output_type": "execute_result"
    }
   ],
   "source": [
    "l[0]"
   ]
  },
  {
   "cell_type": "code",
   "execution_count": 9,
   "id": "4d8b46b2-e3a9-4ef2-a8ac-e5a45c872db7",
   "metadata": {},
   "outputs": [
    {
     "data": {
      "text/plain": [
       "'I'"
      ]
     },
     "execution_count": 9,
     "metadata": {},
     "output_type": "execute_result"
    }
   ],
   "source": [
    "l[7]"
   ]
  },
  {
   "cell_type": "code",
   "execution_count": 11,
   "id": "b7625138-40bf-4629-8feb-d148c7a2c6d8",
   "metadata": {},
   "outputs": [
    {
     "data": {
      "text/plain": [
       "('krishna', 'pp', 7, 6, 4, 3, 1)"
      ]
     },
     "execution_count": 11,
     "metadata": {},
     "output_type": "execute_result"
    }
   ],
   "source": [
    "t[::-1]"
   ]
  },
  {
   "cell_type": "code",
   "execution_count": 12,
   "id": "ef22be66-4af4-4885-8431-e107a2ee9a1c",
   "metadata": {},
   "outputs": [
    {
     "data": {
      "text/plain": [
       "(6,)"
      ]
     },
     "execution_count": 12,
     "metadata": {},
     "output_type": "execute_result"
    }
   ],
   "source": [
    "t[3:4]"
   ]
  },
  {
   "cell_type": "code",
   "execution_count": 13,
   "id": "191ed40e-4e7f-43ee-a021-bc6235bcb02a",
   "metadata": {},
   "outputs": [
    {
     "data": {
      "text/plain": [
       "('krishna',)"
      ]
     },
     "execution_count": 13,
     "metadata": {},
     "output_type": "execute_result"
    }
   ],
   "source": [
    "t[6:5:-1]"
   ]
  },
  {
   "cell_type": "code",
   "execution_count": 14,
   "id": "6dac0bc8-ffe1-4c35-97a6-cfacf2b052f9",
   "metadata": {},
   "outputs": [
    {
     "data": {
      "text/plain": [
       "('krishna', 'pp', 7)"
      ]
     },
     "execution_count": 14,
     "metadata": {},
     "output_type": "execute_result"
    }
   ],
   "source": [
    "t[6:3:-1]"
   ]
  },
  {
   "cell_type": "code",
   "execution_count": 15,
   "id": "f11494be-c7e2-4c8c-b3fa-916104bebd94",
   "metadata": {},
   "outputs": [
    {
     "data": {
      "text/plain": [
       "1"
      ]
     },
     "execution_count": 15,
     "metadata": {},
     "output_type": "execute_result"
    }
   ],
   "source": [
    "t.count(6)"
   ]
  },
  {
   "cell_type": "code",
   "execution_count": 16,
   "id": "804f2fd7-4d5d-4187-bdbc-44cbf2810b72",
   "metadata": {},
   "outputs": [
    {
     "data": {
      "text/plain": [
       "6"
      ]
     },
     "execution_count": 16,
     "metadata": {},
     "output_type": "execute_result"
    }
   ],
   "source": [
    "t.index(\"krishna\")"
   ]
  },
  {
   "cell_type": "code",
   "execution_count": 17,
   "id": "0e4168f6-b919-46d2-b2b6-4f3db7c00ca5",
   "metadata": {},
   "outputs": [
    {
     "data": {
      "text/plain": [
       "6"
      ]
     },
     "execution_count": 17,
     "metadata": {},
     "output_type": "execute_result"
    }
   ],
   "source": [
    "l.index(\"krish\")"
   ]
  },
  {
   "cell_type": "code",
   "execution_count": 18,
   "id": "48f51ff8-6089-4c68-93a3-faee149489c4",
   "metadata": {},
   "outputs": [
    {
     "data": {
      "text/plain": [
       "1"
      ]
     },
     "execution_count": 18,
     "metadata": {},
     "output_type": "execute_result"
    }
   ],
   "source": [
    "l.count(2)"
   ]
  },
  {
   "cell_type": "code",
   "execution_count": 19,
   "id": "fca6611c-43c5-454f-92bb-7b65edc9a3dd",
   "metadata": {},
   "outputs": [],
   "source": [
    "l[0]=\"my\""
   ]
  },
  {
   "cell_type": "code",
   "execution_count": 20,
   "id": "cbb3afb8-79e6-46c2-a574-9bb2d7d646a9",
   "metadata": {},
   "outputs": [
    {
     "data": {
      "text/plain": [
       "['my', 3, 5, 6, 7, 8, 'krish', 'I']"
      ]
     },
     "execution_count": 20,
     "metadata": {},
     "output_type": "execute_result"
    }
   ],
   "source": [
    "l"
   ]
  },
  {
   "cell_type": "code",
   "execution_count": 21,
   "id": "893fda36-e87a-4ddc-b6a9-8f964801a26a",
   "metadata": {},
   "outputs": [
    {
     "ename": "TypeError",
     "evalue": "'tuple' object does not support item assignment",
     "output_type": "error",
     "traceback": [
      "\u001b[0;31m---------------------------------------------------------------------------\u001b[0m",
      "\u001b[0;31mTypeError\u001b[0m                                 Traceback (most recent call last)",
      "Cell \u001b[0;32mIn[21], line 1\u001b[0m\n\u001b[0;32m----> 1\u001b[0m \u001b[43mt\u001b[49m\u001b[43m[\u001b[49m\u001b[38;5;241;43m0\u001b[39;49m\u001b[43m]\u001b[49m\u001b[38;5;241m=\u001b[39m\u001b[38;5;124m\"\u001b[39m\u001b[38;5;124mmy\u001b[39m\u001b[38;5;124m\"\u001b[39m\n",
      "\u001b[0;31mTypeError\u001b[0m: 'tuple' object does not support item assignment"
     ]
    }
   ],
   "source": [
    "t[0]=\"my\""
   ]
  },
  {
   "cell_type": "code",
   "execution_count": 22,
   "id": "e63508eb-2d9c-409a-88a7-becbb386abf0",
   "metadata": {},
   "outputs": [
    {
     "data": {
      "text/plain": [
       "3"
      ]
     },
     "execution_count": 22,
     "metadata": {},
     "output_type": "execute_result"
    }
   ],
   "source": [
    "t[1]"
   ]
  },
  {
   "cell_type": "code",
   "execution_count": 23,
   "id": "6b410217-71db-44e9-a8fb-1666bba10007",
   "metadata": {},
   "outputs": [
    {
     "data": {
      "text/plain": [
       "7"
      ]
     },
     "execution_count": 23,
     "metadata": {},
     "output_type": "execute_result"
    }
   ],
   "source": [
    "l[4]"
   ]
  },
  {
   "cell_type": "code",
   "execution_count": 24,
   "id": "7bd2bc09-9a7f-4cbd-8826-5c6563cb6d04",
   "metadata": {},
   "outputs": [
    {
     "data": {
      "text/plain": [
       "(1, 3, 4, 6, 7, 'pp', 'krishna', 1, 3, 4, 6, 7, 'pp', 'krishna')"
      ]
     },
     "execution_count": 24,
     "metadata": {},
     "output_type": "execute_result"
    }
   ],
   "source": [
    "t*2"
   ]
  },
  {
   "cell_type": "code",
   "execution_count": 25,
   "id": "76b7b3ff-eddb-4136-a38b-83fc72ad03e4",
   "metadata": {},
   "outputs": [],
   "source": [
    "t3=(t,1)"
   ]
  },
  {
   "cell_type": "code",
   "execution_count": 26,
   "id": "b1f420a5-8bfa-46cb-9813-a9553b0912f0",
   "metadata": {},
   "outputs": [
    {
     "data": {
      "text/plain": [
       "((1, 3, 4, 6, 7, 'pp', 'krishna'), 1)"
      ]
     },
     "execution_count": 26,
     "metadata": {},
     "output_type": "execute_result"
    }
   ],
   "source": [
    "t3"
   ]
  },
  {
   "cell_type": "code",
   "execution_count": 27,
   "id": "77188236-894d-42b4-a184-5be4c76209f6",
   "metadata": {},
   "outputs": [
    {
     "data": {
      "text/plain": [
       "False"
      ]
     },
     "execution_count": 27,
     "metadata": {},
     "output_type": "execute_result"
    }
   ],
   "source": [
    "5 in t"
   ]
  },
  {
   "cell_type": "code",
   "execution_count": null,
   "id": "d1aadc29-ec20-42a7-ab25-257099310231",
   "metadata": {},
   "outputs": [],
   "source": []
  },
  {
   "cell_type": "markdown",
   "id": "640c8e72-7f62-4961-8c59-47fcd7cee81e",
   "metadata": {},
   "source": [
    "# SET"
   ]
  },
  {
   "cell_type": "code",
   "execution_count": 1,
   "id": "359faa0e-8f3e-4397-b429-464ff4d5d57c",
   "metadata": {},
   "outputs": [],
   "source": [
    "s={}"
   ]
  },
  {
   "cell_type": "code",
   "execution_count": 2,
   "id": "8f101897-665b-4627-83bb-d7ca4d000a3a",
   "metadata": {},
   "outputs": [
    {
     "data": {
      "text/plain": [
       "dict"
      ]
     },
     "execution_count": 2,
     "metadata": {},
     "output_type": "execute_result"
    }
   ],
   "source": [
    "type(s)"
   ]
  },
  {
   "cell_type": "code",
   "execution_count": 5,
   "id": "4e8da43d-65e8-4bd0-a651-0bbf9c143729",
   "metadata": {},
   "outputs": [],
   "source": [
    "s={1,2,3,4,5.5,2,2,1,3}"
   ]
  },
  {
   "cell_type": "code",
   "execution_count": 6,
   "id": "d7f3a158-4f00-4495-9252-603a58d6ad1d",
   "metadata": {},
   "outputs": [
    {
     "data": {
      "text/plain": [
       "{1, 2, 3, 4, 5.5}"
      ]
     },
     "execution_count": 6,
     "metadata": {},
     "output_type": "execute_result"
    }
   ],
   "source": [
    "s"
   ]
  },
  {
   "cell_type": "code",
   "execution_count": 7,
   "id": "c7fbe773-eee4-4034-bcd9-036ef34f7472",
   "metadata": {},
   "outputs": [
    {
     "data": {
      "text/plain": [
       "set"
      ]
     },
     "execution_count": 7,
     "metadata": {},
     "output_type": "execute_result"
    }
   ],
   "source": [
    "type(s)"
   ]
  },
  {
   "cell_type": "code",
   "execution_count": 8,
   "id": "f420353b-77de-481c-af75-3e1bd0edc6e4",
   "metadata": {},
   "outputs": [
    {
     "data": {
      "text/plain": [
       "[1, 2, 3, 4, 5.5]"
      ]
     },
     "execution_count": 8,
     "metadata": {},
     "output_type": "execute_result"
    }
   ],
   "source": [
    "list(s)"
   ]
  },
  {
   "cell_type": "code",
   "execution_count": 9,
   "id": "59b57b4a-41b0-4624-90ae-8fe42be6d177",
   "metadata": {},
   "outputs": [
    {
     "data": {
      "text/plain": [
       "(1, 2, 3, 4, 5.5)"
      ]
     },
     "execution_count": 9,
     "metadata": {},
     "output_type": "execute_result"
    }
   ],
   "source": [
    "tuple(s)"
   ]
  },
  {
   "cell_type": "code",
   "execution_count": 10,
   "id": "6c22d518-1245-464c-bc3f-8f401711c63d",
   "metadata": {},
   "outputs": [
    {
     "ename": "TypeError",
     "evalue": "unhashable type: 'list'",
     "output_type": "error",
     "traceback": [
      "\u001b[0;31m---------------------------------------------------------------------------\u001b[0m",
      "\u001b[0;31mTypeError\u001b[0m                                 Traceback (most recent call last)",
      "Cell \u001b[0;32mIn[10], line 1\u001b[0m\n\u001b[0;32m----> 1\u001b[0m s2\u001b[38;5;241m=\u001b[39m{\u001b[38;5;241m1\u001b[39m,\u001b[38;5;241m2\u001b[39m,\u001b[38;5;241m3\u001b[39m,\u001b[38;5;241m4\u001b[39m,\u001b[38;5;241m5\u001b[39m,[\u001b[38;5;241m1\u001b[39m,\u001b[38;5;241m2\u001b[39m]}\n",
      "\u001b[0;31mTypeError\u001b[0m: unhashable type: 'list'"
     ]
    }
   ],
   "source": [
    "s2={1,2,3,4,5,[1,2]}"
   ]
  },
  {
   "cell_type": "code",
   "execution_count": 11,
   "id": "85808ea3-2a4f-4137-a194-b94e7a5da14d",
   "metadata": {},
   "outputs": [],
   "source": [
    "s2={12,3,4.5,(3,4,5)}"
   ]
  },
  {
   "cell_type": "code",
   "execution_count": 12,
   "id": "fd951f8c-2191-4d6f-8297-f4d6bdb3a429",
   "metadata": {},
   "outputs": [
    {
     "data": {
      "text/plain": [
       "{(3, 4, 5), 12, 3, 4.5}"
      ]
     },
     "execution_count": 12,
     "metadata": {},
     "output_type": "execute_result"
    }
   ],
   "source": [
    "s2"
   ]
  },
  {
   "cell_type": "code",
   "execution_count": 13,
   "id": "26061f9f-77e4-4a31-a291-addc6c85f670",
   "metadata": {},
   "outputs": [
    {
     "ename": "TypeError",
     "evalue": "'set' object is not subscriptable",
     "output_type": "error",
     "traceback": [
      "\u001b[0;31m---------------------------------------------------------------------------\u001b[0m",
      "\u001b[0;31mTypeError\u001b[0m                                 Traceback (most recent call last)",
      "Cell \u001b[0;32mIn[13], line 1\u001b[0m\n\u001b[0;32m----> 1\u001b[0m \u001b[43ms2\u001b[49m\u001b[43m[\u001b[49m\u001b[38;5;241;43m0\u001b[39;49m\u001b[43m]\u001b[49m\n",
      "\u001b[0;31mTypeError\u001b[0m: 'set' object is not subscriptable"
     ]
    }
   ],
   "source": [
    "s2[0]"
   ]
  },
  {
   "cell_type": "code",
   "execution_count": 15,
   "id": "1507bf39-cebb-413b-8fe4-46d5a21531a7",
   "metadata": {},
   "outputs": [
    {
     "name": "stdout",
     "output_type": "stream",
     "text": [
      "3\n",
      "(3, 4, 5)\n",
      "12\n",
      "4.5\n"
     ]
    }
   ],
   "source": [
    "for i in s2:\n",
    "    print(i)"
   ]
  },
  {
   "cell_type": "code",
   "execution_count": 16,
   "id": "79db7f63-ced5-48a6-a3e1-87fad47dd0e1",
   "metadata": {},
   "outputs": [],
   "source": [
    "s.add(\"krishna\")"
   ]
  },
  {
   "cell_type": "code",
   "execution_count": 17,
   "id": "ec31fecc-8808-4cd1-a7fc-0ab9f95c0a16",
   "metadata": {},
   "outputs": [
    {
     "data": {
      "text/plain": [
       "{1, 2, 3, 4, 5.5, 'krishna'}"
      ]
     },
     "execution_count": 17,
     "metadata": {},
     "output_type": "execute_result"
    }
   ],
   "source": [
    "s"
   ]
  },
  {
   "cell_type": "code",
   "execution_count": 18,
   "id": "6ba24daa-ccc0-4c1d-ad39-04a5743c2dda",
   "metadata": {},
   "outputs": [],
   "source": [
    "s.clear()"
   ]
  },
  {
   "cell_type": "code",
   "execution_count": 19,
   "id": "29237045-c431-4e33-b828-7eb49c0bb32f",
   "metadata": {},
   "outputs": [
    {
     "data": {
      "text/plain": [
       "3"
      ]
     },
     "execution_count": 19,
     "metadata": {},
     "output_type": "execute_result"
    }
   ],
   "source": [
    "s2.pop()"
   ]
  },
  {
   "cell_type": "code",
   "execution_count": null,
   "id": "c11c5de0-6055-4d87-ba37-e600963c0c80",
   "metadata": {},
   "outputs": [],
   "source": []
  },
  {
   "cell_type": "markdown",
   "id": "7233b07b-e9d9-4432-83a1-006c255ff792",
   "metadata": {},
   "source": [
    "# DICTIONARY"
   ]
  },
  {
   "cell_type": "code",
   "execution_count": 56,
   "id": "d8a309ad-00f3-40c7-bfdf-e989b32d976d",
   "metadata": {},
   "outputs": [],
   "source": [
    "d={}"
   ]
  },
  {
   "cell_type": "code",
   "execution_count": 57,
   "id": "4e985b05-ed5d-43fc-813d-4950202b0ab5",
   "metadata": {},
   "outputs": [
    {
     "data": {
      "text/plain": [
       "dict"
      ]
     },
     "execution_count": 57,
     "metadata": {},
     "output_type": "execute_result"
    }
   ],
   "source": [
    "type(d)"
   ]
  },
  {
   "cell_type": "code",
   "execution_count": 58,
   "id": "e2565980-2d80-4fea-a259-952b2fa6d109",
   "metadata": {},
   "outputs": [],
   "source": [
    "d1={\"name\":\"krishna\",\"age\":\"60\",\"phn\":345}"
   ]
  },
  {
   "cell_type": "code",
   "execution_count": 59,
   "id": "8f4b0770-a2af-4ead-b8aa-d91157200484",
   "metadata": {},
   "outputs": [
    {
     "data": {
      "text/plain": [
       "{'name': 'krishna', 'age': '60', 'phn': 345}"
      ]
     },
     "execution_count": 59,
     "metadata": {},
     "output_type": "execute_result"
    }
   ],
   "source": [
    "d1"
   ]
  },
  {
   "cell_type": "code",
   "execution_count": 60,
   "id": "fa049687-edd4-471b-a7ac-8a72ee6b1ce7",
   "metadata": {},
   "outputs": [
    {
     "data": {
      "text/plain": [
       "dict"
      ]
     },
     "execution_count": 60,
     "metadata": {},
     "output_type": "execute_result"
    }
   ],
   "source": [
    "\n",
    "\n",
    "type(d1)"
   ]
  },
  {
   "cell_type": "code",
   "execution_count": 61,
   "id": "0db053bb-82a3-4e44-8b26-d82bb7db66c2",
   "metadata": {},
   "outputs": [],
   "source": [
    "\n",
    "\n",
    "\n",
    "d2={\"name\":\"kp\",\"name\":\"priya\"}"
   ]
  },
  {
   "cell_type": "code",
   "execution_count": 62,
   "id": "6e30ee06-82f8-4900-b3f9-682e49957cc1",
   "metadata": {},
   "outputs": [
    {
     "data": {
      "text/plain": [
       "{'name': 'priya'}"
      ]
     },
     "execution_count": 62,
     "metadata": {},
     "output_type": "execute_result"
    }
   ],
   "source": [
    "d2"
   ]
  },
  {
   "cell_type": "code",
   "execution_count": 63,
   "id": "2cf35956-2d83-4048-9e71-31556b5a4ad2",
   "metadata": {},
   "outputs": [],
   "source": [
    "d3={1:\"you\"}"
   ]
  },
  {
   "cell_type": "code",
   "execution_count": 64,
   "id": "f9a6051f-32d0-4037-a02b-bec7613928fb",
   "metadata": {},
   "outputs": [
    {
     "data": {
      "text/plain": [
       "{1: 'you'}"
      ]
     },
     "execution_count": 64,
     "metadata": {},
     "output_type": "execute_result"
    }
   ],
   "source": [
    "d3"
   ]
  },
  {
   "cell_type": "code",
   "execution_count": 65,
   "id": "9ac367ba-389d-4691-b192-8231db988eef",
   "metadata": {},
   "outputs": [],
   "source": [
    "d4={3.4:\"my\"}"
   ]
  },
  {
   "cell_type": "code",
   "execution_count": 66,
   "id": "80e891eb-15e4-4339-bfe2-83f747175451",
   "metadata": {},
   "outputs": [
    {
     "data": {
      "text/plain": [
       "{3.4: 'my'}"
      ]
     },
     "execution_count": 66,
     "metadata": {},
     "output_type": "execute_result"
    }
   ],
   "source": [
    "d4"
   ]
  },
  {
   "cell_type": "code",
   "execution_count": 67,
   "id": "7a9a0637-0df0-4cac-a67a-588427fbac25",
   "metadata": {},
   "outputs": [],
   "source": [
    "d5={True:\"m\"}"
   ]
  },
  {
   "cell_type": "code",
   "execution_count": 68,
   "id": "605081ce-7cb0-45d0-894d-1eaa8dbb9840",
   "metadata": {},
   "outputs": [
    {
     "data": {
      "text/plain": [
       "{True: 'm'}"
      ]
     },
     "execution_count": 68,
     "metadata": {},
     "output_type": "execute_result"
    }
   ],
   "source": [
    "d5"
   ]
  },
  {
   "cell_type": "code",
   "execution_count": 69,
   "id": "3f6f7d60-b9f7-49ab-a188-4e027d612e67",
   "metadata": {},
   "outputs": [
    {
     "ename": "SyntaxError",
     "evalue": "invalid syntax (2767495727.py, line 1)",
     "output_type": "error",
     "traceback": [
      "\u001b[0;36m  Cell \u001b[0;32mIn[69], line 1\u001b[0;36m\u001b[0m\n\u001b[0;31m    d6={%:\"jgu\"}\u001b[0m\n\u001b[0m        ^\u001b[0m\n\u001b[0;31mSyntaxError\u001b[0m\u001b[0;31m:\u001b[0m invalid syntax\n"
     ]
    }
   ],
   "source": [
    "d6={%:\"jgu\"}"
   ]
  },
  {
   "cell_type": "code",
   "execution_count": 70,
   "id": "dfe4a571-e6c6-4d3c-ac91-0be191f12e5d",
   "metadata": {},
   "outputs": [
    {
     "ename": "TypeError",
     "evalue": "unhashable type: 'list'",
     "output_type": "error",
     "traceback": [
      "\u001b[0;31m---------------------------------------------------------------------------\u001b[0m",
      "\u001b[0;31mTypeError\u001b[0m                                 Traceback (most recent call last)",
      "Cell \u001b[0;32mIn[70], line 1\u001b[0m\n\u001b[0;32m----> 1\u001b[0m d7\u001b[38;5;241m=\u001b[39m{[\u001b[38;5;241m1\u001b[39m,\u001b[38;5;241m2\u001b[39m]:\u001b[38;5;124m\"\u001b[39m\u001b[38;5;124mab\u001b[39m\u001b[38;5;124m\"\u001b[39m}\n",
      "\u001b[0;31mTypeError\u001b[0m: unhashable type: 'list'"
     ]
    }
   ],
   "source": [
    "d7={[1,2]:\"ab\"}"
   ]
  },
  {
   "cell_type": "code",
   "execution_count": 71,
   "id": "a6f9718a-36ee-4645-a627-f6a00af0ade7",
   "metadata": {},
   "outputs": [],
   "source": [
    "d8={(1,2):7}"
   ]
  },
  {
   "cell_type": "code",
   "execution_count": 72,
   "id": "82f900a2-7738-4b87-82c1-297cd5c45561",
   "metadata": {},
   "outputs": [
    {
     "data": {
      "text/plain": [
       "{(1, 2): 7}"
      ]
     },
     "execution_count": 72,
     "metadata": {},
     "output_type": "execute_result"
    }
   ],
   "source": [
    "d8"
   ]
  },
  {
   "cell_type": "code",
   "execution_count": 73,
   "id": "19725701-35ae-48ce-accb-0d59514cdfb4",
   "metadata": {},
   "outputs": [
    {
     "ename": "TypeError",
     "evalue": "unhashable type: 'set'",
     "output_type": "error",
     "traceback": [
      "\u001b[0;31m---------------------------------------------------------------------------\u001b[0m",
      "\u001b[0;31mTypeError\u001b[0m                                 Traceback (most recent call last)",
      "Cell \u001b[0;32mIn[73], line 1\u001b[0m\n\u001b[0;32m----> 1\u001b[0m d9\u001b[38;5;241m=\u001b[39m{{\u001b[38;5;241m1\u001b[39m,\u001b[38;5;124m\"\u001b[39m\u001b[38;5;124mab\u001b[39m\u001b[38;5;124m\"\u001b[39m}:\u001b[38;5;124m\"\u001b[39m\u001b[38;5;124mgs\u001b[39m\u001b[38;5;124m\"\u001b[39m}\n",
      "\u001b[0;31mTypeError\u001b[0m: unhashable type: 'set'"
     ]
    }
   ],
   "source": [
    "d9={{1,\"ab\"}:\"gs\"}"
   ]
  },
  {
   "cell_type": "code",
   "execution_count": 74,
   "id": "6756d635-5806-4149-88f3-0cbb659992ea",
   "metadata": {},
   "outputs": [
    {
     "ename": "TypeError",
     "evalue": "unhashable type: 'dict'",
     "output_type": "error",
     "traceback": [
      "\u001b[0;31m---------------------------------------------------------------------------\u001b[0m",
      "\u001b[0;31mTypeError\u001b[0m                                 Traceback (most recent call last)",
      "Cell \u001b[0;32mIn[74], line 1\u001b[0m\n\u001b[0;32m----> 1\u001b[0m d10\u001b[38;5;241m=\u001b[39m{{\u001b[38;5;124m\"\u001b[39m\u001b[38;5;124mk\u001b[39m\u001b[38;5;124m\"\u001b[39m:\u001b[38;5;124m\"\u001b[39m\u001b[38;5;124mm\u001b[39m\u001b[38;5;124m\"\u001b[39m}:\u001b[38;5;241m67\u001b[39m}\n",
      "\u001b[0;31mTypeError\u001b[0m: unhashable type: 'dict'"
     ]
    }
   ],
   "source": [
    "d10={{\"k\":\"m\"}:67}"
   ]
  },
  {
   "cell_type": "raw",
   "id": "acf203bd-fc62-4a8e-9564-98011a48c3f8",
   "metadata": {},
   "source": [
    "key should always be unique"
   ]
  },
  {
   "cell_type": "code",
   "execution_count": 75,
   "id": "50680943-93b3-4721-860b-cfca3f5205c8",
   "metadata": {},
   "outputs": [],
   "source": [
    "d11={\"course_name\":[\"data_science\",\"web_dev\",\"java\"]}"
   ]
  },
  {
   "cell_type": "code",
   "execution_count": 76,
   "id": "ddba556b-dc6b-4051-a249-be8e484ee2c5",
   "metadata": {},
   "outputs": [
    {
     "data": {
      "text/plain": [
       "{'course_name': ['data_science', 'web_dev', 'java']}"
      ]
     },
     "execution_count": 76,
     "metadata": {},
     "output_type": "execute_result"
    }
   ],
   "source": [
    "d11"
   ]
  },
  {
   "cell_type": "code",
   "execution_count": 77,
   "id": "e705eeb7-ffe3-48f5-b5ca-0351628debc5",
   "metadata": {},
   "outputs": [],
   "source": [
    "d12={\"key\":(1,2,4,5)}"
   ]
  },
  {
   "cell_type": "code",
   "execution_count": 78,
   "id": "d30b79dc-1934-46a1-9bda-b19297bb4ec6",
   "metadata": {},
   "outputs": [
    {
     "data": {
      "text/plain": [
       "{'key': (1, 2, 4, 5)}"
      ]
     },
     "execution_count": 78,
     "metadata": {},
     "output_type": "execute_result"
    }
   ],
   "source": [
    "d12"
   ]
  },
  {
   "cell_type": "code",
   "execution_count": 79,
   "id": "600dbd88-e9df-40f2-991f-df7f653ebadd",
   "metadata": {},
   "outputs": [],
   "source": [
    "d13={\"m\":{3.,5.6,0}}"
   ]
  },
  {
   "cell_type": "code",
   "execution_count": 80,
   "id": "828fbaaa-ad16-41f1-a740-56df1a9fcd83",
   "metadata": {},
   "outputs": [
    {
     "data": {
      "text/plain": [
       "{'m': {0, 3.0, 5.6}}"
      ]
     },
     "execution_count": 80,
     "metadata": {},
     "output_type": "execute_result"
    }
   ],
   "source": [
    "d13"
   ]
  },
  {
   "cell_type": "raw",
   "id": "33da7a47-ee48-43d3-b022-3170eba49b07",
   "metadata": {},
   "source": [
    "key -only tuple, value-list,tuple ,set,dictionary,"
   ]
  },
  {
   "cell_type": "code",
   "execution_count": 81,
   "id": "a2cb4857-2caf-43a6-8d25-17d687f38cd3",
   "metadata": {},
   "outputs": [],
   "source": [
    "d14={\"courses\":[\"ML\",\"DS\",\"WD\"],\"Fee\":[1000,2000,2400],\"Duration\":(20,30,20)}"
   ]
  },
  {
   "cell_type": "code",
   "execution_count": 82,
   "id": "70ef1da7-c291-4562-a827-f0fddac742b7",
   "metadata": {},
   "outputs": [
    {
     "data": {
      "text/plain": [
       "{'courses': ['ML', 'DS', 'WD'],\n",
       " 'Fee': [1000, 2000, 2400],\n",
       " 'Duration': (20, 30, 20)}"
      ]
     },
     "execution_count": 82,
     "metadata": {},
     "output_type": "execute_result"
    }
   ],
   "source": [
    "d14"
   ]
  },
  {
   "cell_type": "code",
   "execution_count": 83,
   "id": "c8ae19ec-90c6-4a88-b465-888612c2a112",
   "metadata": {},
   "outputs": [],
   "source": [
    "d14[\"mentors\"]={\"hk\",\"mh\",\"ku\"}"
   ]
  },
  {
   "cell_type": "code",
   "execution_count": 84,
   "id": "b6880689-b04d-47ca-84cb-6aadc2282b54",
   "metadata": {},
   "outputs": [
    {
     "data": {
      "text/plain": [
       "{'courses': ['ML', 'DS', 'WD'],\n",
       " 'Fee': [1000, 2000, 2400],\n",
       " 'Duration': (20, 30, 20),\n",
       " 'mentors': {'hk', 'ku', 'mh'}}"
      ]
     },
     "execution_count": 84,
     "metadata": {},
     "output_type": "execute_result"
    }
   ],
   "source": [
    "d14"
   ]
  },
  {
   "cell_type": "code",
   "execution_count": 85,
   "id": "9efbf31c-f1a5-49aa-ae7c-1032c0fbf671",
   "metadata": {},
   "outputs": [
    {
     "data": {
      "text/plain": [
       "['ML', 'DS', 'WD']"
      ]
     },
     "execution_count": 85,
     "metadata": {},
     "output_type": "execute_result"
    }
   ],
   "source": [
    "d14[\"courses\"]"
   ]
  },
  {
   "cell_type": "code",
   "execution_count": 86,
   "id": "c4699322-96ee-4dc7-a90d-13563290300b",
   "metadata": {},
   "outputs": [],
   "source": [
    "d14[\"time\"]=(\"eight\")"
   ]
  },
  {
   "cell_type": "code",
   "execution_count": 87,
   "id": "92aa564b-3e38-4f76-b4e5-cc9634825268",
   "metadata": {},
   "outputs": [
    {
     "data": {
      "text/plain": [
       "{'courses': ['ML', 'DS', 'WD'],\n",
       " 'Fee': [1000, 2000, 2400],\n",
       " 'Duration': (20, 30, 20),\n",
       " 'mentors': {'hk', 'ku', 'mh'},\n",
       " 'time': 'eight'}"
      ]
     },
     "execution_count": 87,
     "metadata": {},
     "output_type": "execute_result"
    }
   ],
   "source": [
    "d14"
   ]
  },
  {
   "cell_type": "code",
   "execution_count": 88,
   "id": "0fe9b586-b9d9-4adb-95dd-626189c9edec",
   "metadata": {},
   "outputs": [
    {
     "data": {
      "text/plain": [
       "'EIGHT'"
      ]
     },
     "execution_count": 88,
     "metadata": {},
     "output_type": "execute_result"
    }
   ],
   "source": [
    "d14[\"time\"].upper()"
   ]
  },
  {
   "cell_type": "code",
   "execution_count": 89,
   "id": "70216a02-e856-444a-988e-ab3c04027ef7",
   "metadata": {},
   "outputs": [],
   "source": [
    "d17={\"key\":{'name':\"kp\",\"class\":\"nm\"}}"
   ]
  },
  {
   "cell_type": "code",
   "execution_count": 90,
   "id": "fc129526-011b-4285-b671-91122f8e689d",
   "metadata": {},
   "outputs": [
    {
     "data": {
      "text/plain": [
       "{'key': {'name': 'kp', 'class': 'nm'}}"
      ]
     },
     "execution_count": 90,
     "metadata": {},
     "output_type": "execute_result"
    }
   ],
   "source": [
    "d17"
   ]
  },
  {
   "cell_type": "code",
   "execution_count": 91,
   "id": "6ca6b42c-c71d-494c-9beb-8f1d84545aef",
   "metadata": {},
   "outputs": [
    {
     "data": {
      "text/plain": [
       "dict"
      ]
     },
     "execution_count": 91,
     "metadata": {},
     "output_type": "execute_result"
    }
   ],
   "source": [
    "type(d17[\"key\"])"
   ]
  },
  {
   "cell_type": "code",
   "execution_count": 92,
   "id": "6ade3c9a-5172-45d2-8cf5-90a9c862749c",
   "metadata": {},
   "outputs": [
    {
     "data": {
      "text/plain": [
       "'nm'"
      ]
     },
     "execution_count": 92,
     "metadata": {},
     "output_type": "execute_result"
    }
   ],
   "source": [
    "d17[\"key\"][\"class\"]"
   ]
  },
  {
   "cell_type": "code",
   "execution_count": 93,
   "id": "a914463a-ea36-4368-b1c6-b8eba3d7b977",
   "metadata": {},
   "outputs": [],
   "source": [
    "del d17[\"key\"]"
   ]
  },
  {
   "cell_type": "code",
   "execution_count": 94,
   "id": "895ea525-380b-438c-9f0f-cb91fe1b98ac",
   "metadata": {},
   "outputs": [
    {
     "data": {
      "text/plain": [
       "{}"
      ]
     },
     "execution_count": 94,
     "metadata": {},
     "output_type": "execute_result"
    }
   ],
   "source": [
    "d17"
   ]
  },
  {
   "cell_type": "code",
   "execution_count": 95,
   "id": "2c2e86cb-1447-4123-9fcb-71f01a0001c7",
   "metadata": {},
   "outputs": [
    {
     "data": {
      "text/plain": [
       "0"
      ]
     },
     "execution_count": 95,
     "metadata": {},
     "output_type": "execute_result"
    }
   ],
   "source": [
    "len(d17)\n",
    "\n"
   ]
  },
  {
   "cell_type": "code",
   "execution_count": 96,
   "id": "4c34c386-766d-44bb-a6fa-c27c07061a0c",
   "metadata": {},
   "outputs": [
    {
     "data": {
      "text/plain": [
       "dict_keys(['courses', 'Fee', 'Duration', 'mentors', 'time'])"
      ]
     },
     "execution_count": 96,
     "metadata": {},
     "output_type": "execute_result"
    }
   ],
   "source": [
    "d14.keys()"
   ]
  },
  {
   "cell_type": "code",
   "execution_count": 97,
   "id": "48d6e227-c61b-417a-a3b0-e901854f734f",
   "metadata": {},
   "outputs": [
    {
     "data": {
      "text/plain": [
       "dict_values([['ML', 'DS', 'WD'], [1000, 2000, 2400], (20, 30, 20), {'ku', 'hk', 'mh'}, 'eight'])"
      ]
     },
     "execution_count": 97,
     "metadata": {},
     "output_type": "execute_result"
    }
   ],
   "source": [
    "d14.values()"
   ]
  },
  {
   "cell_type": "code",
   "execution_count": 98,
   "id": "2160e3d8-d8b4-4a72-a5f2-ca3a7542297e",
   "metadata": {},
   "outputs": [],
   "source": [
    "l=list(d14.keys())"
   ]
  },
  {
   "cell_type": "code",
   "execution_count": 99,
   "id": "77b40f32-adfd-450c-ba75-1ee09e8d47be",
   "metadata": {},
   "outputs": [
    {
     "data": {
      "text/plain": [
       "['courses', 'Fee', 'Duration', 'mentors', 'time']"
      ]
     },
     "execution_count": 99,
     "metadata": {},
     "output_type": "execute_result"
    }
   ],
   "source": [
    "l"
   ]
  },
  {
   "cell_type": "code",
   "execution_count": 100,
   "id": "aef6ec35-dd64-44c1-9756-d2ea3c1b925b",
   "metadata": {},
   "outputs": [
    {
     "data": {
      "text/plain": [
       "[['ML', 'DS', 'WD'],\n",
       " [1000, 2000, 2400],\n",
       " (20, 30, 20),\n",
       " {'hk', 'ku', 'mh'},\n",
       " 'eight']"
      ]
     },
     "execution_count": 100,
     "metadata": {},
     "output_type": "execute_result"
    }
   ],
   "source": [
    "list(d14.values())"
   ]
  },
  {
   "cell_type": "code",
   "execution_count": 101,
   "id": "f6bf6c35-4acd-41ed-87df-dcd414940622",
   "metadata": {},
   "outputs": [
    {
     "data": {
      "text/plain": [
       "dict_items([('courses', ['ML', 'DS', 'WD']), ('Fee', [1000, 2000, 2400]), ('Duration', (20, 30, 20)), ('mentors', {'ku', 'hk', 'mh'}), ('time', 'eight')])"
      ]
     },
     "execution_count": 101,
     "metadata": {},
     "output_type": "execute_result"
    }
   ],
   "source": [
    "d14.items()"
   ]
  },
  {
   "cell_type": "code",
   "execution_count": 102,
   "id": "f9d6dc8e-9c80-4f15-ae58-5caaf69cc60c",
   "metadata": {},
   "outputs": [],
   "source": [
    "d18=d14.copy()"
   ]
  },
  {
   "cell_type": "code",
   "execution_count": 103,
   "id": "b5313411-82b4-4020-a21c-41ad18f49264",
   "metadata": {},
   "outputs": [
    {
     "data": {
      "text/plain": [
       "{'courses': ['ML', 'DS', 'WD'],\n",
       " 'Fee': [1000, 2000, 2400],\n",
       " 'Duration': (20, 30, 20),\n",
       " 'mentors': {'hk', 'ku', 'mh'},\n",
       " 'time': 'eight'}"
      ]
     },
     "execution_count": 103,
     "metadata": {},
     "output_type": "execute_result"
    }
   ],
   "source": [
    "d18"
   ]
  },
  {
   "cell_type": "code",
   "execution_count": 104,
   "id": "a455638b-d6d2-4b45-ae1f-8003b2c4483f",
   "metadata": {},
   "outputs": [],
   "source": [
    "del d18[\"time\"]"
   ]
  },
  {
   "cell_type": "code",
   "execution_count": 105,
   "id": "17ca5593-44f1-4c3e-825c-3b7274d27af4",
   "metadata": {},
   "outputs": [
    {
     "data": {
      "text/plain": [
       "{'courses': ['ML', 'DS', 'WD'],\n",
       " 'Fee': [1000, 2000, 2400],\n",
       " 'Duration': (20, 30, 20),\n",
       " 'mentors': {'hk', 'ku', 'mh'},\n",
       " 'time': 'eight'}"
      ]
     },
     "execution_count": 105,
     "metadata": {},
     "output_type": "execute_result"
    }
   ],
   "source": [
    "d14"
   ]
  },
  {
   "cell_type": "code",
   "execution_count": 106,
   "id": "94c257de-6031-4fee-9e4b-83d2b970a6c2",
   "metadata": {},
   "outputs": [
    {
     "data": {
      "text/plain": [
       "{'courses': ['ML', 'DS', 'WD'],\n",
       " 'Fee': [1000, 2000, 2400],\n",
       " 'Duration': (20, 30, 20),\n",
       " 'mentors': {'hk', 'ku', 'mh'}}"
      ]
     },
     "execution_count": 106,
     "metadata": {},
     "output_type": "execute_result"
    }
   ],
   "source": [
    "d18"
   ]
  },
  {
   "cell_type": "code",
   "execution_count": 107,
   "id": "5dfb1852-e450-4eab-9058-6f4295dd6e84",
   "metadata": {},
   "outputs": [],
   "source": [
    "d19=d14"
   ]
  },
  {
   "cell_type": "code",
   "execution_count": 108,
   "id": "d371a6d5-26ec-478c-bea0-da0a101388d8",
   "metadata": {},
   "outputs": [
    {
     "data": {
      "text/plain": [
       "{'courses': ['ML', 'DS', 'WD'],\n",
       " 'Fee': [1000, 2000, 2400],\n",
       " 'Duration': (20, 30, 20),\n",
       " 'mentors': {'hk', 'ku', 'mh'},\n",
       " 'time': 'eight'}"
      ]
     },
     "execution_count": 108,
     "metadata": {},
     "output_type": "execute_result"
    }
   ],
   "source": [
    "d19"
   ]
  },
  {
   "cell_type": "code",
   "execution_count": 109,
   "id": "2e6b52b6-fa4d-4b9e-b6c8-7ea95ea52c57",
   "metadata": {},
   "outputs": [],
   "source": [
    "del d19[\"time\"]"
   ]
  },
  {
   "cell_type": "code",
   "execution_count": 110,
   "id": "b29b0a55-ce0b-43db-8bf6-909fd51737c0",
   "metadata": {},
   "outputs": [
    {
     "data": {
      "text/plain": [
       "{'courses': ['ML', 'DS', 'WD'],\n",
       " 'Fee': [1000, 2000, 2400],\n",
       " 'Duration': (20, 30, 20),\n",
       " 'mentors': {'hk', 'ku', 'mh'}}"
      ]
     },
     "execution_count": 110,
     "metadata": {},
     "output_type": "execute_result"
    }
   ],
   "source": [
    "d19"
   ]
  },
  {
   "cell_type": "code",
   "execution_count": 111,
   "id": "cf1b1bfb-e4ad-4118-bbcf-2bfaf5ab9edc",
   "metadata": {},
   "outputs": [
    {
     "data": {
      "text/plain": [
       "{'courses': ['ML', 'DS', 'WD'],\n",
       " 'Fee': [1000, 2000, 2400],\n",
       " 'Duration': (20, 30, 20),\n",
       " 'mentors': {'hk', 'ku', 'mh'}}"
      ]
     },
     "execution_count": 111,
     "metadata": {},
     "output_type": "execute_result"
    }
   ],
   "source": [
    "d14"
   ]
  },
  {
   "cell_type": "code",
   "execution_count": 112,
   "id": "b7af1d1d-91b5-40b4-8646-572c7650833a",
   "metadata": {},
   "outputs": [
    {
     "data": {
      "text/plain": [
       "{'hk', 'ku', 'mh'}"
      ]
     },
     "execution_count": 112,
     "metadata": {},
     "output_type": "execute_result"
    }
   ],
   "source": [
    "d14.pop(\"mentors\")"
   ]
  },
  {
   "cell_type": "code",
   "execution_count": 113,
   "id": "16441dd3-3ef6-4db3-a0ae-b00ec81595d1",
   "metadata": {},
   "outputs": [
    {
     "data": {
      "text/plain": [
       "{'courses': ['ML', 'DS', 'WD'],\n",
       " 'Fee': [1000, 2000, 2400],\n",
       " 'Duration': (20, 30, 20)}"
      ]
     },
     "execution_count": 113,
     "metadata": {},
     "output_type": "execute_result"
    }
   ],
   "source": [
    "d14"
   ]
  },
  {
   "cell_type": "code",
   "execution_count": 114,
   "id": "21aef8a7-7a2a-4b9c-b0bb-f1ce7befd7fb",
   "metadata": {},
   "outputs": [
    {
     "data": {
      "text/plain": [
       "{'courses': ['ML', 'DS', 'WD'],\n",
       " 'Fee': [1000, 2000, 2400],\n",
       " 'Duration': (20, 30, 20)}"
      ]
     },
     "execution_count": 114,
     "metadata": {},
     "output_type": "execute_result"
    }
   ],
   "source": [
    "d19"
   ]
  },
  {
   "cell_type": "code",
   "execution_count": 115,
   "id": "e81acd3d-4e66-4303-83a2-cf1c11e62659",
   "metadata": {},
   "outputs": [
    {
     "data": {
      "text/plain": [
       "{'courses': ['ML', 'DS', 'WD'],\n",
       " 'Fee': [1000, 2000, 2400],\n",
       " 'Duration': (20, 30, 20),\n",
       " 'mentors': {'hk', 'ku', 'mh'}}"
      ]
     },
     "execution_count": 115,
     "metadata": {},
     "output_type": "execute_result"
    }
   ],
   "source": [
    "d18"
   ]
  },
  {
   "cell_type": "code",
   "execution_count": 117,
   "id": "b0e99839-b38e-4692-9e5f-c386bc2ff4b0",
   "metadata": {},
   "outputs": [
    {
     "data": {
      "text/plain": [
       "{1: ('a', 'b', 'c'), 2: ('a', 'b', 'c'), 3: ('a', 'b', 'c')}"
      ]
     },
     "execution_count": 117,
     "metadata": {},
     "output_type": "execute_result"
    }
   ],
   "source": [
    "d.fromkeys((1,2,3),(\"a\",\"b\",\"c\"))"
   ]
  },
  {
   "cell_type": "code",
   "execution_count": 128,
   "id": "25d39a7d-aa4b-47be-83a9-8ef26da919dd",
   "metadata": {},
   "outputs": [],
   "source": [
    "da= {\"k1\":\"v1\" ,\"k2\":\"v2\"}\n",
    "db= {\"k4\":\"v4\",\"k5\":\"v5\",\"k6\":\"v6\"}"
   ]
  },
  {
   "cell_type": "code",
   "execution_count": 129,
   "id": "b385738a-7e51-4da4-9670-560482ec6640",
   "metadata": {},
   "outputs": [
    {
     "data": {
      "text/plain": [
       "({'k1': 'v1', 'k2': 'v2'}, {'k4': 'v4', 'k5': 'v5', 'k6': 'v6'})"
      ]
     },
     "execution_count": 129,
     "metadata": {},
     "output_type": "execute_result"
    }
   ],
   "source": [
    "(da,db)"
   ]
  },
  {
   "cell_type": "code",
   "execution_count": 130,
   "id": "39d2225c-e84c-46a8-b7aa-2182f81e1392",
   "metadata": {},
   "outputs": [],
   "source": [
    "da.update(db)"
   ]
  },
  {
   "cell_type": "code",
   "execution_count": 131,
   "id": "8f5e627a-c9ec-4bc5-ace4-23a407707723",
   "metadata": {},
   "outputs": [
    {
     "data": {
      "text/plain": [
       "{'k1': 'v1', 'k2': 'v2', 'k4': 'v4', 'k5': 'v5', 'k6': 'v6'}"
      ]
     },
     "execution_count": 131,
     "metadata": {},
     "output_type": "execute_result"
    }
   ],
   "source": [
    "da"
   ]
  },
  {
   "cell_type": "code",
   "execution_count": 132,
   "id": "98d5ef75-5f63-4570-90aa-3e412c2ac4dc",
   "metadata": {},
   "outputs": [
    {
     "data": {
      "text/plain": [
       "{'k4': 'v4', 'k5': 'v5', 'k6': 'v6'}"
      ]
     },
     "execution_count": 132,
     "metadata": {},
     "output_type": "execute_result"
    }
   ],
   "source": [
    "db"
   ]
  },
  {
   "cell_type": "code",
   "execution_count": 135,
   "id": "0b12b0b0-9659-44e9-94d3-86cf21f39db2",
   "metadata": {},
   "outputs": [
    {
     "data": {
      "text/plain": [
       "'v4'"
      ]
     },
     "execution_count": 135,
     "metadata": {},
     "output_type": "execute_result"
    }
   ],
   "source": [
    "db.get(\"k4\")"
   ]
  },
  {
   "cell_type": "code",
   "execution_count": 137,
   "id": "9cdd081a-2e23-4ca9-9fde-52209495b2c2",
   "metadata": {},
   "outputs": [
    {
     "data": {
      "text/plain": [
       "{1: 1, 2: 4, 3: 9, 4: 16, 5: 25, 6: 36, 7: 49, 8: 64, 9: 81, 10: 100}"
      ]
     },
     "execution_count": 137,
     "metadata": {},
     "output_type": "execute_result"
    }
   ],
   "source": [
    "{i : i**2for i in range(1,11)}\n",
    "    "
   ]
  },
  {
   "cell_type": "code",
   "execution_count": 138,
   "id": "74fea6e6-01ac-4e79-b0c9-e3c104044774",
   "metadata": {},
   "outputs": [
    {
     "data": {
      "text/plain": [
       "{1: 11, 2: 12, 3: 13, 4: 14, 5: 15, 6: 16, 7: 17, 8: 18, 9: 19, 10: 20}"
      ]
     },
     "execution_count": 138,
     "metadata": {},
     "output_type": "execute_result"
    }
   ],
   "source": [
    "{i: i+10 for i in range(1,11)}"
   ]
  },
  {
   "cell_type": "code",
   "execution_count": 145,
   "id": "34f25df0-4ed7-4d0f-b07d-217bfb7403c0",
   "metadata": {},
   "outputs": [
    {
     "data": {
      "text/plain": [
       "{1: 0.0,\n",
       " 2: 0.3010299956639812,\n",
       " 3: 0.47712125471966244,\n",
       " 4: 0.6020599913279624,\n",
       " 5: 0.6989700043360189,\n",
       " 6: 0.7781512503836436,\n",
       " 7: 0.8450980400142568,\n",
       " 8: 0.9030899869919435,\n",
       " 9: 0.9542425094393249,\n",
       " 10: 1.0}"
      ]
     },
     "execution_count": 145,
     "metadata": {},
     "output_type": "execute_result"
    }
   ],
   "source": [
    "import math\n",
    "\n",
    "dg={i : math.log10(i) for i in range(1,11)}\n",
    "dg"
   ]
  },
  {
   "cell_type": "code",
   "execution_count": 141,
   "id": "3d142368-6915-460f-bc5f-1c699add6d03",
   "metadata": {},
   "outputs": [
    {
     "data": {
      "text/plain": [
       "{'courses': ['ML', 'DS', 'WD'],\n",
       " 'Fee': [1000, 2000, 2400],\n",
       " 'Duration': (20, 30, 20)}"
      ]
     },
     "execution_count": 141,
     "metadata": {},
     "output_type": "execute_result"
    }
   ],
   "source": [
    "d14"
   ]
  },
  {
   "cell_type": "code",
   "execution_count": 143,
   "id": "6b1b644a-0121-449e-a967-222328692a0d",
   "metadata": {},
   "outputs": [
    {
     "data": {
      "text/plain": [
       "True"
      ]
     },
     "execution_count": 143,
     "metadata": {},
     "output_type": "execute_result"
    }
   ],
   "source": [
    "'courses' in d14"
   ]
  },
  {
   "cell_type": "code",
   "execution_count": 146,
   "id": "7f273a51-1119-4f28-a6db-ff54ced23411",
   "metadata": {},
   "outputs": [
    {
     "name": "stdout",
     "output_type": "stream",
     "text": [
      "0.3010299956639812\n",
      "0.6020599913279624\n",
      "0.7781512503836436\n",
      "0.9030899869919435\n",
      "1.0\n"
     ]
    }
   ],
   "source": [
    "for i in dg.keys():\n",
    "    if i%2==0:\n",
    "        print(dg[i])"
   ]
  },
  {
   "cell_type": "code",
   "execution_count": null,
   "id": "93257348-e2ec-4078-abff-3534b21f89cf",
   "metadata": {},
   "outputs": [],
   "source": []
  }
 ],
 "metadata": {
  "kernelspec": {
   "display_name": "Python 3 (ipykernel)",
   "language": "python",
   "name": "python3"
  },
  "language_info": {
   "codemirror_mode": {
    "name": "ipython",
    "version": 3
   },
   "file_extension": ".py",
   "mimetype": "text/x-python",
   "name": "python",
   "nbconvert_exporter": "python",
   "pygments_lexer": "ipython3",
   "version": "3.10.8"
  }
 },
 "nbformat": 4,
 "nbformat_minor": 5
}
