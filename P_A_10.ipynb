{
 "cells": [
  {
   "cell_type": "markdown",
   "id": "c171f6e1-6275-484e-b600-4d714e57b93e",
   "metadata": {},
   "source": [
    "### Q1. Which function is used to open a file? What are the different modes of opening a file? Explain each mode of file opening."
   ]
  },
  {
   "cell_type": "raw",
   "id": "bd17fb69-2d55-47e0-8492-7237f37f5fbe",
   "metadata": {},
   "source": [
    "we use open() function to open a file.\n",
    "\n",
    "file-object=open(file_name, access mode)\n",
    "\n",
    "<r>-------opens the file ij the read only mode\n",
    "<rb>------opens the file in binary and read only mode\n",
    "<r+> or <+r>--opens the file in both read and write mode\n",
    "<w>-------opens the file in write mode\n",
    "<wb+> or<+wb> opens the file in read,write and binary mode\n",
    "<a>---opens the file in append mode\n",
    "<+a><a+>---opens the file in append and read mode\n"
   ]
  },
  {
   "cell_type": "markdown",
   "id": "0dd9a6cf-c18c-4b1f-bdf3-0b9f92547f64",
   "metadata": {},
   "source": [
    "### Why close() function is used? Why is it important to close a file?"
   ]
  },
  {
   "cell_type": "raw",
   "id": "066257c2-faf1-4fc6-a5cc-fc08134fa3a1",
   "metadata": {},
   "source": [
    "\n",
    "Python makes sure that any unwritten or unsaved\n",
    "data is flushed off (written) to the file before it is closed.\n",
    "Hence, it is always advised to close the file once our\n",
    "work is done. Also, if the file object is re-assigned to\n",
    "some other file, the previous file is automatically closed"
   ]
  },
  {
   "cell_type": "markdown",
   "id": "b112256c-3bd0-4ad3-a221-b89bacf237a1",
   "metadata": {},
   "source": [
    "### Q3. Write a python program to create a text file. Write ‘I want to become a Data Scientist’ in that file. Then close the file. Open this file and read the content of the file."
   ]
  },
  {
   "cell_type": "code",
   "execution_count": 72,
   "id": "a27fde17-28ad-4565-a939-77a7c57101f1",
   "metadata": {},
   "outputs": [
    {
     "data": {
      "text/plain": [
       "'I want to become a Data Scientist'"
      ]
     },
     "execution_count": 72,
     "metadata": {},
     "output_type": "execute_result"
    }
   ],
   "source": [
    "f=open('New.txt','w+')\n",
    "f.write('I want to become a Data Scientist')\n",
    "f.close()\n",
    "f1=open('New.txt','r')\n",
    "f1.read()\n"
   ]
  },
  {
   "cell_type": "markdown",
   "id": "57b62927-4b34-4e28-b95b-2885322fb30c",
   "metadata": {},
   "source": [
    "### Q4. Explain the following with python code: read(), readline() and readlines()."
   ]
  },
  {
   "cell_type": "raw",
   "id": "090360ba-3bbd-4d5d-aa98-d7e4cd60fcd1",
   "metadata": {},
   "source": [
    "read()\n",
    "This method is used to read a specified number of bytes\n",
    "of data from a data file\n",
    "eg:-"
   ]
  },
  {
   "cell_type": "code",
   "execution_count": 74,
   "id": "c6481841-c76b-4646-9155-d17d24ef78d3",
   "metadata": {},
   "outputs": [],
   "source": [
    "\n",
    "f2=open('New.txt','r')"
   ]
  },
  {
   "cell_type": "code",
   "execution_count": 75,
   "id": "05dfd743-e252-405a-9130-dfd54a8529b0",
   "metadata": {},
   "outputs": [
    {
     "data": {
      "text/plain": [
       "'I want to become a Data Scientist'"
      ]
     },
     "execution_count": 75,
     "metadata": {},
     "output_type": "execute_result"
    }
   ],
   "source": [
    "f2.read()"
   ]
  },
  {
   "cell_type": "code",
   "execution_count": 91,
   "id": "d8d17bce-ea2d-4ff2-a75d-f63badc67680",
   "metadata": {},
   "outputs": [],
   "source": [
    "f2=open('New.txt','a')\n",
    "lines=['Hello krishna \\n','#welcome to the class \\n' ,'#all the best\\n']\n",
    "f2.writelines(lines)"
   ]
  },
  {
   "cell_type": "code",
   "execution_count": 96,
   "id": "9c8b66c9-168b-4d6f-8103-a6dab83ac59b",
   "metadata": {},
   "outputs": [
    {
     "data": {
      "text/plain": [
       "'I want to become a Data ScientistHello krishna \\n#welcome to the class ##all the bestHello krishna \\n#welcome to the class \\n#all the bestHello krishna \\n#welcome to the class \\n#all the best\\n'"
      ]
     },
     "execution_count": 96,
     "metadata": {},
     "output_type": "execute_result"
    }
   ],
   "source": [
    "f2=open('New.txt','r')\n",
    "f2.read()"
   ]
  },
  {
   "cell_type": "raw",
   "id": "c9cdc144-04b3-422a-92ba-76fedb490e28",
   "metadata": {},
   "source": [
    "Readllines()\n",
    "\n",
    "The method reads all the lines and returns the lines\n",
    "along with newline as a list of strings"
   ]
  },
  {
   "cell_type": "code",
   "execution_count": 95,
   "id": "6fd48e07-a167-441b-ba78-d7557b969caa",
   "metadata": {},
   "outputs": [
    {
     "data": {
      "text/plain": [
       "['I want to become a Data ScientistHello krishna \\n',\n",
       " '#welcome to the class ##all the bestHello krishna \\n',\n",
       " '#welcome to the class \\n',\n",
       " '#all the bestHello krishna \\n',\n",
       " '#welcome to the class \\n',\n",
       " '#all the best\\n']"
      ]
     },
     "execution_count": 95,
     "metadata": {},
     "output_type": "execute_result"
    }
   ],
   "source": [
    "f3=open('New.txt','r')\n",
    "f3.readlines()"
   ]
  },
  {
   "cell_type": "raw",
   "id": "d22638b6-4f83-40fe-87c1-c0314dea131c",
   "metadata": {},
   "source": [
    "readline()\n",
    "This method reads one complete line from a file where\n",
    "each line terminates with a newline (\\n) character"
   ]
  },
  {
   "cell_type": "code",
   "execution_count": 98,
   "id": "3175060a-61ae-47f7-997b-bbe2948d288d",
   "metadata": {},
   "outputs": [
    {
     "data": {
      "text/plain": [
       "'I want to become a Data ScientistHello krishna \\n'"
      ]
     },
     "execution_count": 98,
     "metadata": {},
     "output_type": "execute_result"
    }
   ],
   "source": [
    "\n",
    "\n",
    "\n",
    "f4=open('New.txt','r')\n",
    "f4.readline()"
   ]
  },
  {
   "cell_type": "code",
   "execution_count": null,
   "id": "1c2e90d0-2fb9-44e7-a2ed-be5e3f3b08a5",
   "metadata": {},
   "outputs": [],
   "source": []
  },
  {
   "cell_type": "markdown",
   "id": "e936b254-814a-417f-9b5b-d5bc2afc7321",
   "metadata": {},
   "source": [
    "### Explain why with statement is used with open(). What is the advantage of using with statement and open() together?"
   ]
  },
  {
   "cell_type": "raw",
   "id": "a052267b-78e3-4c7b-a207-bf1acaf1f89c",
   "metadata": {},
   "source": [
    " we can also open a file using with clause.\n",
    "The syntax of with clause is:\n",
    "with open (file_name, access_mode) as file_\n",
    "object:\n",
    "The advantage of using with clause is that any file\n",
    "that is opened using this clause is closed automatically,\n",
    "once the control comes outside the with clause. In\n",
    "case the user forgets to close the file explicitly or if an\n",
    "exception occurs, the file is closed automatically"
   ]
  },
  {
   "cell_type": "markdown",
   "id": "1e78c5cc-2df3-4a01-9d96-c089cc858785",
   "metadata": {},
   "source": [
    "### Q6. Explain the write() and writelines() functions. Give a suitable example.\n"
   ]
  },
  {
   "cell_type": "code",
   "execution_count": 99,
   "id": "b1ef8d8b-b4aa-45f7-bcd4-9a87a1bd3f39",
   "metadata": {},
   "outputs": [
    {
     "ename": "TypeError",
     "evalue": "write() argument must be str, not list",
     "output_type": "error",
     "traceback": [
      "\u001b[0;31m---------------------------------------------------------------------------\u001b[0m",
      "\u001b[0;31mTypeError\u001b[0m                                 Traceback (most recent call last)",
      "Cell \u001b[0;32mIn[99], line 3\u001b[0m\n\u001b[1;32m      1\u001b[0m f1\u001b[38;5;241m=\u001b[39m\u001b[38;5;28mopen\u001b[39m(\u001b[38;5;124m'\u001b[39m\u001b[38;5;124mNew.txt\u001b[39m\u001b[38;5;124m'\u001b[39m,\u001b[38;5;124m'\u001b[39m\u001b[38;5;124mw\u001b[39m\u001b[38;5;124m'\u001b[39m)\n\u001b[1;32m      2\u001b[0m w\u001b[38;5;241m=\u001b[39m[\u001b[38;5;124m\"\u001b[39m\u001b[38;5;124mHelo everyone\u001b[39m\u001b[38;5;130;01m\\n\u001b[39;00m\u001b[38;5;124m\"\u001b[39m,\u001b[38;5;124m'\u001b[39m\u001b[38;5;124m#good morning\u001b[39m\u001b[38;5;130;01m\\n\u001b[39;00m\u001b[38;5;124m'\u001b[39m]\n\u001b[0;32m----> 3\u001b[0m \u001b[43mf\u001b[49m\u001b[38;5;241;43m.\u001b[39;49m\u001b[43mwrite\u001b[49m\u001b[43m(\u001b[49m\u001b[43mw\u001b[49m\u001b[43m)\u001b[49m\n",
      "\u001b[0;31mTypeError\u001b[0m: write() argument must be str, not list"
     ]
    }
   ],
   "source": [
    "f1=open('New.txt','w')\n",
    "w=[\"Helo everyone\\n\",'#good morning\\n']\n",
    "f.write(w)"
   ]
  },
  {
   "cell_type": "code",
   "execution_count": 101,
   "id": "d503ad11-5c90-426e-9095-db5536690325",
   "metadata": {},
   "outputs": [
    {
     "data": {
      "text/plain": [
       "29"
      ]
     },
     "execution_count": 101,
     "metadata": {},
     "output_type": "execute_result"
    }
   ],
   "source": [
    "f5=open('New.txt','w')\n",
    "w=\"Helo everyone\\n #good morning\\n\"\n",
    "f5.write(w)"
   ]
  },
  {
   "cell_type": "code",
   "execution_count": 103,
   "id": "d00156e3-2c96-4e16-950b-c6ee28e21e93",
   "metadata": {},
   "outputs": [],
   "source": [
    "f6=open('New.txt','w')\n",
    "w=[\"Helo everyone\\n\",'#good morning\\n']\n",
    "f6.writelines(w)"
   ]
  },
  {
   "cell_type": "code",
   "execution_count": null,
   "id": "c66cd6dc-9820-43c7-8c9a-3ab02eaf590f",
   "metadata": {},
   "outputs": [],
   "source": []
  }
 ],
 "metadata": {
  "kernelspec": {
   "display_name": "Python 3 (ipykernel)",
   "language": "python",
   "name": "python3"
  },
  "language_info": {
   "codemirror_mode": {
    "name": "ipython",
    "version": 3
   },
   "file_extension": ".py",
   "mimetype": "text/x-python",
   "name": "python",
   "nbconvert_exporter": "python",
   "pygments_lexer": "ipython3",
   "version": "3.10.8"
  }
 },
 "nbformat": 4,
 "nbformat_minor": 5
}
