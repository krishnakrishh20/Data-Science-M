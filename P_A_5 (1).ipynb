{
 "cells": [
  {
   "cell_type": "markdown",
   "id": "430ad703-6de8-452b-a588-c26d09ab5ddb",
   "metadata": {},
   "source": [
    "### 1.Create a python program to sort the given list of tuples based on integer value using a lambda function.\n",
    "\n",
    "#### [('Sachin Tendulkar', 34357), ('Ricky Ponting', 27483), ('Jack Kallis', 25534), ('Virat Kohli', 24936)]\n"
   ]
  },
  {
   "cell_type": "code",
   "execution_count": null,
   "id": "d6e1d545-24f0-4451-a594-b077f967d7f8",
   "metadata": {},
   "outputs": [],
   "source": [
    "l=[('Sachin Tendulkar', 34357), ('Ricky Ponting', 27483), ('Jack Kallis', 25534), ('Virat Kohli', 24936)]\n",
    "\n",
    "NL=sorted(l ,key=lambda x :x[1])\n",
    "print(NL)"
   ]
  },
  {
   "cell_type": "code",
   "execution_count": null,
   "id": "a246fc2c-928f-4d24-bebb-3fd3440bd071",
   "metadata": {},
   "outputs": [],
   "source": []
  },
  {
   "cell_type": "markdown",
   "id": "2650804e-4e22-4d63-bf42-5348e524de9f",
   "metadata": {},
   "source": [
    "### 2.Write a Python Program to find the squares of all the numbers in the given list of integers usinglambda and map functions.\n",
    "[1, 2, 3, 4, 5, 6, 7, 8, 9, 10]"
   ]
  },
  {
   "cell_type": "code",
   "execution_count": 23,
   "id": "41094c50-0516-447d-a336-5bc1a053e872",
   "metadata": {},
   "outputs": [
    {
     "data": {
      "text/plain": [
       "[1, 4, 9, 16, 25, 36, 49, 64, 81, 100]"
      ]
     },
     "execution_count": 23,
     "metadata": {},
     "output_type": "execute_result"
    }
   ],
   "source": [
    "l=[1, 2, 3, 4, 5, 6, 7, 8, 9, 10]\n",
    "list(map(lambda x:x**2,l))\n",
    "\n",
    "\n"
   ]
  },
  {
   "cell_type": "markdown",
   "id": "b93aa6a2-ef56-4d00-b6f0-30a8d10bdb79",
   "metadata": {},
   "source": []
  },
  {
   "cell_type": "markdown",
   "id": "5b0a1e60-e1dc-4025-be26-6b0fb13b2f02",
   "metadata": {},
   "source": [
    "### 3.Write a python program to convert the given list of integers into a tuple of strings. Use map andlambda functionsGiven String: [1, 2, 3, 4, 5, 6, 7, 8, 9, 10]Expected output: ('1', '2', '3', '4', '5', '6', '7', '8', '9', '10')"
   ]
  },
  {
   "cell_type": "code",
   "execution_count": 27,
   "id": "22fe8a45-44fe-46ee-95be-ab32a3b8853c",
   "metadata": {},
   "outputs": [
    {
     "data": {
      "text/plain": [
       "('1', '2', '3', '4', '5', '6', '7', '8', '9', '10')"
      ]
     },
     "execution_count": 27,
     "metadata": {},
     "output_type": "execute_result"
    }
   ],
   "source": [
    "l=[1, 2, 3, 4, 5, 6, 7, 8, 9, 10]\n",
    "tuple((map(lambda x:str(x),l)))"
   ]
  },
  {
   "cell_type": "code",
   "execution_count": null,
   "id": "2713f2ee-239b-4917-b2ca-e3b89fea3e45",
   "metadata": {},
   "outputs": [],
   "source": []
  },
  {
   "cell_type": "markdown",
   "id": "fa2db4c3-816d-4e62-b7ab-0ac282bfbc2b",
   "metadata": {},
   "source": [
    "### 4.Write a python program using reduce function to compute the product of a list containing numbers from 1 to 25."
   ]
  },
  {
   "cell_type": "code",
   "execution_count": 28,
   "id": "54be2e7e-f9e3-44b7-b0a7-96c5a3de2b87",
   "metadata": {},
   "outputs": [],
   "source": [
    "from functools import reduce "
   ]
  },
  {
   "cell_type": "code",
   "execution_count": 40,
   "id": "f16ebcac-e36c-4c8a-9fca-c2399b3303f5",
   "metadata": {},
   "outputs": [],
   "source": [
    "l=list(range(1,26))"
   ]
  },
  {
   "cell_type": "code",
   "execution_count": 42,
   "id": "93cf337f-8ac8-46ed-b0cc-6b5076060e1b",
   "metadata": {},
   "outputs": [
    {
     "data": {
      "text/plain": [
       "15511210043330985984000000"
      ]
     },
     "execution_count": 42,
     "metadata": {},
     "output_type": "execute_result"
    }
   ],
   "source": [
    "reduce (lambda x,y : x*y,l)"
   ]
  },
  {
   "cell_type": "markdown",
   "id": "c27abdb4-32f2-441f-aa3d-e46f83356524",
   "metadata": {},
   "source": [
    "### 5.Write a python program to filter the numbers in a given list that are divisible by 2 and 3 using the filter function.\n",
    "[2, 3, 6, 9, 27, 60, 90, 120, 55, 46]"
   ]
  },
  {
   "cell_type": "code",
   "execution_count": 64,
   "id": "8473c64c-4ac3-4883-8dd8-de46c08be991",
   "metadata": {},
   "outputs": [
    {
     "data": {
      "text/plain": [
       "[2, 6, 60, 90, 120, 46]"
      ]
     },
     "execution_count": 64,
     "metadata": {},
     "output_type": "execute_result"
    }
   ],
   "source": [
    "l=[2, 3, 6, 9, 27, 60, 90, 120, 55, 46]\n",
    "list(filter(lambda x: (x%2==0 & x%3==0) ,l))"
   ]
  },
  {
   "cell_type": "code",
   "execution_count": null,
   "id": "1c1361ac-b562-473b-80f1-5aac9331225a",
   "metadata": {},
   "outputs": [],
   "source": []
  },
  {
   "cell_type": "markdown",
   "id": "34542c32-eaf1-4d4a-9b15-d359780e00a6",
   "metadata": {},
   "source": [
    "### 6.Write a python program to find palindromes in the given list of strings using lambda and filter function.\n",
    "['python', 'php', 'aba', 'radar', 'level']"
   ]
  },
  {
   "cell_type": "code",
   "execution_count": 14,
   "id": "6498fbfe-9a41-4025-bd28-1f8ecc936e24",
   "metadata": {},
   "outputs": [
    {
     "ename": "SyntaxError",
     "evalue": "invalid syntax (2123616621.py, line 3)",
     "output_type": "error",
     "traceback": [
      "\u001b[0;36m  Cell \u001b[0;32mIn[14], line 3\u001b[0;36m\u001b[0m\n\u001b[0;31m    l1=list(filter(lambda  l(x): x if x == x[::-1] else l))\u001b[0m\n\u001b[0m                            ^\u001b[0m\n\u001b[0;31mSyntaxError\u001b[0m\u001b[0;31m:\u001b[0m invalid syntax\n"
     ]
    }
   ],
   "source": [
    "l=['python', 'php', 'aba', 'radar', 'level']\n",
    "\n",
    "l1=list(filter(lambda  l(x): x if x == x[::-1] else l))"
   ]
  },
  {
   "cell_type": "code",
   "execution_count": null,
   "id": "3d7b6b52-3f7b-436f-9e35-60b54663613e",
   "metadata": {},
   "outputs": [],
   "source": []
  },
  {
   "cell_type": "code",
   "execution_count": 15,
   "id": "b13f8373-8f61-4909-b798-dd736175d93b",
   "metadata": {},
   "outputs": [
    {
     "data": {
      "text/plain": [
       "['level', 'radar', 'aba', 'php', 'python']"
      ]
     },
     "execution_count": 15,
     "metadata": {},
     "output_type": "execute_result"
    }
   ],
   "source": [
    "for x"
   ]
  },
  {
   "cell_type": "code",
   "execution_count": 22,
   "id": "def42498-bd03-4189-9077-55d19fa871eb",
   "metadata": {},
   "outputs": [
    {
     "name": "stdout",
     "output_type": "stream",
     "text": [
      "php palindrome\n",
      "aba palindrome\n",
      "radar palindrome\n",
      "level palindrome\n"
     ]
    }
   ],
   "source": [
    " for x in l:\n",
    "        if x ==x[::-1]:\n",
    "            print(x,\"palindrome\")"
   ]
  },
  {
   "cell_type": "code",
   "execution_count": null,
   "id": "7777d1e8-8c32-4fa3-94d0-766c00b3a0a1",
   "metadata": {},
   "outputs": [],
   "source": [
    "lambda x:x==x[::-]"
   ]
  }
 ],
 "metadata": {
  "kernelspec": {
   "display_name": "Python 3 (ipykernel)",
   "language": "python",
   "name": "python3"
  },
  "language_info": {
   "codemirror_mode": {
    "name": "ipython",
    "version": 3
   },
   "file_extension": ".py",
   "mimetype": "text/x-python",
   "name": "python",
   "nbconvert_exporter": "python",
   "pygments_lexer": "ipython3",
   "version": "3.10.8"
  }
 },
 "nbformat": 4,
 "nbformat_minor": 5
}
