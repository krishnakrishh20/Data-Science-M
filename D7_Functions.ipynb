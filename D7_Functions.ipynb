{
 "cells": [
  {
   "cell_type": "code",
   "execution_count": 11,
   "id": "beb2cd06-2e18-46e4-94ae-f817b9701d98",
   "metadata": {},
   "outputs": [],
   "source": [
    "def test1():\n",
    " print(\"my name is krishna\")    "
   ]
  },
  {
   "cell_type": "code",
   "execution_count": 14,
   "id": "bb12ff92-29db-4b1d-8af1-f4fbbe4267c3",
   "metadata": {},
   "outputs": [
    {
     "name": "stdout",
     "output_type": "stream",
     "text": [
      "my name is krishna\n"
     ]
    }
   ],
   "source": [
    "test1()"
   ]
  },
  {
   "cell_type": "code",
   "execution_count": 15,
   "id": "64343696-96bd-474d-a5ca-e427fe201828",
   "metadata": {},
   "outputs": [],
   "source": [
    "def printcode():\n",
    "    \n",
    "    return 7"
   ]
  },
  {
   "cell_type": "code",
   "execution_count": 16,
   "id": "a493d95d-19b6-461c-9ba0-7993d76aaad3",
   "metadata": {},
   "outputs": [
    {
     "data": {
      "text/plain": [
       "7"
      ]
     },
     "execution_count": 16,
     "metadata": {},
     "output_type": "execute_result"
    }
   ],
   "source": [
    "printcode()"
   ]
  },
  {
   "cell_type": "code",
   "execution_count": 17,
   "id": "f1f39e99-0e6b-4d18-be54-e4f585e70db9",
   "metadata": {},
   "outputs": [
    {
     "name": "stdout",
     "output_type": "stream",
     "text": [
      "my name is krishna\n"
     ]
    },
    {
     "ename": "TypeError",
     "evalue": "unsupported operand type(s) for +: 'NoneType' and 'str'",
     "output_type": "error",
     "traceback": [
      "\u001b[0;31m---------------------------------------------------------------------------\u001b[0m",
      "\u001b[0;31mTypeError\u001b[0m                                 Traceback (most recent call last)",
      "Cell \u001b[0;32mIn[17], line 1\u001b[0m\n\u001b[0;32m----> 1\u001b[0m \u001b[43mtest1\u001b[49m\u001b[43m(\u001b[49m\u001b[43m)\u001b[49m\u001b[38;5;241;43m+\u001b[39;49m\u001b[38;5;124;43m\"\u001b[39;49m\u001b[38;5;124;43mpriya\u001b[39;49m\u001b[38;5;124;43m\"\u001b[39;49m\n",
      "\u001b[0;31mTypeError\u001b[0m: unsupported operand type(s) for +: 'NoneType' and 'str'"
     ]
    }
   ],
   "source": [
    "test1()+\"priya\""
   ]
  },
  {
   "cell_type": "code",
   "execution_count": 18,
   "id": "5e004b04-0d0b-4949-82be-4ff9f9812fb7",
   "metadata": {},
   "outputs": [],
   "source": [
    "def test():\n",
    " return (\"my name is krishna\")  "
   ]
  },
  {
   "cell_type": "code",
   "execution_count": 19,
   "id": "c5af2076-d868-40f5-8f86-d97c7b644f7e",
   "metadata": {},
   "outputs": [
    {
     "data": {
      "text/plain": [
       "'my name is krishnapriya'"
      ]
     },
     "execution_count": 19,
     "metadata": {},
     "output_type": "execute_result"
    }
   ],
   "source": [
    "test()+\"priya\""
   ]
  },
  {
   "cell_type": "code",
   "execution_count": 20,
   "id": "90150936-18cb-44b1-8f1d-a561076374f2",
   "metadata": {},
   "outputs": [],
   "source": [
    "def test3():\n",
    "    return 1,9,\"$$\""
   ]
  },
  {
   "cell_type": "code",
   "execution_count": 22,
   "id": "47814c9f-4ff9-403d-a383-56c3bd48970c",
   "metadata": {},
   "outputs": [
    {
     "data": {
      "text/plain": [
       "(1, 9, '$$')"
      ]
     },
     "execution_count": 22,
     "metadata": {},
     "output_type": "execute_result"
    }
   ],
   "source": [
    "test3()"
   ]
  },
  {
   "cell_type": "code",
   "execution_count": 24,
   "id": "5f71c52d-ffb0-46be-ba3f-f34c927128a4",
   "metadata": {},
   "outputs": [],
   "source": [
    "def test4(a,b):\n",
    "    c=a+b\n",
    "    return c\n",
    "    "
   ]
  },
  {
   "cell_type": "code",
   "execution_count": 25,
   "id": "4e07dcc9-b154-47f8-95dd-ab8e044e394b",
   "metadata": {},
   "outputs": [
    {
     "data": {
      "text/plain": [
       "104"
      ]
     },
     "execution_count": 25,
     "metadata": {},
     "output_type": "execute_result"
    }
   ],
   "source": [
    "test4(100,4)"
   ]
  },
  {
   "cell_type": "code",
   "execution_count": 26,
   "id": "88a35e66-eb40-403f-aeff-06b4a0692579",
   "metadata": {},
   "outputs": [],
   "source": [
    "a,b,c,d=2,5,6,\"hj\""
   ]
  },
  {
   "cell_type": "code",
   "execution_count": 27,
   "id": "a5a014b9-f35d-4d86-8eb1-56654c37a5c0",
   "metadata": {},
   "outputs": [
    {
     "data": {
      "text/plain": [
       "2"
      ]
     },
     "execution_count": 27,
     "metadata": {},
     "output_type": "execute_result"
    }
   ],
   "source": [
    "a"
   ]
  },
  {
   "cell_type": "code",
   "execution_count": 28,
   "id": "332f30a0-d436-481f-984f-ded3fa3cc02e",
   "metadata": {},
   "outputs": [
    {
     "data": {
      "text/plain": [
       "'hj'"
      ]
     },
     "execution_count": 28,
     "metadata": {},
     "output_type": "execute_result"
    }
   ],
   "source": [
    "d"
   ]
  },
  {
   "cell_type": "code",
   "execution_count": 29,
   "id": "b47a22f3-cdc7-473f-a00b-7008e9982348",
   "metadata": {},
   "outputs": [
    {
     "data": {
      "text/plain": [
       "1"
      ]
     },
     "execution_count": 29,
     "metadata": {},
     "output_type": "execute_result"
    }
   ],
   "source": [
    "test3()[0]"
   ]
  },
  {
   "cell_type": "code",
   "execution_count": 30,
   "id": "8c05db33-9f0f-40fd-b90e-7fc1ee6b7e50",
   "metadata": {},
   "outputs": [
    {
     "data": {
      "text/plain": [
       "9"
      ]
     },
     "execution_count": 30,
     "metadata": {},
     "output_type": "execute_result"
    }
   ],
   "source": [
    "test3()[1]"
   ]
  },
  {
   "cell_type": "code",
   "execution_count": 31,
   "id": "dc394e2f-54fc-4d7b-be0d-b09e2ba829d1",
   "metadata": {},
   "outputs": [
    {
     "data": {
      "text/plain": [
       "(1, 9, '$$')"
      ]
     },
     "execution_count": 31,
     "metadata": {},
     "output_type": "execute_result"
    }
   ],
   "source": [
    "test3()"
   ]
  },
  {
   "cell_type": "code",
   "execution_count": 33,
   "id": "709daf86-abc3-4d26-8c13-45d91c9ec152",
   "metadata": {},
   "outputs": [],
   "source": [
    "a,f,g=test3()"
   ]
  },
  {
   "cell_type": "code",
   "execution_count": 34,
   "id": "1216861c-5433-485e-a071-0601c4ea7721",
   "metadata": {},
   "outputs": [
    {
     "data": {
      "text/plain": [
       "'$$'"
      ]
     },
     "execution_count": 34,
     "metadata": {},
     "output_type": "execute_result"
    }
   ],
   "source": [
    "g"
   ]
  },
  {
   "cell_type": "code",
   "execution_count": 37,
   "id": "948ddda1-4c91-4ea4-a152-799fe7c9dc85",
   "metadata": {},
   "outputs": [
    {
     "data": {
      "text/plain": [
       "'Krishna priya'"
      ]
     },
     "execution_count": 37,
     "metadata": {},
     "output_type": "execute_result"
    }
   ],
   "source": [
    "test4(\"Krishna\",\" priya\")\n",
    "    "
   ]
  },
  {
   "cell_type": "code",
   "execution_count": 38,
   "id": "967a3d87-39da-4408-bdfb-5abf8bee5a40",
   "metadata": {},
   "outputs": [
    {
     "data": {
      "text/plain": [
       "[1, 2, 3, 6, 7]"
      ]
     },
     "execution_count": 38,
     "metadata": {},
     "output_type": "execute_result"
    }
   ],
   "source": [
    "test4([1,2,3],[6,7])"
   ]
  },
  {
   "cell_type": "code",
   "execution_count": 41,
   "id": "9a25990b-ba42-4c64-b989-10c01b3fc550",
   "metadata": {},
   "outputs": [
    {
     "data": {
      "text/plain": [
       "'lifeline'"
      ]
     },
     "execution_count": 41,
     "metadata": {},
     "output_type": "execute_result"
    }
   ],
   "source": [
    "test4(b=\"line\",a=\"life\")"
   ]
  },
  {
   "cell_type": "code",
   "execution_count": 6,
   "id": "661accbf-21bd-47ca-b4da-e2b08ce2f25d",
   "metadata": {},
   "outputs": [],
   "source": [
    "l=[1,2,3,4,5,6,\"kp\",\"priya\",[2.4,5]]"
   ]
  },
  {
   "cell_type": "code",
   "execution_count": 7,
   "id": "d2ec233c-d70f-45da-9a6f-46c434f77681",
   "metadata": {},
   "outputs": [
    {
     "data": {
      "text/plain": [
       "[1, 2, 3, 4, 5, 6, 'kp', 'priya', [2.4, 5]]"
      ]
     },
     "execution_count": 7,
     "metadata": {},
     "output_type": "execute_result"
    }
   ],
   "source": [
    "l"
   ]
  },
  {
   "cell_type": "code",
   "execution_count": 8,
   "id": "907c831f-2742-414a-b2ab-e84fe1604490",
   "metadata": {},
   "outputs": [
    {
     "data": {
      "text/plain": [
       "9"
      ]
     },
     "execution_count": 8,
     "metadata": {},
     "output_type": "execute_result"
    }
   ],
   "source": [
    "len(l)"
   ]
  },
  {
   "cell_type": "code",
   "execution_count": 9,
   "id": "940c666c-25fc-4b28-8867-fa3ef9eedf7b",
   "metadata": {},
   "outputs": [],
   "source": [
    "\n",
    "def ret_int(list1):\n",
    "    n=[]\n",
    "    for a in list1:\n",
    "        if type(a)==str:\n",
    "        \n",
    "              n.append(a)\n",
    "            \n",
    "            \n",
    "    return n\n",
    "    "
   ]
  },
  {
   "cell_type": "code",
   "execution_count": 10,
   "id": "8d4969d9-aa12-4499-8929-b125080861d3",
   "metadata": {},
   "outputs": [
    {
     "data": {
      "text/plain": [
       "['kp', 'priya']"
      ]
     },
     "execution_count": 10,
     "metadata": {},
     "output_type": "execute_result"
    }
   ],
   "source": [
    "ret_int(l)"
   ]
  },
  {
   "cell_type": "markdown",
   "id": "33a0e853-150f-486b-912f-832f5a3818fe",
   "metadata": {},
   "source": [
    "TO GET LIST"
   ]
  },
  {
   "cell_type": "code",
   "execution_count": 11,
   "id": "20972a3d-cf9b-4f92-bb4e-6062cb85cf02",
   "metadata": {},
   "outputs": [],
   "source": [
    "def ret_int1(list1):\n",
    "    n=[]\n",
    "    for a in list1:\n",
    "        if type(a)==list:\n",
    "                \n",
    "                nl=[]\n",
    "                \n",
    "                nl.append(a)\n",
    "            \n",
    "            \n",
    "    return nl"
   ]
  },
  {
   "cell_type": "code",
   "execution_count": 12,
   "id": "f5e904ab-172c-4141-81f2-8cd586ddc458",
   "metadata": {},
   "outputs": [
    {
     "data": {
      "text/plain": [
       "['kp', 'priya']"
      ]
     },
     "execution_count": 12,
     "metadata": {},
     "output_type": "execute_result"
    }
   ],
   "source": [
    "ret_int(l)"
   ]
  },
  {
   "cell_type": "markdown",
   "id": "05f460b0-03f1-4dd2-95b1-b214f42d87ac",
   "metadata": {},
   "source": [
    "TO GET INTEGERS INCLUDING LIST"
   ]
  },
  {
   "cell_type": "code",
   "execution_count": 13,
   "id": "e68acbc8-0b3d-44b8-979f-dad8e0be0a42",
   "metadata": {},
   "outputs": [],
   "source": [
    "def get_int_all(list1):\n",
    "    n=[]\n",
    "    \n",
    "    for a in list1:\n",
    "        if type(a)==int or type(a)==list:\n",
    "              n.append(a)\n",
    "    return n"
   ]
  },
  {
   "cell_type": "code",
   "execution_count": 14,
   "id": "bab8ab05-f2a3-4184-87a9-fa7229dcaf50",
   "metadata": {},
   "outputs": [
    {
     "data": {
      "text/plain": [
       "[1, 2, 3, 4, 5, 6, [2.4, 5]]"
      ]
     },
     "execution_count": 14,
     "metadata": {},
     "output_type": "execute_result"
    }
   ],
   "source": [
    "get_int_all(l)"
   ]
  },
  {
   "cell_type": "code",
   "execution_count": 17,
   "id": "c2f277d5-e761-4dff-a782-78e8c3dcf4c3",
   "metadata": {},
   "outputs": [],
   "source": [
    "l1=[1,2,3,\"my\",\"name\",\"krishna\",[\"k\",\"p\",4,6,7]]"
   ]
  },
  {
   "cell_type": "code",
   "execution_count": 18,
   "id": "ef80f94a-83b9-49fb-88a1-c95765c1d0f0",
   "metadata": {},
   "outputs": [
    {
     "data": {
      "text/plain": [
       "[1, 2, 3, ['k', 'p', 4, 6, 7]]"
      ]
     },
     "execution_count": 18,
     "metadata": {},
     "output_type": "execute_result"
    }
   ],
   "source": [
    "get_int_all(l1)"
   ]
  },
  {
   "cell_type": "markdown",
   "id": "7be1aea7-9c5a-4e0c-b678-944d50cd0481",
   "metadata": {},
   "source": [
    "TO GET INTEGERS FROM A LIST AND INTEGERS FROM LIST INSIDE LIST"
   ]
  },
  {
   "cell_type": "code",
   "execution_count": 30,
   "id": "b9d51f14-00da-4e79-90da-55b003a90033",
   "metadata": {},
   "outputs": [],
   "source": [
    "def get_int(li):\n",
    "    \n",
    "    n=[]\n",
    "    \n",
    "    for a in list(li):\n",
    "        if  type(a)==int:\n",
    "            n.append(a)\n",
    "        elif type(a)==list:\n",
    "            for i in a:\n",
    "                if type(i)==int:\n",
    "                    n.append(i)\n",
    "    return n\n",
    "                "
   ]
  },
  {
   "cell_type": "code",
   "execution_count": 31,
   "id": "89629e6f-18e4-44bf-9ed5-c50842475d3e",
   "metadata": {},
   "outputs": [
    {
     "data": {
      "text/plain": [
       "[1, 2, 3, 4, 6, 7]"
      ]
     },
     "execution_count": 31,
     "metadata": {},
     "output_type": "execute_result"
    }
   ],
   "source": [
    "get_int(l1)"
   ]
  },
  {
   "cell_type": "code",
   "execution_count": 28,
   "id": "782f3e34-38e3-4377-b2e1-e7b434849191",
   "metadata": {},
   "outputs": [
    {
     "name": "stdout",
     "output_type": "stream",
     "text": [
      "['k', 'm']\n"
     ]
    }
   ],
   "source": [
    "a=[\"k\",\"m\",1,2,3,4]\n",
    "n=[]\n",
    "for i in a:\n",
    "    if type(i)==str:\n",
    "        n.append(i)\n",
    "\n",
    "print(n)"
   ]
  },
  {
   "cell_type": "code",
   "execution_count": null,
   "id": "95094610-0884-4a6c-b709-52c2b7323553",
   "metadata": {},
   "outputs": [],
   "source": []
  },
  {
   "cell_type": "markdown",
   "id": "8dbc3ab2-9b5e-4787-9d4d-88e46b7d8e52",
   "metadata": {},
   "source": [
    "Function which is able to take any number of argument at run time"
   ]
  },
  {
   "cell_type": "code",
   "execution_count": 32,
   "id": "af2e2253-2c71-47f5-be13-1bbb707e7dc5",
   "metadata": {},
   "outputs": [],
   "source": [
    "def test_pass(a,b,c,d,e):\n",
    "    pass"
   ]
  },
  {
   "cell_type": "code",
   "execution_count": 34,
   "id": "aff8db92-3af1-40de-af94-e4237ad04497",
   "metadata": {},
   "outputs": [],
   "source": [
    "test_pass(1,2,3,4,5)"
   ]
  },
  {
   "cell_type": "code",
   "execution_count": 35,
   "id": "a531cf80-cf0e-4bef-955e-ac0b2984bf80",
   "metadata": {},
   "outputs": [
    {
     "ename": "TypeError",
     "evalue": "test_pass() takes 5 positional arguments but 6 were given",
     "output_type": "error",
     "traceback": [
      "\u001b[0;31m---------------------------------------------------------------------------\u001b[0m",
      "\u001b[0;31mTypeError\u001b[0m                                 Traceback (most recent call last)",
      "Cell \u001b[0;32mIn[35], line 1\u001b[0m\n\u001b[0;32m----> 1\u001b[0m \u001b[43mtest_pass\u001b[49m\u001b[43m(\u001b[49m\u001b[38;5;241;43m1\u001b[39;49m\u001b[43m,\u001b[49m\u001b[38;5;241;43m2\u001b[39;49m\u001b[43m,\u001b[49m\u001b[38;5;241;43m3\u001b[39;49m\u001b[43m,\u001b[49m\u001b[38;5;241;43m4\u001b[39;49m\u001b[43m,\u001b[49m\u001b[38;5;241;43m5\u001b[39;49m\u001b[43m,\u001b[49m\u001b[38;5;241;43m6\u001b[39;49m\u001b[43m)\u001b[49m\n",
      "\u001b[0;31mTypeError\u001b[0m: test_pass() takes 5 positional arguments but 6 were given"
     ]
    }
   ],
   "source": [
    "test_pass(1,2,3,4,5,6)"
   ]
  },
  {
   "cell_type": "code",
   "execution_count": 37,
   "id": "c5bc44a6-0593-4ae3-af66-3712539e367c",
   "metadata": {},
   "outputs": [],
   "source": [
    "def test_args(*args):\n",
    "    return args"
   ]
  },
  {
   "cell_type": "code",
   "execution_count": 38,
   "id": "6f96a8bc-88bc-453a-81d7-af4e52b088db",
   "metadata": {},
   "outputs": [
    {
     "data": {
      "text/plain": [
       "(1, 2)"
      ]
     },
     "execution_count": 38,
     "metadata": {},
     "output_type": "execute_result"
    }
   ],
   "source": [
    "test_args(1,2)"
   ]
  },
  {
   "cell_type": "code",
   "execution_count": 40,
   "id": "9c602b5e-fe3e-4b32-96ee-7d4e6de979aa",
   "metadata": {},
   "outputs": [
    {
     "data": {
      "text/plain": [
       "(4, 5, 6, 7)"
      ]
     },
     "execution_count": 40,
     "metadata": {},
     "output_type": "execute_result"
    }
   ],
   "source": [
    "test_args(4,5,6,7)"
   ]
  },
  {
   "cell_type": "code",
   "execution_count": 41,
   "id": "d25f377f-016b-40c6-8a8f-a9fbdacdec2a",
   "metadata": {},
   "outputs": [
    {
     "data": {
      "text/plain": [
       "('krishna', 'p', [1, 2, 3])"
      ]
     },
     "execution_count": 41,
     "metadata": {},
     "output_type": "execute_result"
    }
   ],
   "source": [
    "test_args(\"krishna\",\"p\",[1,2,3])"
   ]
  },
  {
   "cell_type": "code",
   "execution_count": 42,
   "id": "a8c64167-c866-41e9-a1da-c04a4dc09563",
   "metadata": {},
   "outputs": [],
   "source": [
    "def test_arg(*kp):\n",
    "    return kp"
   ]
  },
  {
   "cell_type": "code",
   "execution_count": 43,
   "id": "60feba47-b994-423e-9322-18cc21965643",
   "metadata": {},
   "outputs": [
    {
     "data": {
      "text/plain": [
       "(1, 2, 3)"
      ]
     },
     "execution_count": 43,
     "metadata": {},
     "output_type": "execute_result"
    }
   ],
   "source": [
    "test_arg(1,2,3)"
   ]
  },
  {
   "cell_type": "code",
   "execution_count": 44,
   "id": "5761bb99-4680-4c77-b7a6-adfcd4d99a5a",
   "metadata": {},
   "outputs": [],
   "source": [
    "def test1_arg(*arg,a):\n",
    "    return arg ,a"
   ]
  },
  {
   "cell_type": "code",
   "execution_count": 45,
   "id": "ac31e350-1dbd-4d3b-ad25-9d04912da91e",
   "metadata": {},
   "outputs": [
    {
     "data": {
      "text/plain": [
       "((1, 2, 3, 4), '#')"
      ]
     },
     "execution_count": 45,
     "metadata": {},
     "output_type": "execute_result"
    }
   ],
   "source": [
    "test1_arg(1,2,3,4,a=\"#\")"
   ]
  },
  {
   "cell_type": "code",
   "execution_count": 46,
   "id": "c44b50de-f2d6-4483-9538-e2ae3468b866",
   "metadata": {},
   "outputs": [],
   "source": [
    "#keyword argument"
   ]
  },
  {
   "cell_type": "code",
   "execution_count": 47,
   "id": "606299fb-593b-411f-8b26-f85e34a89764",
   "metadata": {},
   "outputs": [],
   "source": [
    "def testk_args(**kwargs):\n",
    "    return kwargs"
   ]
  },
  {
   "cell_type": "code",
   "execution_count": 48,
   "id": "be891ebc-c304-480f-9dc9-637cca568852",
   "metadata": {},
   "outputs": [
    {
     "data": {
      "text/plain": [
       "{}"
      ]
     },
     "execution_count": 48,
     "metadata": {},
     "output_type": "execute_result"
    }
   ],
   "source": [
    "testk_args()"
   ]
  },
  {
   "cell_type": "code",
   "execution_count": 50,
   "id": "22efef32-0659-47c2-a505-2a42b59ba816",
   "metadata": {},
   "outputs": [
    {
     "data": {
      "text/plain": [
       "dict"
      ]
     },
     "execution_count": 50,
     "metadata": {},
     "output_type": "execute_result"
    }
   ],
   "source": [
    "type(testk_args())"
   ]
  },
  {
   "cell_type": "code",
   "execution_count": 51,
   "id": "24f8b87a-8294-4da5-92c8-07b1b737b45b",
   "metadata": {},
   "outputs": [
    {
     "data": {
      "text/plain": [
       "{'a': 3333334, 'b': 7, 'c': [1, 2, 3], 'd': ('krishna', 'pw')}"
      ]
     },
     "execution_count": 51,
     "metadata": {},
     "output_type": "execute_result"
    }
   ],
   "source": [
    "testk_args(a=3333334,b=7,c=[1,2,3],d=(\"krishna\",\"pw\"))"
   ]
  },
  {
   "cell_type": "code",
   "execution_count": 1,
   "id": "56a99963-5242-4306-9c46-fa6f7d24ff55",
   "metadata": {},
   "outputs": [],
   "source": [
    "def testk1_args(**kwargs):\n",
    "    n=[]\n",
    "    for i in kwargs.keys():\n",
    "        if type(kwargs[i])==list:\n",
    "            return i,kwargs[i]\n",
    "            "
   ]
  },
  {
   "cell_type": "code",
   "execution_count": 2,
   "id": "c0539d5f-7ba3-48f2-aff9-72ac84730f07",
   "metadata": {},
   "outputs": [
    {
     "data": {
      "text/plain": [
       "('c', [1, 2, 3])"
      ]
     },
     "execution_count": 2,
     "metadata": {},
     "output_type": "execute_result"
    }
   ],
   "source": [
    "testk1_args(a=3333334,b=7,c=[1,2,3],d=(\"krishna\",\"pw\"))"
   ]
  },
  {
   "cell_type": "code",
   "execution_count": 1,
   "id": "d9337378-a46e-4308-8db4-699896306acb",
   "metadata": {},
   "outputs": [],
   "source": [
    "def test_arg1(*args,**kwargs):\n",
    "    return args,kwargs"
   ]
  },
  {
   "cell_type": "code",
   "execution_count": 4,
   "id": "7d80f9d9-61b9-4c8c-ae73-8bc6bd8e44d6",
   "metadata": {},
   "outputs": [
    {
     "data": {
      "text/plain": [
       "((1, 2, 3, 4), {'a': 'krishna', 'b': 'priya'})"
      ]
     },
     "execution_count": 4,
     "metadata": {},
     "output_type": "execute_result"
    }
   ],
   "source": [
    "test_arg1(1,2,3,4,a=\"krishna\",b=\"priya\")"
   ]
  },
  {
   "cell_type": "code",
   "execution_count": null,
   "id": "49152bb5-c57f-4863-8a33-7b9c23061031",
   "metadata": {},
   "outputs": [],
   "source": []
  },
  {
   "cell_type": "markdown",
   "id": "e6c866c5-7b3d-43cc-aee5-114ff62a1991",
   "metadata": {},
   "source": [
    "GENERATOR FUNCTION"
   ]
  },
  {
   "cell_type": "code",
   "execution_count": 6,
   "id": "23e0f0c0-f584-4c84-b3e7-b3e1ddae21c0",
   "metadata": {},
   "outputs": [
    {
     "name": "stdout",
     "output_type": "stream",
     "text": [
      "1\n",
      "2\n",
      "3\n",
      "4\n",
      "5\n",
      "6\n",
      "7\n",
      "8\n",
      "9\n"
     ]
    }
   ],
   "source": [
    "for i in range(1,10):\n",
    "    print(i)"
   ]
  },
  {
   "cell_type": "code",
   "execution_count": 7,
   "id": "45588a68-cf55-4cff-9ffd-26059df816ec",
   "metadata": {},
   "outputs": [],
   "source": [
    "l=[1,2,3,4,5,6,\"my\",\"life\"]"
   ]
  },
  {
   "cell_type": "code",
   "execution_count": 8,
   "id": "d82a104f-e6eb-447c-bedc-e2c88b4db284",
   "metadata": {},
   "outputs": [],
   "source": [
    "def test(list):\n",
    "    n=[]\n",
    "    for a in list:\n",
    "        if type(a)==int:\n",
    "            n.append(a)\n",
    "    return n"
   ]
  },
  {
   "cell_type": "code",
   "execution_count": 9,
   "id": "2001365d-38b2-4de7-b861-8713fd73ad8e",
   "metadata": {},
   "outputs": [
    {
     "data": {
      "text/plain": [
       "[1, 2, 3, 4, 5, 6]"
      ]
     },
     "execution_count": 9,
     "metadata": {},
     "output_type": "execute_result"
    }
   ],
   "source": [
    "test(l)"
   ]
  },
  {
   "cell_type": "code",
   "execution_count": 3,
   "id": "5e646330-c403-4e6c-8de2-a81a427fe116",
   "metadata": {},
   "outputs": [
    {
     "data": {
      "text/plain": [
       "range(1, 5)"
      ]
     },
     "execution_count": 3,
     "metadata": {},
     "output_type": "execute_result"
    }
   ],
   "source": [
    "range(1,5)"
   ]
  },
  {
   "cell_type": "code",
   "execution_count": 4,
   "id": "cd859021-3226-4600-bf89-f8976b138112",
   "metadata": {},
   "outputs": [
    {
     "name": "stdout",
     "output_type": "stream",
     "text": [
      "0\n",
      "1\n",
      "2\n",
      "3\n",
      "4\n"
     ]
    }
   ],
   "source": [
    "for i in range(5):\n",
    "    print(i)"
   ]
  },
  {
   "cell_type": "code",
   "execution_count": 5,
   "id": "da16b747-2977-4460-bc9c-9da606aeac3d",
   "metadata": {},
   "outputs": [],
   "source": [
    "l=[1,2,3,4,\"kp\",\"pk\"]"
   ]
  },
  {
   "cell_type": "code",
   "execution_count": 6,
   "id": "31915b3d-1354-4475-bb12-d11179385132",
   "metadata": {},
   "outputs": [],
   "source": [
    "def test(list):\n",
    "    n=[]\n",
    "    for i in list:\n",
    "        if type(i)==int:\n",
    "            n.append(i)\n",
    "    return n"
   ]
  },
  {
   "cell_type": "code",
   "execution_count": 7,
   "id": "b7195631-79bc-4cff-a034-8b0114c934ad",
   "metadata": {},
   "outputs": [
    {
     "data": {
      "text/plain": [
       "[1, 2, 3, 4]"
      ]
     },
     "execution_count": 7,
     "metadata": {},
     "output_type": "execute_result"
    }
   ],
   "source": [
    "test(l)"
   ]
  },
  {
   "cell_type": "code",
   "execution_count": 8,
   "id": "aed0e787-eb82-4bf9-b3eb-f45647ba21f3",
   "metadata": {},
   "outputs": [],
   "source": [
    "#yield\n",
    "\n",
    "# 0 1 1 2 3 5 8 13 21"
   ]
  },
  {
   "cell_type": "code",
   "execution_count": 9,
   "id": "197d96d0-91d4-4699-8c40-7f733a351bc3",
   "metadata": {},
   "outputs": [],
   "source": [
    "def test_fib(n):\n",
    "    a,b=0,1\n",
    "    for i in range(0,n):\n",
    "        yield a\n",
    "        a,b=b,a+b"
   ]
  },
  {
   "cell_type": "code",
   "execution_count": 12,
   "id": "f6584130-e7ca-44c1-bac6-761076c5c8db",
   "metadata": {},
   "outputs": [],
   "source": [
    "t1=test_fib(10)"
   ]
  },
  {
   "cell_type": "code",
   "execution_count": 17,
   "id": "75a12fd9-5f8f-435f-8e10-547f928f8455",
   "metadata": {},
   "outputs": [
    {
     "name": "stdout",
     "output_type": "stream",
     "text": [
      "0\n",
      "1\n",
      "1\n",
      "2\n",
      "3\n",
      "5\n",
      "8\n",
      "13\n",
      "21\n",
      "34\n"
     ]
    }
   ],
   "source": [
    "for i in test_fib(10):\n",
    "      print( i)"
   ]
  },
  {
   "cell_type": "code",
   "execution_count": null,
   "id": "9286e0ce-c058-4992-82d1-cbf243d783b9",
   "metadata": {},
   "outputs": [],
   "source": []
  }
 ],
 "metadata": {
  "kernelspec": {
   "display_name": "Python 3 (ipykernel)",
   "language": "python",
   "name": "python3"
  },
  "language_info": {
   "codemirror_mode": {
    "name": "ipython",
    "version": 3
   },
   "file_extension": ".py",
   "mimetype": "text/x-python",
   "name": "python",
   "nbconvert_exporter": "python",
   "pygments_lexer": "ipython3",
   "version": "3.10.8"
  }
 },
 "nbformat": 4,
 "nbformat_minor": 5
}
