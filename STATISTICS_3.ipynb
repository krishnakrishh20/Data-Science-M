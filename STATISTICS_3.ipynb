{
  "nbformat": 4,
  "nbformat_minor": 0,
  "metadata": {
    "colab": {
      "provenance": []
    },
    "kernelspec": {
      "name": "python3",
      "display_name": "Python 3"
    },
    "language_info": {
      "name": "python"
    }
  },
  "cells": [
    {
      "cell_type": "markdown",
      "source": [
        "**Q1. What is the Probability density function?**"
      ],
      "metadata": {
        "id": "KjLek293uN4t"
      }
    },
    {
      "cell_type": "markdown",
      "source": [
        "\n",
        "\n",
        "The probability density function (PDF) is a concept in probability theory and statistics that describes the likelihood of a continuous random variable taking on a specific value within a given range. In simpler terms, it defines the relative likelihood of a continuous random variable being within a particular interval.\n",
        "\n",
        "Mathematically, for a continuous random variable \\( X \\), the PDF is denoted by \\( f(x) \\) and satisfies the following properties:\n",
        "\n",
        "1. \\( f(x) \\geq 0 \\) for all \\( x \\) (non-negativity)\n",
        "2. The total area under the curve of \\( f(x) \\) over all possible values of \\( x \\) is equal to 1, i.e., \\( \\int_{-\\infty}^{\\infty} f(x) \\, dx = 1 \\) (total probability)\n",
        "\n",
        "The probability of the random variable \\( X \\) falling within a specific interval \\( [a, b] \\) is given by the integral of the PDF over that interval:\n",
        "\n",
        "\\[ P(a \\leq X \\leq b) = \\int_{a}^{b} f(x) \\, dx \\]\n",
        "\n",
        "The PDF can take different shapes depending on the distribution of the random variable it describes. Some common probability density functions include the normal distribution, uniform distribution, exponential distribution, and many others. These distributions have specific mathematical forms for their PDFs.\n"
      ],
      "metadata": {
        "id": "lAgWDd3RxG4t"
      }
    },
    {
      "cell_type": "markdown",
      "source": [
        "**Q2. What are the types of Probability distribution?**"
      ],
      "metadata": {
        "id": "O9JRTuQn9CN4"
      }
    },
    {
      "cell_type": "markdown",
      "source": [
        "\n",
        "There are several types of probability distributions, each with its own characteristics and applications. Here are some of the main types:\n",
        "\n",
        "**Discrete Probability Distributions:**\n",
        "\n",
        "###### **Bernoulli Distribution:** Models a single trial of a binary outcome (success or failure).\n",
        "###### **Binomial Distribution:** Models the number of successes in a fixed number of independent Bernoulli trials.\n",
        "###### **Poisson Distribution:** Models the number of events occurring in a fixed interval of time or space.\n",
        "**Continuous Probability Distributions:**\n",
        "\n",
        "###### **Normal (Gaussian) Distribution:** Often used to model real-valued random variables whose distributions are not known. It has a bell-shaped curve.\n",
        "###### **Uniform Distribution:** All outcomes have equal probabilities."
      ],
      "metadata": {
        "id": "APh8deDHxJK9"
      }
    },
    {
      "cell_type": "markdown",
      "source": [
        "**  Q3. Write a Python function to calculate the probability density function of a normal distribution with\n",
        "given mean and standard deviation at a given point. **"
      ],
      "metadata": {
        "id": "cD5sF71k9sdF"
      }
    },
    {
      "cell_type": "code",
      "source": [
        "import numpy as np\n",
        "\n",
        "def prob_density_func(x,mean,std_dev):\n",
        "\n",
        "  coff=(1/(std_dev*(np.sqrt(2*np.pi))))\n",
        "  exponent=(-(x-mean)**2)/(2*(std_dev**2))\n",
        "\n",
        "  return coff*np.exp(exponent)"
      ],
      "metadata": {
        "id": "xyQN_BR8CeGP"
      },
      "execution_count": 3,
      "outputs": []
    },
    {
      "cell_type": "code",
      "source": [
        "prob_density_func(1,0,1)"
      ],
      "metadata": {
        "colab": {
          "base_uri": "https://localhost:8080/"
        },
        "id": "iU5_u1WSDWBW",
        "outputId": "5322c2db-3859-4cfe-decd-863bc7ae47c2"
      },
      "execution_count": 4,
      "outputs": [
        {
          "output_type": "execute_result",
          "data": {
            "text/plain": [
              "0.24197072451914337"
            ]
          },
          "metadata": {},
          "execution_count": 4
        }
      ]
    },
    {
      "cell_type": "markdown",
      "source": [
        "**Q4. What are the properties of Binomial distribution? Give two examples of events where binomial\n",
        "distribution can be applied.**"
      ],
      "metadata": {
        "id": "_OfWR2eFEmIH"
      }
    },
    {
      "cell_type": "markdown",
      "source": [
        "The binomial distribution is characterized by the following properties:\n",
        "\n",
        "1. **Fixed Number of Trials**: The binomial distribution describes the number of successes in a fixed number of independent trials, denoted by \\( n \\).\n",
        "\n",
        "2. **Independent Trials**: Each trial must be independent of the others. The outcome of one trial does not affect the outcome of another.\n",
        "\n",
        "3. **Two Possible Outcomes**: Each trial has only two possible outcomes: success or failure.\n",
        "\n",
        "4. **Constant Probability of Success**: The probability of success, denoted by \\( p \\), remains constant for each trial. Similarly, the probability of failure is \\( 1 - p \\).\n",
        "\n",
        "5. **Discrete Probability Distribution**: The binomial distribution is a discrete probability distribution. It gives the probability of obtaining each possible number of successes in \\( n \\) trials.\n",
        "\n",
        "Examples of events where the binomial distribution can be applied include:\n",
        "\n",
        "1. **Coin Flips**: Consider flipping a fair coin multiple times. Each flip represents a binomial trial with two possible outcomes (heads or tails). The binomial distribution can be used to calculate the probability of obtaining a certain number of heads in a fixed number of flips.\n",
        "\n",
        "2. **Manufacturing Defects**: In manufacturing processes, products may be classified as defective or non-defective. The binomial distribution can be applied to calculate the probability of a certain number of defective items in a sample of products inspected for defects. For example, in a batch of 1000 light bulbs produced by a factory with a known defect rate, the binomial distribution can help estimate the probability of finding a specific number of defective bulbs when inspecting a sample of, say, 100 bulbs."
      ],
      "metadata": {
        "id": "C4qJ_fPSDhs0"
      }
    },
    {
      "cell_type": "markdown",
      "source": [
        "**Q5. Generate a random sample of size 1000 from a binomial distribution with probability of success 0.4\n",
        "and plot a histogram of the results using matplotlib.**"
      ],
      "metadata": {
        "id": "AB2zcI7hErtJ"
      }
    },
    {
      "cell_type": "code",
      "source": [
        "import numpy as np\n",
        "import matplotlib.pyplot as plt\n",
        "x=np.random.binomial(n=10,p=0.4,size=1000)\n",
        "plt.hist(x,edgecolor='black')\n",
        "plt.title('Binomial Distribution with n=10, p=0.4')\n",
        "plt.xlabel('Number of Successes')\n",
        "plt.ylabel('Probability Density')\n",
        "plt.grid(True)\n",
        "plt.show()\n"
      ],
      "metadata": {
        "colab": {
          "base_uri": "https://localhost:8080/",
          "height": 472
        },
        "id": "bDDe4XikE6xj",
        "outputId": "399c037f-5500-4454-96fb-37cdff2bb28f"
      },
      "execution_count": 14,
      "outputs": [
        {
          "output_type": "display_data",
          "data": {
            "text/plain": [
              "<Figure size 640x480 with 1 Axes>"
            ],
            "image/png": "[encoded data removed]"
          },
          "metadata": {}
        }
      ]
    },
    {
      "cell_type": "markdown",
      "source": [
        "**Q6. Write a Python function to calculate the cumulative distribution function of a Poisson distribution\n",
        "with given mean at a given point.**"
      ],
      "metadata": {
        "id": "rpU7Y6wO-Xfc"
      }
    },
    {
      "cell_type": "code",
      "source": [
        "\n",
        "\n",
        "import math\n",
        "\n",
        "def poisson_cdf(k, mean):\n",
        "    cdf = 0\n",
        "    for i in range(k + 1):\n",
        "        cdf += (mean ** i) / math.factorial(i)\n",
        "    return np.exp(-mean) * cdf\n",
        "\n",
        "# Example usage:\n",
        "mean = 2.5  # Mean of the Poisson distribution\n",
        "point = 3   # Point at which to evaluate the CDF\n",
        "cdf_value = poisson_cdf(point, mean)\n",
        "print(\"CDF at k =\", point, \":\", cdf_value)\n",
        "\n",
        "\n"
      ],
      "metadata": {
        "colab": {
          "base_uri": "https://localhost:8080/"
        },
        "id": "2DlnlWP3Hif4",
        "outputId": "aee02c64-e76e-4c7b-f17b-90c8959a746c"
      },
      "execution_count": 22,
      "outputs": [
        {
          "output_type": "stream",
          "name": "stdout",
          "text": [
            "CDF at k = 3 : 0.7575761331330659\n"
          ]
        }
      ]
    },
    {
      "cell_type": "code",
      "source": [
        "from scipy.stats import poisson\n",
        "\n",
        "def poisson_cdf(k, mu):\n",
        "    \"\"\"\n",
        "    Calculate the cumulative distribution function (CDF) of a Poisson distribution\n",
        "    with a given mean at a given point.\n",
        "\n",
        "    Parameters:\n",
        "    - k: The point at which to evaluate the CDF.\n",
        "    - mu: Mean of the Poisson distribution.\n",
        "\n",
        "    Returns:\n",
        "    - The cumulative probability up to the given point.\n",
        "    \"\"\"\n",
        "    return poisson.cdf(k, mu)\n",
        "\n",
        "# Example usage:\n",
        "mean = 2.5  # Mean of the Poisson distribution\n",
        "point = 3   # Point at which to evaluate the CDF\n",
        "cdf_value = poisson_cdf(point, mean)\n",
        "print(\"CDF at k =\", point, \":\", cdf_value)\n"
      ],
      "metadata": {
        "colab": {
          "base_uri": "https://localhost:8080/"
        },
        "id": "G0B7A4_LJw7_",
        "outputId": "8586c4ee-870b-4e77-b3f7-d0088238da94"
      },
      "execution_count": 23,
      "outputs": [
        {
          "output_type": "stream",
          "name": "stdout",
          "text": [
            "CDF at k = 3 : 0.7575761331330662\n"
          ]
        }
      ]
    },
    {
      "cell_type": "markdown",
      "source": [
        "The Binomial distribution and Poisson distribution are both probability distributions commonly used to model the number of occurrences of events. However, they have different characteristics and are applicable in different scenarios. Here's how they differ:\n",
        "\n",
        "1. **Nature of Events**:\n",
        "   - **Binomial Distribution**: It describes the number of successes in a fixed number of independent Bernoulli trials, where each trial has two possible outcomes (success or failure).\n",
        "   - **Poisson Distribution**: It describes the number of events occurring in a fixed interval of time or space, assuming the events occur independently at a constant average rate.\n",
        "\n",
        "2. **Number of Trials**:\n",
        "   - **Binomial Distribution**: It requires a fixed number of trials \\( n \\) to be specified in advance.\n",
        "   - **Poisson Distribution**: It does not have a fixed number of trials. Instead, it models the occurrence of events in a continuous interval.\n",
        "\n",
        "3. **Outcomes**:\n",
        "   - **Binomial Distribution**: Each trial in a Binomial distribution has two possible outcomes: success or failure.\n",
        "   - **Poisson Distribution**: It models the count of occurrences of events, which can be any non-negative integer.\n",
        "\n",
        "4. **Parameters**:\n",
        "   - **Binomial Distribution**: It is characterized by two parameters: \\( n \\), the number of trials, and \\( p \\), the probability of success in each trial.\n",
        "   - **Poisson Distribution**: It is characterized by one parameter: \\( \\lambda \\), the average rate of event occurrences per unit interval.\n",
        "\n",
        "5. **Assumptions**:\n",
        "   - **Binomial Distribution**: It assumes a fixed number of independent trials with a constant probability of success in each trial.\n",
        "   - **Poisson Distribution**: It assumes events occur independently at a constant average rate over time or space.\n",
        "\n",
        "6. **Applicability**:\n",
        "   - **Binomial Distribution**: It is suitable for situations where there are a fixed number of independent trials with two possible outcomes, such as flipping a coin a certain number of times or conducting a fixed number of experiments.\n",
        "   - **Poisson Distribution**: It is suitable for situations where events occur independently at a constant average rate over time or space, such as the number of phone calls received at a call center in a fixed time period or the number of arrivals at a bus stop in a given hour.\n",
        "\n",
        "In summary, while both distributions model counts of events, the Binomial distribution is used for a fixed number of trials with two possible outcomes, whereas the Poisson distribution is used for an indefinite number of events occurring at a constant rate over time or space."
      ],
      "metadata": {
        "id": "nnF7IgBTHhO0"
      }
    },
    {
      "cell_type": "markdown",
      "source": [
        "**Q8. Generate a random sample of size 1000 from a Poisson distribution with mean 5 and calculate the\n",
        "sample mean and variance.**"
      ],
      "metadata": {
        "id": "3ygPjgdZNhTU"
      }
    },
    {
      "cell_type": "code",
      "source": [
        "x=np.random.poisson(lam=5,size=1000)\n",
        "print(\"Mean:\",np.mean(x))\n",
        "print(\"Variance:\",np.var(x))\n",
        "\n"
      ],
      "metadata": {
        "colab": {
          "base_uri": "https://localhost:8080/"
        },
        "id": "SPi6Me3rNkz1",
        "outputId": "21285545-f332-4bbf-8d12-badec2c58ded"
      },
      "execution_count": 27,
      "outputs": [
        {
          "output_type": "stream",
          "name": "stdout",
          "text": [
            "Mean: 4.981\n",
            "Variance: 5.248638999999999\n"
          ]
        }
      ]
    },
    {
      "cell_type": "markdown",
      "source": [
        "**Q9. How mean and variance are related in Binomial distribution and Poisson distribution?**"
      ],
      "metadata": {
        "id": "lI5mOqoYNkQY"
      }
    },
    {
      "cell_type": "markdown",
      "source": [
        "In both the Binomial and Poisson distributions, the mean and variance are closely related, but the nature of their relationship differs slightly between the two distributions.\n",
        "\n",
        "1. **Binomial Distribution**:\n",
        "   - **Mean**: The mean (\\( \\mu \\)) of a Binomial distribution is given by \\( n \\times p \\), where \\( n \\) is the number of trials and \\( p \\) is the probability of success in each trial.\n",
        "   - **Variance**: The variance (\\( \\sigma^2 \\)) of a Binomial distribution is given by \\( n \\times p \\times (1 - p) \\).\n",
        "\n",
        "   The relationship between mean and variance in a Binomial distribution is linear. Specifically, the variance is a function of both the mean and the probability of success.\n",
        "\n",
        "2. **Poisson Distribution**:\n",
        "   - **Mean**: The mean (\\( \\lambda \\)) of a Poisson distribution represents the average rate of occurrence of events in a fixed interval of time or space.\n",
        "   - **Variance**: The variance (\\( \\sigma^2 \\)) of a Poisson distribution is also equal to \\( \\lambda \\).\n",
        "\n",
        "   In the Poisson distribution, the mean and variance are equal, and they both are equal to the parameter \\( \\lambda \\). This means that the variance is solely determined by the mean.\n",
        "\n"
      ],
      "metadata": {
        "id": "iiCFFJwzOk3D"
      }
    },
    {
      "cell_type": "markdown",
      "source": [
        "**Q10. In normal distribution with respect to mean position, where does the least frequent data appear?**"
      ],
      "metadata": {
        "id": "8_J8T3izOtzW"
      }
    },
    {
      "cell_type": "markdown",
      "source": [
        "In a normal distribution, also known as a Gaussian distribution, the least frequent data points appear in the tails of the distribution, farthest away from the mean. Specifically, the least frequent data points occur in the extreme ends of the distribution, which are located at the tails of the distribution curve.\n",
        "\n",
        "In a normal distribution:\n",
        "\n",
        "- The mean (\\( \\mu \\)) represents the central tendency of the data.\n",
        "- The tails of the distribution extend infinitely in both directions along the horizontal axis.\n",
        "- As you move away from the mean towards the tails of the distribution, the probability density decreases rapidly.\n",
        "- The data points in the tails of the distribution represent extreme values, which occur with much lower frequency compared to the data points closer to the mean.\n",
        "\n",
        "Therefore, the least frequent data points in a normal distribution appear in the tails, farthest away from the mean. The exact position of the least frequent data points depends on the spread of the distribution, quantified by the standard deviation (\\( \\sigma \\)). The tails become thinner as you move farther away from the mean, indicating that extreme values are less likely to occur."
      ],
      "metadata": {
        "id": "YNr97OdmO2AJ"
      }
    },
    {
      "cell_type": "markdown",
      "source": [],
      "metadata": {
        "id": "1EjqItbDO7hu"
      }
    }
  ]
}