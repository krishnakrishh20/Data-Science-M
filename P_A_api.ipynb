{
 "cells": [
  {
   "cell_type": "markdown",
   "id": "31eaf222-7e5e-49ab-8c51-2027ed4691e6",
   "metadata": {},
   "source": [
    "### What is an API? Give an example, where an API is used in real life."
   ]
  },
  {
   "cell_type": "raw",
   "id": "55c7f0df-3b5d-4f4e-937e-360172cdf3b3",
   "metadata": {},
   "source": [
    "API is the acronym for application programming interface — a software intermediary that allows two applications to talk to each other. APIs are an accessible way to extract and share data within and across organizations.\n",
    "\n",
    "\n",
    "Example:\n",
    "\n",
    " rideshare app, send a mobile payment, or change the thermostat temperature from your phone\n",
    " \n",
    " \n",
    " API: connect to the Internet and send data to a server. The server then retrieves that data, interprets it, performs the necessary actions, and sends it back to your phone. The application then interprets that data and presents you with the information you wanted in a readable way. What are the characteristics of an API?\n",
    "\n",
    "The term “API” has been generically used to describe connectivity interfaces to an application.\n",
    "\n"
   ]
  },
  {
   "cell_type": "markdown",
   "id": "826132f7-6a41-4ef7-9d7a-fde0ec022979",
   "metadata": {},
   "source": [
    "### Give advantages and disadvantages of using API."
   ]
  },
  {
   "cell_type": "raw",
   "id": "5033130c-8691-426e-a319-16bcc72ceeed",
   "metadata": {},
   "source": [
    "advantages\n",
    "\n",
    "1.Applications: Access to APIs ensures more flexibility in information-transfer processes.\n",
    "\n",
    "2.Reach: APIs let you create layers in apps in order to distribute information to different audiences.\n",
    "\n",
    "3.Customization: Furthermore, it can serve as a solution to create different experiences for users, letting protocols, functions, and commands be adapted according to specific demands.\n",
    "\n",
    "4.Efficiency: When you have content that is automatically published and made available on different channels simultaneously, APIs allow for more efficient data distribution.\n",
    "\n",
    "disadvantages\n",
    "\n",
    " As a single point of entry, an API is a gateway and can become a hacker's primary target. Once the API is compromised, all other applications and systems become vulnerable.\n"
   ]
  },
  {
   "cell_type": "markdown",
   "id": "94ad783d-6e45-421d-8608-7b5cecb8c6d3",
   "metadata": {},
   "source": [
    "### What is a Web API? Differentiate between API and Web API."
   ]
  },
  {
   "cell_type": "raw",
   "id": "845d60d8-7438-4e6c-97bd-7bfdbe1b1829",
   "metadata": {},
   "source": [
    "\n",
    "\n",
    "Web API as the name suggests, is an API over the web which can be accessed using HTTP protocol. It is a concept and not a technology. We can build Web API using different technologies such as Java, .NET etc. For example, Twitter's REST APIs provide programmatic access to read and write data using which we can integrate twitter's capabilities into our own application.\n",
    "\n",
    "Both APIs and web services are technologies that enable the transfer of data between separate software applications. API is an interface that exposes an application's data to outside software, whereas web applications are one type of API with stricter requirements. These requirements include network communication, SOAP as the primary protocol, and less accessibility for the public. \n",
    "\n"
   ]
  },
  {
   "cell_type": "markdown",
   "id": "841b2cd9-f536-4690-ad1d-08f8de1efb89",
   "metadata": {},
   "source": [
    "### Explain REST and SOAP Architecture. Mention shortcomings of SOAP."
   ]
  },
  {
   "cell_type": "raw",
   "id": "0d9428ed-3d92-4f55-bd13-3ddd12b9eed2",
   "metadata": {},
   "source": [
    "REST--\n",
    "\n",
    "1.A client-server architecture composed of clients, servers, and resources.\n",
    "2.Stateless client-server communication, meaning no client content is stored on the server between requests. Information about the session’s state is instead held with the client.\n",
    "3.Cacheable data to eliminate the need for some client-server interactions.\n",
    "4.A uniform interface between components so that information is transferred in a standardized form instead of specific to an application’s needs. This is described by Roy Fielding, the originator of REST, as “the central feature that distinguishes the REST architectural style from other network-based styles.”\n",
    "5.A layered system constraint, where client-server interactions can be mediated by hierarchical layers.\n",
    "\n",
    "SOAP--\n",
    "1.Web services security (WS-security): Standardizes how messages are secured and transferred through unique identifiers called tokens.\n",
    "2.WS-ReliableMessaging: Standardizes error handling between messages transferred across unreliable IT infrastructure.\n",
    "3.Web services addressing (WS-addressing): Packages routing information as metadata within SOAP headers, instead of maintaining such information deeper within the network.\n",
    "4.Web services description language (WSDL): Describes what a web service does, and where that service begins and ends."
   ]
  },
  {
   "cell_type": "markdown",
   "id": "067a8207-5e93-407f-a1c2-9afdbbd1d6ee",
   "metadata": {},
   "source": [
    "### Differentiate between REST and SOAP."
   ]
  },
  {
   "cell_type": "raw",
   "id": "6793c965-2b24-4852-a9d9-96115491d545",
   "metadata": {},
   "source": [
    "REST is a set of architectural principles attuned to the needs of lightweight web services and mobile applications. Because it's a set of guidelines, it leaves the implementation of these recommendations to developers.\n",
    "\n",
    "When a request for data is sent to a REST API, it’s usually done through hypertext transfer protocol (commonly referred to as HTTP). Once a request is received, APIs designed for REST (called RESTful APIs or RESTful web services) can return messages in a variety of formats: HTML, XML, plain text, and JSON. JSON (JavaScript object notation) is favored as a message format because it can be read by any programming language (despite the name), is human- and machine-readable, and is lightweight. In this way, RESTful APIs are more flexible and can be easier to set up.\n",
    "\n",
    "\n",
    "SOAP is a standard protocol that was first designed so that applications built with different languages and on different platforms could communicate. Because it is a protocol, it imposes built-in rules that increase its complexity and overhead, which can lead to longer page load times. However, these standards also offer built-in compliances that can make it preferable for enterprise scenarios. The built-in compliance standards include security, atomicity, consistency, isolation, and durability (ACID), which is a set of properties for ensuring reliable database transactions.\n"
   ]
  },
  {
   "cell_type": "code",
   "execution_count": null,
   "id": "73e1b839-2f89-47d9-bdae-82419936518b",
   "metadata": {},
   "outputs": [],
   "source": []
  }
 ],
 "metadata": {
  "kernelspec": {
   "display_name": "Python 3 (ipykernel)",
   "language": "python",
   "name": "python3"
  },
  "language_info": {
   "codemirror_mode": {
    "name": "ipython",
    "version": 3
   },
   "file_extension": ".py",
   "mimetype": "text/x-python",
   "name": "python",
   "nbconvert_exporter": "python",
   "pygments_lexer": "ipython3",
   "version": "3.10.8"
  }
 },
 "nbformat": 4,
 "nbformat_minor": 5
}
