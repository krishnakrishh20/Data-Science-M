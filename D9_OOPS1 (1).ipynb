{
 "cells": [
  {
   "cell_type": "code",
   "execution_count": 1,
   "id": "3fb36196-5ce9-4b33-9fd5-7e7d976ed9b8",
   "metadata": {},
   "outputs": [],
   "source": [
    "a=1"
   ]
  },
  {
   "cell_type": "code",
   "execution_count": 2,
   "id": "0ed8af1f-6dcb-46af-b54e-1c1d0549bd76",
   "metadata": {},
   "outputs": [
    {
     "name": "stdout",
     "output_type": "stream",
     "text": [
      "<class 'int'>\n"
     ]
    }
   ],
   "source": [
    "print(type(a))"
   ]
  },
  {
   "cell_type": "code",
   "execution_count": 3,
   "id": "6b557818-9cb1-4252-bd69-9ffb5528f36e",
   "metadata": {},
   "outputs": [
    {
     "name": "stdout",
     "output_type": "stream",
     "text": [
      "<class 'str'>\n"
     ]
    }
   ],
   "source": [
    "print(type(\"pk\"))"
   ]
  },
  {
   "cell_type": "code",
   "execution_count": 5,
   "id": "e788273c-2421-44e6-9a90-f701b84e823e",
   "metadata": {},
   "outputs": [
    {
     "data": {
      "text/plain": [
       "str"
      ]
     },
     "execution_count": 5,
     "metadata": {},
     "output_type": "execute_result"
    }
   ],
   "source": [
    "type(\"pk\")"
   ]
  },
  {
   "cell_type": "code",
   "execution_count": 6,
   "id": "49950ef7-f6d2-4659-a25a-356c15c20b6a",
   "metadata": {},
   "outputs": [],
   "source": [
    "class test:\n",
    "    pass"
   ]
  },
  {
   "cell_type": "code",
   "execution_count": 7,
   "id": "61ca7deb-7bcf-4cfe-abbd-598e9d208c09",
   "metadata": {},
   "outputs": [],
   "source": [
    "a=test()\n",
    "    "
   ]
  },
  {
   "cell_type": "code",
   "execution_count": 8,
   "id": "13336d11-0bdb-4fde-b4f8-c68a1cbdd1f1",
   "metadata": {},
   "outputs": [
    {
     "data": {
      "text/plain": [
       "__main__.test"
      ]
     },
     "execution_count": 8,
     "metadata": {},
     "output_type": "execute_result"
    }
   ],
   "source": [
    "type(a)"
   ]
  },
  {
   "cell_type": "code",
   "execution_count": 9,
   "id": "997ad455-c24c-4f5a-ab48-5931ba92804f",
   "metadata": {},
   "outputs": [
    {
     "name": "stdout",
     "output_type": "stream",
     "text": [
      "<class '__main__.test'>\n"
     ]
    }
   ],
   "source": [
    "print(type(a))"
   ]
  },
  {
   "cell_type": "code",
   "execution_count": 17,
   "id": "6f1e033d-d65d-48c7-aee1-a09a323b1b9c",
   "metadata": {},
   "outputs": [],
   "source": [
    "class student:\n",
    "    def welcome_msg():\n",
    "        print(\"welcome to school\")"
   ]
  },
  {
   "cell_type": "code",
   "execution_count": 21,
   "id": "2cd67c44-15d4-4753-9245-41698552f074",
   "metadata": {},
   "outputs": [],
   "source": [
    "krishna=student()"
   ]
  },
  {
   "cell_type": "code",
   "execution_count": 22,
   "id": "c5dfa257-2f13-4968-9378-a115b706a89c",
   "metadata": {},
   "outputs": [
    {
     "name": "stdout",
     "output_type": "stream",
     "text": [
      "welcome to school\n"
     ]
    }
   ],
   "source": [
    "krishna.welcome_msg()"
   ]
  },
  {
   "cell_type": "code",
   "execution_count": 24,
   "id": "77de91ce-dece-4634-847e-fc070cf3f53b",
   "metadata": {},
   "outputs": [
    {
     "name": "stdout",
     "output_type": "stream",
     "text": [
      "welcome to school\n"
     ]
    }
   ],
   "source": [
    "kp=student()\n",
    "kp.welcome_msg()"
   ]
  },
  {
   "cell_type": "code",
   "execution_count": 25,
   "id": "b8781eeb-1459-4b24-80e4-f547b669e3b4",
   "metadata": {},
   "outputs": [
    {
     "name": "stdout",
     "output_type": "stream",
     "text": [
      "John\n",
      "36\n"
     ]
    }
   ],
   "source": [
    "class Person:\n",
    "  def __init__(self, name, age):\n",
    "    self.name = name\n",
    "    self.age = age\n",
    "\n",
    "p1 = Person(\"John\", 36)\n",
    "\n",
    "print(p1.name)\n",
    "print(p1.age)"
   ]
  },
  {
   "cell_type": "code",
   "execution_count": 26,
   "id": "00afcd44-8579-4bb2-a07e-57b4f7fa249d",
   "metadata": {},
   "outputs": [],
   "source": [
    "\n",
    "class student:\n",
    "    \n",
    "    def __init__(self,Rno,subject,div):\n",
    "        self.Rno=Rno\n",
    "        self.subject=subject\n",
    "        self.div=div\n",
    "    def return_student_details(self):\n",
    "        return self.Rno,self.subject,self.div"
   ]
  },
  {
   "cell_type": "code",
   "execution_count": 29,
   "id": "ebbc0275-3808-4075-9a34-77902f4669e0",
   "metadata": {},
   "outputs": [
    {
     "data": {
      "text/plain": [
       "(12, 'science', 'A')"
      ]
     },
     "execution_count": 29,
     "metadata": {},
     "output_type": "execute_result"
    }
   ],
   "source": [
    "kp=student(12,\"science\",\"A\")\n",
    "kp.return_student_details()"
   ]
  },
  {
   "cell_type": "code",
   "execution_count": 34,
   "id": "48f516a8-20d8-484a-8a59-96703adbcd86",
   "metadata": {},
   "outputs": [
    {
     "data": {
      "text/plain": [
       "(23, 'cm', 'A')"
      ]
     },
     "execution_count": 34,
     "metadata": {},
     "output_type": "execute_result"
    }
   ],
   "source": [
    "sj=student(23,\"cm\",\"A\")\n",
    "sj.return_student_details()"
   ]
  },
  {
   "cell_type": "code",
   "execution_count": 35,
   "id": "874ae623-37b8-4a9e-97ea-6121763eff5d",
   "metadata": {},
   "outputs": [
    {
     "data": {
      "text/plain": [
       "23"
      ]
     },
     "execution_count": 35,
     "metadata": {},
     "output_type": "execute_result"
    }
   ],
   "source": [
    "sj.Rno"
   ]
  },
  {
   "cell_type": "code",
   "execution_count": 36,
   "id": "5ae448e8-e21e-45b7-97d9-aa9fcac020c6",
   "metadata": {},
   "outputs": [
    {
     "data": {
      "text/plain": [
       "'A'"
      ]
     },
     "execution_count": 36,
     "metadata": {},
     "output_type": "execute_result"
    }
   ],
   "source": [
    "kp.div"
   ]
  },
  {
   "cell_type": "code",
   "execution_count": 37,
   "id": "ec0f089c-28cd-4943-9379-a7e0edbcdb3b",
   "metadata": {},
   "outputs": [],
   "source": [
    "# can use any variable instead of self"
   ]
  },
  {
   "cell_type": "code",
   "execution_count": 40,
   "id": "ebdbf48f-8028-4d57-9441-be2bd8527795",
   "metadata": {},
   "outputs": [],
   "source": [
    "\n",
    "class student1:\n",
    "    \n",
    "    def __init__(self,Rno,subject,div):\n",
    "        self.Rno1=Rno\n",
    "        self.subject1=subject\n",
    "        self.div1=div\n",
    "    def return_student_details(self):\n",
    "        return self.Rno1,self.subject11,self.div"
   ]
  },
  {
   "cell_type": "code",
   "execution_count": 41,
   "id": "c55e90d0-cc84-4be5-bc3a-34e8fb01698d",
   "metadata": {},
   "outputs": [
    {
     "data": {
      "text/plain": [
       "12"
      ]
     },
     "execution_count": 41,
     "metadata": {},
     "output_type": "execute_result"
    }
   ],
   "source": [
    "py=student1(12,\"hj\",\"C\")\n",
    "py.Rno1\n"
   ]
  },
  {
   "cell_type": "code",
   "execution_count": null,
   "id": "3cc2ae0d-b39b-41d9-ad6a-f35d1d5c60f8",
   "metadata": {},
   "outputs": [],
   "source": []
  }
 ],
 "metadata": {
  "kernelspec": {
   "display_name": "Python 3 (ipykernel)",
   "language": "python",
   "name": "python3"
  },
  "language_info": {
   "codemirror_mode": {
    "name": "ipython",
    "version": 3
   },
   "file_extension": ".py",
   "mimetype": "text/x-python",
   "name": "python",
   "nbconvert_exporter": "python",
   "pygments_lexer": "ipython3",
   "version": "3.10.8"
  }
 },
 "nbformat": 4,
 "nbformat_minor": 5
}
