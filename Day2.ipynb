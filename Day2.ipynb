{
 "cells": [
  {
   "cell_type": "code",
   "execution_count": 4,
   "id": "0b297dd1-54c8-40aa-9699-03a4ebb6c5c8",
   "metadata": {},
   "outputs": [],
   "source": [
    "a=10"
   ]
  },
  {
   "cell_type": "code",
   "execution_count": 5,
   "id": "8b0a0d5b-e81d-4ab6-9bfa-99582e0e1e7f",
   "metadata": {},
   "outputs": [
    {
     "data": {
      "text/plain": [
       "10"
      ]
     },
     "execution_count": 5,
     "metadata": {},
     "output_type": "execute_result"
    }
   ],
   "source": [
    "a"
   ]
  },
  {
   "cell_type": "code",
   "execution_count": 1,
   "id": "fff07a7e-db48-4429-915f-b2ed21f3bff8",
   "metadata": {},
   "outputs": [],
   "source": [
    "a='c'"
   ]
  },
  {
   "cell_type": "code",
   "execution_count": 2,
   "id": "d1f8fc7e-411f-49e4-820b-2eccb5a24148",
   "metadata": {},
   "outputs": [
    {
     "data": {
      "text/plain": [
       "str"
      ]
     },
     "execution_count": 2,
     "metadata": {},
     "output_type": "execute_result"
    }
   ],
   "source": [
    "type(a)"
   ]
  },
  {
   "cell_type": "code",
   "execution_count": 3,
   "id": "f9563681-4dcd-4b57-a908-89859f605aaf",
   "metadata": {},
   "outputs": [
    {
     "data": {
      "text/plain": [
       "int"
      ]
     },
     "execution_count": 3,
     "metadata": {},
     "output_type": "execute_result"
    }
   ],
   "source": [
    "int"
   ]
  },
  {
   "cell_type": "code",
   "execution_count": 4,
   "id": "000c51bf-4b1f-4015-8462-e485545b986d",
   "metadata": {},
   "outputs": [
    {
     "data": {
      "text/plain": [
       "123"
      ]
     },
     "execution_count": 4,
     "metadata": {},
     "output_type": "execute_result"
    }
   ],
   "source": [
    "int(\"123\")"
   ]
  },
  {
   "cell_type": "code",
   "execution_count": 5,
   "id": "b1f251b2-4b29-4274-a66d-9278b5df239e",
   "metadata": {},
   "outputs": [
    {
     "name": "stdout",
     "output_type": "stream",
     "text": [
      "hello world\n"
     ]
    }
   ],
   "source": [
    "print(\"hello world\")"
   ]
  },
  {
   "cell_type": "code",
   "execution_count": 6,
   "id": "663ad95c-54ac-4408-832a-68f62e790c52",
   "metadata": {},
   "outputs": [
    {
     "name": "stdout",
     "output_type": "stream",
     "text": [
      "123\n"
     ]
    }
   ],
   "source": [
    "print(123)\n"
   ]
  },
  {
   "cell_type": "code",
   "execution_count": 7,
   "id": "e1d1c806-eab9-4de7-818e-f438769d8206",
   "metadata": {},
   "outputs": [
    {
     "name": "stdout",
     "output_type": "stream",
     "text": [
      "abc\n"
     ]
    }
   ],
   "source": [
    "print(\"abc\")"
   ]
  },
  {
   "cell_type": "code",
   "execution_count": null,
   "id": "79fe03bd-cc7f-450b-9661-a9951f63b147",
   "metadata": {},
   "outputs": [],
   "source": []
  },
  {
   "cell_type": "code",
   "execution_count": 13,
   "id": "ba40a3bc-d771-4b45-bdb2-951a584d52bf",
   "metadata": {},
   "outputs": [
    {
     "name": "stdout",
     "output_type": "stream",
     "text": [
      "my name is: 32\n"
     ]
    }
   ],
   "source": [
    "age=32\n",
    "\n",
    "print(\"my name is:\", age)\n"
   ]
  },
  {
   "cell_type": "code",
   "execution_count": 14,
   "id": "a948ffb8-44f1-4054-b3c3-f3d2445d4f55",
   "metadata": {},
   "outputs": [
    {
     "name": "stdout",
     "output_type": "stream",
     "text": [
      "my age: 32\n"
     ]
    }
   ],
   "source": [
    "## F String\n",
    "print(f\"my age: {age}\")"
   ]
  },
  {
   "cell_type": "code",
   "execution_count": 17,
   "id": "43c376d0-84f1-4c84-9619-ff0812200b3e",
   "metadata": {},
   "outputs": [
    {
     "name": "stdout",
     "output_type": "stream",
     "text": [
      "my name is krishna nad age is 25 \n"
     ]
    }
   ],
   "source": [
    "## format()\n",
    "\n",
    "name=\"krishna\"\n",
    "age=25\n",
    "\n",
    "print(\"my name is {} nad age is {} \".format(name, age))"
   ]
  },
  {
   "cell_type": "code",
   "execution_count": 18,
   "id": "e38e42c7-e581-4bca-932c-720648511926",
   "metadata": {},
   "outputs": [
    {
     "name": "stdout",
     "output_type": "stream",
     "text": [
      "my name is krishna and age is 25\n"
     ]
    }
   ],
   "source": [
    "##placeholder\n",
    "print(\"my name is {Fname} and age is {Fage}\" .format(Fname= name,Fage=age))"
   ]
  },
  {
   "cell_type": "code",
   "execution_count": 20,
   "id": "9ce49178-a948-49dc-ae26-0632c5f29d2d",
   "metadata": {},
   "outputs": [
    {
     "name": "stdout",
     "output_type": "stream",
     "text": [
      "My age is 25 and i have completed : my degree of Btech with the name of krishna\n"
     ]
    }
   ],
   "source": [
    "name=\"krishna\"\n",
    "age=25\n",
    "degree=\"Btech\"\n",
    "print(\"My age is {Age} and i have completed : my degree of {Degree} with the name of {Name}\".format(Name= name,Age=age,Degree=degree ))"
   ]
  },
  {
   "cell_type": "code",
   "execution_count": 1,
   "id": "6c0c49fc-7cdc-40c1-90bc-1221573b4e5d",
   "metadata": {},
   "outputs": [],
   "source": [
    "### Control flow\n",
    "### Decision making statement\n",
    "\n"
   ]
  },
  {
   "cell_type": "code",
   "execution_count": null,
   "id": "3f2524cf-8036-4177-a6f9-433e2cb849e8",
   "metadata": {},
   "outputs": [],
   "source": [
    "if\n",
    "\n",
    "if else\n",
    "\n",
    "if elif else\n",
    "\n",
    "Nested if\n",
    "\n",
    "single statement suites\n",
    "\n",
    "\n"
   ]
  },
  {
   "cell_type": "code",
   "execution_count": 17,
   "id": "4fa2f86d-34ef-4fa9-8678-eeeb518d4031",
   "metadata": {},
   "outputs": [
    {
     "name": "stdin",
     "output_type": "stream",
     "text": [
      " 30\n"
     ]
    },
    {
     "name": "stdout",
     "output_type": "stream",
     "text": [
      "health check goood\n"
     ]
    }
   ],
   "source": [
    "age= int(input())\n",
    "\n",
    "if 17<age<=32:\n",
    "    \n",
    "    print(\"health check goood\")\n",
    "else :\n",
    "\n",
    "    print(\"nhv\")\n",
    "\n",
    " "
   ]
  },
  {
   "cell_type": "code",
   "execution_count": 10,
   "id": "8dda7a4b-1431-402c-a9b0-b599d9e28019",
   "metadata": {},
   "outputs": [
    {
     "data": {
      "text/plain": [
       "True"
      ]
     },
     "execution_count": 10,
     "metadata": {},
     "output_type": "execute_result"
    }
   ],
   "source": [
    "12>11"
   ]
  },
  {
   "cell_type": "code",
   "execution_count": 11,
   "id": "346ac963-87d8-432b-93b0-c68c5f45fa64",
   "metadata": {},
   "outputs": [
    {
     "name": "stdin",
     "output_type": "stream",
     "text": [
      " love\n"
     ]
    },
    {
     "data": {
      "text/plain": [
       "'love'"
      ]
     },
     "execution_count": 11,
     "metadata": {},
     "output_type": "execute_result"
    }
   ],
   "source": [
    "input()"
   ]
  },
  {
   "cell_type": "code",
   "execution_count": 15,
   "id": "d4a710d8-4980-4bcc-ace2-4ea27b45f1a5",
   "metadata": {},
   "outputs": [
    {
     "name": "stdin",
     "output_type": "stream",
     "text": [
      "enter the amount : 1000\n"
     ]
    },
    {
     "name": "stdout",
     "output_type": "stream",
     "text": [
      "disc 30%,price: 700.0\n"
     ]
    }
   ],
   "source": [
    "amt=int(input(\"enter the amount :\",))\n",
    "\n",
    "if amt>1000:\n",
    "    price=amt*0.8\n",
    "    print(\"discount 20%,price:\",price)\n",
    "else :\n",
    "    price=amt*0.7\n",
    "    print(\"disc 30%,price:\",price) \n",
    "\n",
    "\n"
   ]
  },
  {
   "cell_type": "code",
   "execution_count": 17,
   "id": "d7cfdb5a-8361-46b1-987a-bcbabf830fde",
   "metadata": {},
   "outputs": [
    {
     "name": "stdin",
     "output_type": "stream",
     "text": [
      "enter the no. 1000\n"
     ]
    }
   ],
   "source": [
    "## Single statement\n",
    "\n",
    "val=int(input(\"enter the no.\"))\n",
    "if (val<=999):print(\"value is less than egl to 999\")"
   ]
  },
  {
   "cell_type": "code",
   "execution_count": null,
   "id": "996879f2-b0c9-4033-b9ec-a7a30e8d2697",
   "metadata": {},
   "outputs": [],
   "source": []
  }
 ],
 "metadata": {
  "kernelspec": {
   "display_name": "Python 3 (ipykernel)",
   "language": "python",
   "name": "python3"
  },
  "language_info": {
   "codemirror_mode": {
    "name": "ipython",
    "version": 3
   },
   "file_extension": ".py",
   "mimetype": "text/x-python",
   "name": "python",
   "nbconvert_exporter": "python",
   "pygments_lexer": "ipython3",
   "version": "3.10.8"
  }
 },
 "nbformat": 4,
 "nbformat_minor": 5
}
