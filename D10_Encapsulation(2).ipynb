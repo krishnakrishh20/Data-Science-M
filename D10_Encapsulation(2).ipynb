{
 "cells": [
  {
   "cell_type": "code",
   "execution_count": 1,
   "id": "97f7e800-5a6e-4e7d-a7cb-66a86da8b471",
   "metadata": {},
   "outputs": [],
   "source": [
    "class car:\n",
    "    def __init__(self,year,make,model,speed):\n",
    "        self.__year=year\n",
    "        self.__make=make\n",
    "        self.__model=model\n",
    "        self.__speed=0\n",
    "        # made private\n",
    "        \n",
    "    def set_speed(self,speed):\n",
    "        self.__speed=0 if speed<0 else speed\n",
    "    def get_speed(self):\n",
    "        return self.__speed\n",
    "        "
   ]
  },
  {
   "cell_type": "code",
   "execution_count": 2,
   "id": "604a1285-b01b-4034-9d3c-485758859ea2",
   "metadata": {},
   "outputs": [],
   "source": [
    "obj_car=car(23,\"cherverlett\",\"cuze\",30)"
   ]
  },
  {
   "cell_type": "code",
   "execution_count": 3,
   "id": "5b40965b-5ac0-42cc-ae0b-920709c122a7",
   "metadata": {},
   "outputs": [
    {
     "data": {
      "text/plain": [
       "23"
      ]
     },
     "execution_count": 3,
     "metadata": {},
     "output_type": "execute_result"
    }
   ],
   "source": [
    "obj_car._car__year"
   ]
  },
  {
   "cell_type": "code",
   "execution_count": 4,
   "id": "3275c16c-b5fc-409f-911d-46217d7f74c7",
   "metadata": {},
   "outputs": [
    {
     "data": {
      "text/plain": [
       "0"
      ]
     },
     "execution_count": 4,
     "metadata": {},
     "output_type": "execute_result"
    }
   ],
   "source": [
    "obj_car._car__speed"
   ]
  },
  {
   "cell_type": "code",
   "execution_count": 5,
   "id": "53bc707e-47c5-47aa-b126-bf480d762180",
   "metadata": {},
   "outputs": [],
   "source": [
    "obj_car.set_speed(40)"
   ]
  },
  {
   "cell_type": "code",
   "execution_count": 6,
   "id": "b67f437b-31e9-45eb-8031-b51c3a7b97e3",
   "metadata": {},
   "outputs": [
    {
     "data": {
      "text/plain": [
       "40"
      ]
     },
     "execution_count": 6,
     "metadata": {},
     "output_type": "execute_result"
    }
   ],
   "source": [
    "obj_car._car__speed"
   ]
  },
  {
   "cell_type": "code",
   "execution_count": 7,
   "id": "baa94b6c-ab18-4f60-8c88-0017c4ae740a",
   "metadata": {},
   "outputs": [
    {
     "data": {
      "text/plain": [
       "40"
      ]
     },
     "execution_count": 7,
     "metadata": {},
     "output_type": "execute_result"
    }
   ],
   "source": [
    "obj_car.get_speed()"
   ]
  },
  {
   "cell_type": "code",
   "execution_count": 8,
   "id": "85c47d26-f465-4335-b726-e93b8d55dbdb",
   "metadata": {},
   "outputs": [],
   "source": [
    "class bank_account:\n",
    "    def __init__(self,balance):\n",
    "        self.__balance=balance\n",
    "   \n",
    "    def deposit(self,amount):\n",
    "        self.__balance=self.__balance+amount\n",
    "        \n",
    "    def withdraw(self,amount):\n",
    "        if self.__balance>=amount:\n",
    "            self.__balance=self.__balance-amount\n",
    "            \n",
    "            return True\n",
    "        else:\n",
    "            return False\n",
    "    def get_balance(self):\n",
    "        return self.__balance"
   ]
  },
  {
   "cell_type": "code",
   "execution_count": 9,
   "id": "3b7bb7de-4507-42cd-bfa8-33bebdffeff8",
   "metadata": {},
   "outputs": [],
   "source": [
    "ob_bank=bank_account(1000)"
   ]
  },
  {
   "cell_type": "code",
   "execution_count": 10,
   "id": "396ec194-2248-4d5f-8453-d741b301271c",
   "metadata": {},
   "outputs": [
    {
     "data": {
      "text/plain": [
       "1000"
      ]
     },
     "execution_count": 10,
     "metadata": {},
     "output_type": "execute_result"
    }
   ],
   "source": [
    "ob_bank.get_balance()"
   ]
  },
  {
   "cell_type": "code",
   "execution_count": 11,
   "id": "a15c6375-ca9d-4085-bb4f-98842249e3d3",
   "metadata": {},
   "outputs": [],
   "source": [
    "ob_bank.deposit(7000)"
   ]
  },
  {
   "cell_type": "code",
   "execution_count": 12,
   "id": "1e4e26e7-1a24-42c2-a196-34bb8071d233",
   "metadata": {},
   "outputs": [
    {
     "data": {
      "text/plain": [
       "8000"
      ]
     },
     "execution_count": 12,
     "metadata": {},
     "output_type": "execute_result"
    }
   ],
   "source": [
    "ob_bank.get_balance()"
   ]
  },
  {
   "cell_type": "code",
   "execution_count": 13,
   "id": "2f4d6f47-f6ed-4a6b-bcaa-5c3c67077b97",
   "metadata": {},
   "outputs": [
    {
     "data": {
      "text/plain": [
       "False"
      ]
     },
     "execution_count": 13,
     "metadata": {},
     "output_type": "execute_result"
    }
   ],
   "source": [
    "ob_bank.withdraw(9000)"
   ]
  },
  {
   "cell_type": "code",
   "execution_count": 15,
   "id": "8748e076-5379-4054-b235-1ff629b22349",
   "metadata": {},
   "outputs": [
    {
     "data": {
      "text/plain": [
       "True"
      ]
     },
     "execution_count": 15,
     "metadata": {},
     "output_type": "execute_result"
    }
   ],
   "source": [
    "ob_bank.withdraw(5000)"
   ]
  },
  {
   "cell_type": "code",
   "execution_count": 16,
   "id": "b542086b-138b-40fe-8187-df20ff30c074",
   "metadata": {},
   "outputs": [
    {
     "data": {
      "text/plain": [
       "3000"
      ]
     },
     "execution_count": 16,
     "metadata": {},
     "output_type": "execute_result"
    }
   ],
   "source": [
    "ob_bank.get_balance()"
   ]
  },
  {
   "cell_type": "code",
   "execution_count": null,
   "id": "9fc033e9-5944-497e-af1f-fd050f87480f",
   "metadata": {},
   "outputs": [],
   "source": []
  }
 ],
 "metadata": {
  "kernelspec": {
   "display_name": "Python 3 (ipykernel)",
   "language": "python",
   "name": "python3"
  },
  "language_info": {
   "codemirror_mode": {
    "name": "ipython",
    "version": 3
   },
   "file_extension": ".py",
   "mimetype": "text/x-python",
   "name": "python",
   "nbconvert_exporter": "python",
   "pygments_lexer": "ipython3",
   "version": "3.10.8"
  }
 },
 "nbformat": 4,
 "nbformat_minor": 5
}
