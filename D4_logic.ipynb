{
 "cells": [
  {
   "cell_type": "markdown",
   "id": "f96f144a-937d-413b-a6e0-4ae926273f46",
   "metadata": {},
   "source": [
    "Logic statement\n",
    "\n",
    "1. and\n",
    "2. or\n",
    "3. not"
   ]
  },
  {
   "cell_type": "code",
   "execution_count": 1,
   "id": "cc4b4576-2af8-462b-a224-4dfe4affb5e5",
   "metadata": {},
   "outputs": [
    {
     "data": {
      "text/plain": [
       "True"
      ]
     },
     "execution_count": 1,
     "metadata": {},
     "output_type": "execute_result"
    }
   ],
   "source": [
    " True and True"
   ]
  },
  {
   "cell_type": "code",
   "execution_count": 2,
   "id": "d6635879-880f-4258-af41-24769a5e0bed",
   "metadata": {},
   "outputs": [
    {
     "data": {
      "text/plain": [
       "False"
      ]
     },
     "execution_count": 2,
     "metadata": {},
     "output_type": "execute_result"
    }
   ],
   "source": [
    "True and False"
   ]
  },
  {
   "cell_type": "code",
   "execution_count": 4,
   "id": "14058e26-48ae-444a-9af0-e3c04870b4ff",
   "metadata": {},
   "outputs": [
    {
     "data": {
      "text/plain": [
       "True"
      ]
     },
     "execution_count": 4,
     "metadata": {},
     "output_type": "execute_result"
    }
   ],
   "source": [
    "True or True"
   ]
  },
  {
   "cell_type": "code",
   "execution_count": 5,
   "id": "f9277516-6011-4e4a-8cea-a8cd6ffc6627",
   "metadata": {},
   "outputs": [
    {
     "data": {
      "text/plain": [
       "True"
      ]
     },
     "execution_count": 5,
     "metadata": {},
     "output_type": "execute_result"
    }
   ],
   "source": [
    "True or Flse"
   ]
  },
  {
   "cell_type": "code",
   "execution_count": 6,
   "id": "0ae4250d-f3e2-47e3-8992-612b272a259b",
   "metadata": {},
   "outputs": [
    {
     "data": {
      "text/plain": [
       "False"
      ]
     },
     "execution_count": 6,
     "metadata": {},
     "output_type": "execute_result"
    }
   ],
   "source": [
    "bool(0)"
   ]
  },
  {
   "cell_type": "code",
   "execution_count": 7,
   "id": "2db43931-6b96-48df-897e-6ec7ee3043c0",
   "metadata": {},
   "outputs": [
    {
     "data": {
      "text/plain": [
       "True"
      ]
     },
     "execution_count": 7,
     "metadata": {},
     "output_type": "execute_result"
    }
   ],
   "source": [
    "not(bool(0))"
   ]
  },
  {
   "cell_type": "code",
   "execution_count": 9,
   "id": "54736e5b-d86d-4a29-b821-1f003d5b6020",
   "metadata": {},
   "outputs": [
    {
     "data": {
      "text/plain": [
       "True"
      ]
     },
     "execution_count": 9,
     "metadata": {},
     "output_type": "execute_result"
    }
   ],
   "source": [
    "not(int(bool(0)))"
   ]
  },
  {
   "cell_type": "code",
   "execution_count": 2,
   "id": "90c4e3eb-c67e-44c6-9ee2-a8632a9f904a",
   "metadata": {},
   "outputs": [
    {
     "name": "stdout",
     "output_type": "stream",
     "text": [
      "False\n"
     ]
    }
   ],
   "source": [
    "Zero=0\n",
    "one=1\n",
    "\n",
    "print(bool(Zero))\n"
   ]
  },
  {
   "cell_type": "code",
   "execution_count": 3,
   "id": "8aca5b11-b2b7-4ce3-8822-091a7ac13bed",
   "metadata": {},
   "outputs": [
    {
     "data": {
      "text/plain": [
       "False"
      ]
     },
     "execution_count": 3,
     "metadata": {},
     "output_type": "execute_result"
    }
   ],
   "source": [
    "bool(0)"
   ]
  },
  {
   "cell_type": "code",
   "execution_count": 4,
   "id": "c965ee64-f66a-4eab-b785-56a513f7b3d7",
   "metadata": {},
   "outputs": [
    {
     "data": {
      "text/plain": [
       "True"
      ]
     },
     "execution_count": 4,
     "metadata": {},
     "output_type": "execute_result"
    }
   ],
   "source": [
    "bool(5)"
   ]
  },
  {
   "cell_type": "code",
   "execution_count": 5,
   "id": "95ebb188-2a44-4953-9a2f-129e22e33dc0",
   "metadata": {},
   "outputs": [
    {
     "data": {
      "text/plain": [
       "True"
      ]
     },
     "execution_count": 5,
     "metadata": {},
     "output_type": "execute_result"
    }
   ],
   "source": [
    "bool(-5)"
   ]
  },
  {
   "cell_type": "code",
   "execution_count": 6,
   "id": "5c472869-29a9-4cd1-b438-6704b64244b4",
   "metadata": {},
   "outputs": [
    {
     "data": {
      "text/plain": [
       "False"
      ]
     },
     "execution_count": 6,
     "metadata": {},
     "output_type": "execute_result"
    }
   ],
   "source": [
    "not -5"
   ]
  },
  {
   "cell_type": "code",
   "execution_count": 7,
   "id": "293b751f-e2ca-4932-8870-d2e2293807c0",
   "metadata": {},
   "outputs": [
    {
     "data": {
      "text/plain": [
       "False"
      ]
     },
     "execution_count": 7,
     "metadata": {},
     "output_type": "execute_result"
    }
   ],
   "source": [
    "not 5"
   ]
  },
  {
   "cell_type": "markdown",
   "id": "f4b2370d-627d-4c55-82a3-416f65d499f0",
   "metadata": {},
   "source": [
    "Logical and"
   ]
  },
  {
   "cell_type": "code",
   "execution_count": 8,
   "id": "6f2eb277-1683-47a7-9318-1db7b4c12129",
   "metadata": {},
   "outputs": [
    {
     "data": {
      "text/plain": [
       "0"
      ]
     },
     "execution_count": 8,
     "metadata": {},
     "output_type": "execute_result"
    }
   ],
   "source": [
    "False*True"
   ]
  },
  {
   "cell_type": "code",
   "execution_count": 13,
   "id": "7226bead-7113-468d-8b12-edaa8da9acbe",
   "metadata": {},
   "outputs": [
    {
     "data": {
      "text/plain": [
       "1"
      ]
     },
     "execution_count": 13,
     "metadata": {},
     "output_type": "execute_result"
    }
   ],
   "source": [
    "(not(False))*True"
   ]
  },
  {
   "cell_type": "code",
   "execution_count": 12,
   "id": "e96e217f-cc8d-4cdf-ac94-a5d603425dcf",
   "metadata": {},
   "outputs": [
    {
     "data": {
      "text/plain": [
       "0"
      ]
     },
     "execution_count": 12,
     "metadata": {},
     "output_type": "execute_result"
    }
   ],
   "source": [
    "(not(True))*False"
   ]
  },
  {
   "cell_type": "code",
   "execution_count": 15,
   "id": "9be9777a-83e2-49a6-9aa7-35e4d96320ac",
   "metadata": {},
   "outputs": [],
   "source": [
    "a=10"
   ]
  },
  {
   "cell_type": "code",
   "execution_count": 16,
   "id": "b1a5ed92-10dc-41b3-a6c5-9ca24a662a19",
   "metadata": {},
   "outputs": [
    {
     "name": "stdout",
     "output_type": "stream",
     "text": [
      "140412319646224\n"
     ]
    }
   ],
   "source": [
    "print(id(a))"
   ]
  },
  {
   "cell_type": "code",
   "execution_count": 17,
   "id": "a3ad80f9-43b2-44ce-b458-0fdbf0bca3a2",
   "metadata": {},
   "outputs": [],
   "source": [
    "list=[1,2,3,4,5]"
   ]
  },
  {
   "cell_type": "code",
   "execution_count": 18,
   "id": "eaaca894-1fa3-4c84-974a-b77b8cef6d28",
   "metadata": {},
   "outputs": [
    {
     "name": "stdout",
     "output_type": "stream",
     "text": [
      "140412218900864\n"
     ]
    }
   ],
   "source": [
    "print(id(list))"
   ]
  },
  {
   "cell_type": "code",
   "execution_count": 19,
   "id": "0c52792f-3bf4-476e-9550-d17ef9258ca1",
   "metadata": {},
   "outputs": [
    {
     "name": "stdout",
     "output_type": "stream",
     "text": [
      "10\n"
     ]
    }
   ],
   "source": [
    "print(a)"
   ]
  },
  {
   "cell_type": "raw",
   "id": "cc048f83-7ba1-4146-af4d-460888b1c33a",
   "metadata": {},
   "source": [
    "str is immutable"
   ]
  },
  {
   "cell_type": "code",
   "execution_count": 1,
   "id": "2a7f1289-40ef-4d55-bd4b-a9580e70c16d",
   "metadata": {},
   "outputs": [],
   "source": [
    "c_name= \"Data science Masters\"\n"
   ]
  },
  {
   "cell_type": "code",
   "execution_count": 3,
   "id": "6dea43e9-00b4-4c7d-bb84-c75df4ed3621",
   "metadata": {},
   "outputs": [
    {
     "data": {
      "text/plain": [
       "' science'"
      ]
     },
     "execution_count": 3,
     "metadata": {},
     "output_type": "execute_result"
    }
   ],
   "source": [
    "c_name[5:13]"
   ]
  },
  {
   "cell_type": "code",
   "execution_count": 13,
   "id": "5df63fd2-d74a-4d10-9f22-d79f550f61bc",
   "metadata": {},
   "outputs": [
    {
     "data": {
      "text/plain": [
       "'sretsaM ecneics ata D'"
      ]
     },
     "execution_count": 13,
     "metadata": {},
     "output_type": "execute_result"
    }
   ],
   "source": [
    "c_name[::-1]"
   ]
  },
  {
   "cell_type": "code",
   "execution_count": 1,
   "id": "c716718b-2dd1-45f8-9d5f-b40b0be205b7",
   "metadata": {},
   "outputs": [],
   "source": [
    "a=15\n",
    "b=4"
   ]
  },
  {
   "cell_type": "code",
   "execution_count": 2,
   "id": "238ecae7-f52e-4e7b-8728-ed0b67776d58",
   "metadata": {},
   "outputs": [
    {
     "data": {
      "text/plain": [
       "60"
      ]
     },
     "execution_count": 2,
     "metadata": {},
     "output_type": "execute_result"
    }
   ],
   "source": [
    "a*b"
   ]
  },
  {
   "cell_type": "code",
   "execution_count": 3,
   "id": "f0fd757a-4262-40f3-b54d-08cd42329fc4",
   "metadata": {},
   "outputs": [
    {
     "data": {
      "text/plain": [
       "3.75"
      ]
     },
     "execution_count": 3,
     "metadata": {},
     "output_type": "execute_result"
    }
   ],
   "source": [
    "a/b"
   ]
  },
  {
   "cell_type": "code",
   "execution_count": 4,
   "id": "80369ab8-e59b-46cb-b0aa-ffec1a0b717b",
   "metadata": {},
   "outputs": [
    {
     "data": {
      "text/plain": [
       "3"
      ]
     },
     "execution_count": 4,
     "metadata": {},
     "output_type": "execute_result"
    }
   ],
   "source": [
    "a//b"
   ]
  },
  {
   "cell_type": "code",
   "execution_count": 5,
   "id": "a4a1bb5e-4609-4983-a67d-9d9ff2af344e",
   "metadata": {},
   "outputs": [
    {
     "data": {
      "text/plain": [
       "3"
      ]
     },
     "execution_count": 5,
     "metadata": {},
     "output_type": "execute_result"
    }
   ],
   "source": [
    "a%b"
   ]
  },
  {
   "cell_type": "code",
   "execution_count": 6,
   "id": "81fd11cd-7231-4e28-bc1f-5f42214b3e9c",
   "metadata": {},
   "outputs": [],
   "source": [
    "v=10"
   ]
  },
  {
   "cell_type": "code",
   "execution_count": 7,
   "id": "a5e03d45-a30a-4b21-951e-5b5e54f6207c",
   "metadata": {},
   "outputs": [
    {
     "data": {
      "text/plain": [
       "'0b1010'"
      ]
     },
     "execution_count": 7,
     "metadata": {},
     "output_type": "execute_result"
    }
   ],
   "source": [
    "bin(v)"
   ]
  },
  {
   "cell_type": "code",
   "execution_count": 8,
   "id": "220c9651-264b-4d92-8fe2-68407a7d00e0",
   "metadata": {},
   "outputs": [
    {
     "data": {
      "text/plain": [
       "-11"
      ]
     },
     "execution_count": 8,
     "metadata": {},
     "output_type": "execute_result"
    }
   ],
   "source": [
    "~v"
   ]
  },
  {
   "cell_type": "code",
   "execution_count": 9,
   "id": "a8e82423-267e-4dd3-b846-194987676e16",
   "metadata": {},
   "outputs": [
    {
     "data": {
      "text/plain": [
       "True"
      ]
     },
     "execution_count": 9,
     "metadata": {},
     "output_type": "execute_result"
    }
   ],
   "source": [
    "True|False"
   ]
  },
  {
   "cell_type": "markdown",
   "id": "1cde860a-e335-471e-a88b-4bb3eab5c633",
   "metadata": {},
   "source": [
    "STRINGS"
   ]
  },
  {
   "cell_type": "code",
   "execution_count": 10,
   "id": "942a6ead-2271-4f34-afec-45cb3d4570ba",
   "metadata": {},
   "outputs": [],
   "source": [
    "str=\"my name is krishna\""
   ]
  },
  {
   "cell_type": "code",
   "execution_count": 11,
   "id": "6351cbb6-398f-4354-91d8-851606a4f307",
   "metadata": {},
   "outputs": [
    {
     "data": {
      "text/plain": [
       "str"
      ]
     },
     "execution_count": 11,
     "metadata": {},
     "output_type": "execute_result"
    }
   ],
   "source": [
    "type(str)"
   ]
  },
  {
   "cell_type": "code",
   "execution_count": 12,
   "id": "72b9bf63-20a5-495a-a6ca-c125160cbf9d",
   "metadata": {},
   "outputs": [
    {
     "data": {
      "text/plain": [
       "'m'"
      ]
     },
     "execution_count": 12,
     "metadata": {},
     "output_type": "execute_result"
    }
   ],
   "source": [
    "str[0]"
   ]
  },
  {
   "cell_type": "code",
   "execution_count": 13,
   "id": "5b234459-af48-40e0-a03d-a14db0bede07",
   "metadata": {},
   "outputs": [
    {
     "data": {
      "text/plain": [
       "'m'"
      ]
     },
     "execution_count": 13,
     "metadata": {},
     "output_type": "execute_result"
    }
   ],
   "source": [
    "str[5]"
   ]
  },
  {
   "cell_type": "code",
   "execution_count": 14,
   "id": "6b5f263a-5929-4243-8702-24b83d934fba",
   "metadata": {},
   "outputs": [],
   "source": [
    "# slice operation"
   ]
  },
  {
   "cell_type": "code",
   "execution_count": 15,
   "id": "5d1ad1db-de47-402b-af74-d08279f8bfc7",
   "metadata": {},
   "outputs": [
    {
     "data": {
      "text/plain": [
       "'me i'"
      ]
     },
     "execution_count": 15,
     "metadata": {},
     "output_type": "execute_result"
    }
   ],
   "source": [
    "str[5:9]"
   ]
  },
  {
   "cell_type": "code",
   "execution_count": 16,
   "id": "9fb566b5-c323-4122-a771-03ad6bf608f0",
   "metadata": {},
   "outputs": [
    {
     "data": {
      "text/plain": [
       "'a'"
      ]
     },
     "execution_count": 16,
     "metadata": {},
     "output_type": "execute_result"
    }
   ],
   "source": [
    "str[-1]"
   ]
  },
  {
   "cell_type": "code",
   "execution_count": 17,
   "id": "fafea17c-593c-4f25-9e5f-7432a6ce3c63",
   "metadata": {},
   "outputs": [
    {
     "data": {
      "text/plain": [
       "'hna'"
      ]
     },
     "execution_count": 17,
     "metadata": {},
     "output_type": "execute_result"
    }
   ],
   "source": [
    "str[-3:]"
   ]
  },
  {
   "cell_type": "code",
   "execution_count": 18,
   "id": "ed2e63b3-7c39-412e-8be4-b601443e9447",
   "metadata": {},
   "outputs": [
    {
     "data": {
      "text/plain": [
       "'krish'"
      ]
     },
     "execution_count": 18,
     "metadata": {},
     "output_type": "execute_result"
    }
   ],
   "source": [
    "str[-7:-2]"
   ]
  },
  {
   "cell_type": "code",
   "execution_count": 19,
   "id": "9469c677-9997-4e42-b2a4-1624cb6a0c87",
   "metadata": {},
   "outputs": [
    {
     "data": {
      "text/plain": [
       "'my name is krishna'"
      ]
     },
     "execution_count": 19,
     "metadata": {},
     "output_type": "execute_result"
    }
   ],
   "source": [
    "str"
   ]
  },
  {
   "cell_type": "code",
   "execution_count": 20,
   "id": "58d9b7b1-7b03-44e0-8890-88b0079485fc",
   "metadata": {},
   "outputs": [
    {
     "data": {
      "text/plain": [
       "''"
      ]
     },
     "execution_count": 20,
     "metadata": {},
     "output_type": "execute_result"
    }
   ],
   "source": [
    "str[-4:1]"
   ]
  },
  {
   "cell_type": "code",
   "execution_count": 21,
   "id": "e57bc8f2-c71a-4a0d-8ec1-ceed1264b21f",
   "metadata": {},
   "outputs": [
    {
     "data": {
      "text/plain": [
       "'s'"
      ]
     },
     "execution_count": 21,
     "metadata": {},
     "output_type": "execute_result"
    }
   ],
   "source": [
    "str[-4]"
   ]
  },
  {
   "cell_type": "code",
   "execution_count": 22,
   "id": "8bd4babf-a454-484d-bce4-651c6713312c",
   "metadata": {},
   "outputs": [
    {
     "data": {
      "text/plain": [
       "'shna'"
      ]
     },
     "execution_count": 22,
     "metadata": {},
     "output_type": "execute_result"
    }
   ],
   "source": [
    "str[-4:18]"
   ]
  },
  {
   "cell_type": "code",
   "execution_count": 23,
   "id": "ee675e26-f7c7-433d-9940-c7cf3e7bac14",
   "metadata": {},
   "outputs": [
    {
     "data": {
      "text/plain": [
       "''"
      ]
     },
     "execution_count": 23,
     "metadata": {},
     "output_type": "execute_result"
    }
   ],
   "source": [
    "str[-1:1]"
   ]
  },
  {
   "cell_type": "code",
   "execution_count": 24,
   "id": "807c282f-e2ab-4a74-9d62-332ebb4a121e",
   "metadata": {},
   "outputs": [
    {
     "data": {
      "text/plain": [
       "'is kris'"
      ]
     },
     "execution_count": 24,
     "metadata": {},
     "output_type": "execute_result"
    }
   ],
   "source": [
    "str[-10:15]"
   ]
  },
  {
   "cell_type": "code",
   "execution_count": 25,
   "id": "9b7749e2-7527-457c-9cb0-2b3e9bf23036",
   "metadata": {},
   "outputs": [
    {
     "data": {
      "text/plain": [
       "'a'"
      ]
     },
     "execution_count": 25,
     "metadata": {},
     "output_type": "execute_result"
    }
   ],
   "source": [
    "str[-1:]"
   ]
  },
  {
   "cell_type": "code",
   "execution_count": 26,
   "id": "defe22f1-70f9-4a7d-bab8-ae5d406fa0b1",
   "metadata": {},
   "outputs": [
    {
     "data": {
      "text/plain": [
       "'a'"
      ]
     },
     "execution_count": 26,
     "metadata": {},
     "output_type": "execute_result"
    }
   ],
   "source": [
    "str[-1]"
   ]
  },
  {
   "cell_type": "code",
   "execution_count": 27,
   "id": "149766f6-083f-4e48-8947-1eb1bd5af132",
   "metadata": {},
   "outputs": [
    {
     "data": {
      "text/plain": [
       "'my name is krishn'"
      ]
     },
     "execution_count": 27,
     "metadata": {},
     "output_type": "execute_result"
    }
   ],
   "source": [
    "str[:-1]"
   ]
  },
  {
   "cell_type": "code",
   "execution_count": 28,
   "id": "7fa38645-e1b9-4918-b4df-a2318fe6c368",
   "metadata": {},
   "outputs": [
    {
     "data": {
      "text/plain": [
       "'my name is krishna'"
      ]
     },
     "execution_count": 28,
     "metadata": {},
     "output_type": "execute_result"
    }
   ],
   "source": [
    "str\n"
   ]
  },
  {
   "cell_type": "code",
   "execution_count": 29,
   "id": "ce8c03db-07f7-4e44-8150-97579bfa8b91",
   "metadata": {},
   "outputs": [
    {
     "data": {
      "text/plain": [
       "'anhsirk si eman ym'"
      ]
     },
     "execution_count": 29,
     "metadata": {},
     "output_type": "execute_result"
    }
   ],
   "source": [
    "str[::-1]"
   ]
  },
  {
   "cell_type": "code",
   "execution_count": 30,
   "id": "d4e8cb07-08ce-4681-a370-5bd2b2a295c2",
   "metadata": {},
   "outputs": [
    {
     "data": {
      "text/plain": [
       "'ahiks mny'"
      ]
     },
     "execution_count": 30,
     "metadata": {},
     "output_type": "execute_result"
    }
   ],
   "source": [
    "str[::-2]"
   ]
  },
  {
   "cell_type": "code",
   "execution_count": 31,
   "id": "abaaea9d-3bf2-492a-97e9-deeab9e9f30c",
   "metadata": {},
   "outputs": [
    {
     "data": {
      "text/plain": [
       "'h'"
      ]
     },
     "execution_count": 31,
     "metadata": {},
     "output_type": "execute_result"
    }
   ],
   "source": [
    "str[-3]"
   ]
  },
  {
   "cell_type": "code",
   "execution_count": 32,
   "id": "3bcc4952-b50f-4e0d-95c2-9348d32d38b1",
   "metadata": {},
   "outputs": [
    {
     "data": {
      "text/plain": [
       "'askim '"
      ]
     },
     "execution_count": 32,
     "metadata": {},
     "output_type": "execute_result"
    }
   ],
   "source": [
    "str[::-3]"
   ]
  },
  {
   "cell_type": "code",
   "execution_count": 34,
   "id": "42f79a20-8aea-4982-98f2-76936dd2290a",
   "metadata": {},
   "outputs": [
    {
     "data": {
      "text/plain": [
       "'mm h'"
      ]
     },
     "execution_count": 34,
     "metadata": {},
     "output_type": "execute_result"
    }
   ],
   "source": [
    "str[::5]"
   ]
  },
  {
   "cell_type": "code",
   "execution_count": 35,
   "id": "1a3c745f-d394-46f8-9852-26933a9cb6bc",
   "metadata": {},
   "outputs": [
    {
     "data": {
      "text/plain": [
       "'my name is krishna'"
      ]
     },
     "execution_count": 35,
     "metadata": {},
     "output_type": "execute_result"
    }
   ],
   "source": [
    "str[::]"
   ]
  },
  {
   "cell_type": "code",
   "execution_count": 36,
   "id": "ab508d37-e093-4a73-8513-c140c40959ab",
   "metadata": {},
   "outputs": [
    {
     "data": {
      "text/plain": [
       "'anhsirk si eman ym'"
      ]
     },
     "execution_count": 36,
     "metadata": {},
     "output_type": "execute_result"
    }
   ],
   "source": [
    "str[::-1]"
   ]
  },
  {
   "cell_type": "code",
   "execution_count": 37,
   "id": "b021cc14-330b-4dd0-8825-aa38339570df",
   "metadata": {},
   "outputs": [],
   "source": [
    "num=\"123456789\""
   ]
  },
  {
   "cell_type": "code",
   "execution_count": 38,
   "id": "5e642602-fc51-4960-920a-a337a4713e51",
   "metadata": {},
   "outputs": [
    {
     "data": {
      "text/plain": [
       "'9'"
      ]
     },
     "execution_count": 38,
     "metadata": {},
     "output_type": "execute_result"
    }
   ],
   "source": [
    "num[-1]"
   ]
  },
  {
   "cell_type": "code",
   "execution_count": 39,
   "id": "f69d0eea-7b01-4f09-bc90-df30a1becd2d",
   "metadata": {},
   "outputs": [
    {
     "data": {
      "text/plain": [
       "''"
      ]
     },
     "execution_count": 39,
     "metadata": {},
     "output_type": "execute_result"
    }
   ],
   "source": [
    "num[-5:4]"
   ]
  },
  {
   "cell_type": "code",
   "execution_count": 40,
   "id": "c7647c4b-7c12-414f-b741-cde09a375c8b",
   "metadata": {},
   "outputs": [
    {
     "data": {
      "text/plain": [
       "'345'"
      ]
     },
     "execution_count": 40,
     "metadata": {},
     "output_type": "execute_result"
    }
   ],
   "source": [
    "num[-7:5]"
   ]
  },
  {
   "cell_type": "code",
   "execution_count": 41,
   "id": "6f45544a-3537-42a1-b999-cfe459ce8dde",
   "metadata": {},
   "outputs": [
    {
     "data": {
      "text/plain": [
       "'987654321'"
      ]
     },
     "execution_count": 41,
     "metadata": {},
     "output_type": "execute_result"
    }
   ],
   "source": [
    "num[::-1]"
   ]
  },
  {
   "cell_type": "code",
   "execution_count": 42,
   "id": "8383c089-79b7-4469-bde7-29aaad908cae",
   "metadata": {},
   "outputs": [
    {
     "data": {
      "text/plain": [
       "'97531'"
      ]
     },
     "execution_count": 42,
     "metadata": {},
     "output_type": "execute_result"
    }
   ],
   "source": [
    "num[::-2]"
   ]
  },
  {
   "cell_type": "code",
   "execution_count": 43,
   "id": "22c11f06-0cc4-4000-85d7-4531b5717665",
   "metadata": {},
   "outputs": [
    {
     "data": {
      "text/plain": [
       "'16'"
      ]
     },
     "execution_count": 43,
     "metadata": {},
     "output_type": "execute_result"
    }
   ],
   "source": [
    "num[::5]"
   ]
  },
  {
   "cell_type": "code",
   "execution_count": 45,
   "id": "f9a12b53-a334-45ea-a248-3be127eda715",
   "metadata": {},
   "outputs": [
    {
     "data": {
      "text/plain": [
       "'765'"
      ]
     },
     "execution_count": 45,
     "metadata": {},
     "output_type": "execute_result"
    }
   ],
   "source": [
    "num[6:3:-1]"
   ]
  },
  {
   "cell_type": "code",
   "execution_count": 46,
   "id": "e1b89d1e-c566-48ca-b30a-12484a66ce5d",
   "metadata": {},
   "outputs": [
    {
     "data": {
      "text/plain": [
       "'123456789'"
      ]
     },
     "execution_count": 46,
     "metadata": {},
     "output_type": "execute_result"
    }
   ],
   "source": [
    "num\n"
   ]
  },
  {
   "cell_type": "code",
   "execution_count": 47,
   "id": "8648b870-082f-461f-b563-4e9d020e752e",
   "metadata": {},
   "outputs": [
    {
     "data": {
      "text/plain": [
       "'987654321'"
      ]
     },
     "execution_count": 47,
     "metadata": {},
     "output_type": "execute_result"
    }
   ],
   "source": [
    "num[::-1]"
   ]
  },
  {
   "cell_type": "code",
   "execution_count": 48,
   "id": "d75c2a41-4d11-4cdb-a696-71998bb80bda",
   "metadata": {},
   "outputs": [
    {
     "data": {
      "text/plain": [
       "'963'"
      ]
     },
     "execution_count": 48,
     "metadata": {},
     "output_type": "execute_result"
    }
   ],
   "source": [
    "num[::-3]"
   ]
  },
  {
   "cell_type": "code",
   "execution_count": 49,
   "id": "c8318243-1f98-4fdf-8699-d2afa36bb94f",
   "metadata": {},
   "outputs": [
    {
     "data": {
      "text/plain": [
       "'4321'"
      ]
     },
     "execution_count": 49,
     "metadata": {},
     "output_type": "execute_result"
    }
   ],
   "source": [
    "num[3::-1]"
   ]
  },
  {
   "cell_type": "code",
   "execution_count": 50,
   "id": "1b90fbaa-0263-491b-9d2c-63cf2b33e9c7",
   "metadata": {},
   "outputs": [
    {
     "data": {
      "text/plain": [
       "'654321'"
      ]
     },
     "execution_count": 50,
     "metadata": {},
     "output_type": "execute_result"
    }
   ],
   "source": [
    "num[5::-1]"
   ]
  },
  {
   "cell_type": "code",
   "execution_count": 58,
   "id": "ddd792fb-3d39-4e81-9329-452edaf475a8",
   "metadata": {},
   "outputs": [
    {
     "data": {
      "text/plain": [
       "'65'"
      ]
     },
     "execution_count": 58,
     "metadata": {},
     "output_type": "execute_result"
    }
   ],
   "source": [
    "num[5:3:-1]"
   ]
  },
  {
   "cell_type": "code",
   "execution_count": 54,
   "id": "d4d7eb07-fc5b-4312-bcb3-5991b01e4bfc",
   "metadata": {},
   "outputs": [],
   "source": [
    "n=\"Data Science Masters\""
   ]
  },
  {
   "cell_type": "code",
   "execution_count": 56,
   "id": "2960de7d-807e-437b-9e1e-60f867043d9f",
   "metadata": {},
   "outputs": [
    {
     "data": {
      "text/plain": [
       "'Science'"
      ]
     },
     "execution_count": 56,
     "metadata": {},
     "output_type": "execute_result"
    }
   ],
   "source": [
    "n[5:12]"
   ]
  },
  {
   "cell_type": "code",
   "execution_count": 57,
   "id": "6b76e541-1e2e-434a-8b3c-28baafdd82fd",
   "metadata": {},
   "outputs": [
    {
     "data": {
      "text/plain": [
       "'sretsaM ecneicS ataD'"
      ]
     },
     "execution_count": 57,
     "metadata": {},
     "output_type": "execute_result"
    }
   ],
   "source": [
    "n[::-1]"
   ]
  },
  {
   "cell_type": "code",
   "execution_count": 68,
   "id": "f349b2eb-0b19-4263-b2a2-4540be8c6354",
   "metadata": {},
   "outputs": [
    {
     "data": {
      "text/plain": [
       "'ecneicS'"
      ]
     },
     "execution_count": 68,
     "metadata": {},
     "output_type": "execute_result"
    }
   ],
   "source": [
    "n[11:4:-1]"
   ]
  },
  {
   "cell_type": "code",
   "execution_count": 69,
   "id": "94697c97-776f-4cd9-aa8e-ae16476f08d0",
   "metadata": {},
   "outputs": [],
   "source": [
    "#concatenation\n",
    "\n"
   ]
  },
  {
   "cell_type": "code",
   "execution_count": 71,
   "id": "58b3949c-b93f-465e-929b-dd0bc7747df5",
   "metadata": {},
   "outputs": [
    {
     "name": "stdout",
     "output_type": "stream",
     "text": [
      "my name\n"
     ]
    }
   ],
   "source": [
    "print(\"my\" +\" name\")"
   ]
  },
  {
   "cell_type": "code",
   "execution_count": 72,
   "id": "4424c6b7-a46a-4d3e-b862-af188f9bf46b",
   "metadata": {},
   "outputs": [
    {
     "data": {
      "text/plain": [
       "9"
      ]
     },
     "execution_count": 72,
     "metadata": {},
     "output_type": "execute_result"
    }
   ],
   "source": [
    "len(num)"
   ]
  },
  {
   "cell_type": "code",
   "execution_count": 74,
   "id": "76fb48c7-4849-4ed8-b7d4-f974da978281",
   "metadata": {},
   "outputs": [
    {
     "data": {
      "text/plain": [
       "7"
      ]
     },
     "execution_count": 74,
     "metadata": {},
     "output_type": "execute_result"
    }
   ],
   "source": [
    "num.find(\"8\")"
   ]
  },
  {
   "cell_type": "code",
   "execution_count": 75,
   "id": "d0804c72-c78b-4844-8cad-a594a1844d1b",
   "metadata": {},
   "outputs": [
    {
     "data": {
      "text/plain": [
       "-1"
      ]
     },
     "execution_count": 75,
     "metadata": {},
     "output_type": "execute_result"
    }
   ],
   "source": [
    "num.find(\"o\")"
   ]
  },
  {
   "cell_type": "code",
   "execution_count": null,
   "id": "f956bb98-1372-41d7-9a03-4140d8fa67e2",
   "metadata": {},
   "outputs": [],
   "source": [
    "#partition\n",
    "#split\n",
    "#count"
   ]
  }
 ],
 "metadata": {
  "kernelspec": {
   "display_name": "Python 3 (ipykernel)",
   "language": "python",
   "name": "python3"
  },
  "language_info": {
   "codemirror_mode": {
    "name": "ipython",
    "version": 3
   },
   "file_extension": ".py",
   "mimetype": "text/x-python",
   "name": "python",
   "nbconvert_exporter": "python",
   "pygments_lexer": "ipython3",
   "version": "3.10.8"
  }
 },
 "nbformat": 4,
 "nbformat_minor": 5
}
