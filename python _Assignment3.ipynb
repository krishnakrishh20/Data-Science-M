{
 "cells": [
  {
   "cell_type": "markdown",
   "id": "3721a359-0c1d-4196-8a1b-6dbd78a9241d",
   "metadata": {},
   "source": [
    "### 1. What are the characteristics of the tuples? Is tuple immutable?"
   ]
  },
  {
   "cell_type": "raw",
   "id": "f52e8558-2b22-44c0-ba35-b1be4db32c4d",
   "metadata": {},
   "source": [
    "1.Tuples are ordered\n",
    "2.indexed collections of data.\n",
    "3.Tuples allows duplicates\n",
    "4.Tuples are immutable\n",
    "5.unchangeable"
   ]
  },
  {
   "cell_type": "markdown",
   "id": "1a23129e-8ed0-45cb-8262-f7ad99db560a",
   "metadata": {},
   "source": [
    "### 2.What are the two tuple methods in python? Give an example of each method. Give a reason why tuples have only two in-built methods as compared to Lists."
   ]
  },
  {
   "cell_type": "raw",
   "id": "0a372e10-f017-499f-8045-a2a555cc5e72",
   "metadata": {},
   "source": [
    "There are only two tuple methods count() and index() that a tuple object can call.\n",
    "1.count()\n",
    "\n",
    "eg.\n",
    "t1=(1,2,3,4,56,\"mine\")\n",
    "t1.count(2)\n",
    "\n",
    "\n",
    "ans-1\n",
    "\n",
    "return the number of occurances of teh valure in the tuple\n",
    "\n",
    "2.index()\n",
    "\n",
    "eg\n",
    "t1=(1,2,3,4,56,2,3,3,4,\"mine\")\n",
    "t1.index(3)\n",
    "\n",
    "ans- 2\n",
    "returns the first index of the value in the tuble\n",
    "\n",
    "\n",
    "Tuples are immutable compared to list. thats the reason why tuples have only two in built methods\n"
   ]
  },
  {
   "cell_type": "code",
   "execution_count": 13,
   "id": "d668ab15-bafc-46d3-a20a-bf9552718043",
   "metadata": {},
   "outputs": [],
   "source": [
    "t1=(1,2,3,4,56,2,3,3,4,\"mine\")"
   ]
  },
  {
   "cell_type": "code",
   "execution_count": 14,
   "id": "7e76b980-70d6-436b-bace-d18389e21c21",
   "metadata": {},
   "outputs": [
    {
     "data": {
      "text/plain": [
       "2"
      ]
     },
     "execution_count": 14,
     "metadata": {},
     "output_type": "execute_result"
    }
   ],
   "source": [
    "t1.count(2)"
   ]
  },
  {
   "cell_type": "code",
   "execution_count": 15,
   "id": "6957fba6-83da-45b8-ae15-b0f8702450a3",
   "metadata": {},
   "outputs": [
    {
     "data": {
      "text/plain": [
       "2"
      ]
     },
     "execution_count": 15,
     "metadata": {},
     "output_type": "execute_result"
    }
   ],
   "source": [
    "t1.index(2)\n",
    "t1.index(3)"
   ]
  },
  {
   "cell_type": "markdown",
   "id": "ff2a523b-042c-4be2-99ad-e4c0ab5efe19",
   "metadata": {},
   "source": [
    "### 3.Which collection datatypes in python do not allow duplicate items? Write a code using a set to remove duplicates from the given list.\n",
    "### List = [1, 1, 1, 2, 1, 3, 1, 4, 2, 1, 2, 2, 2, 3, 2, 4, 3, 1, 3, 2, 3, 3, 3, 4, 4, 1, 4, 2, 4, 3, 4, 4]"
   ]
  },
  {
   "cell_type": "raw",
   "id": "d058977a-cc1b-4765-a551-f12db63a6214",
   "metadata": {},
   "source": [
    "Set datatypes in python do not allow duplicates.\n",
    "\n",
    "l=[1, 1, 1, 2, 1, 3, 1, 4, 2, 1, 2, 2, 2, 3, 2, 4, 3, 1, 3, 2, 3, 3, 3, 4, 4, 1, 4, 2, 4, 3, 4, 4]\n",
    "s1=set(l)\n",
    "s1"
   ]
  },
  {
   "cell_type": "code",
   "execution_count": 18,
   "id": "248e329c-ce6e-4335-9a5c-1c2e09e6ba1c",
   "metadata": {},
   "outputs": [
    {
     "data": {
      "text/plain": [
       "{1, 2, 3, 4}"
      ]
     },
     "execution_count": 18,
     "metadata": {},
     "output_type": "execute_result"
    }
   ],
   "source": [
    "l=[1, 1, 1, 2, 1, 3, 1, 4, 2, 1, 2, 2, 2, 3, 2, 4, 3, 1, 3, 2, 3, 3, 3, 4, 4, 1, 4, 2, 4, 3, 4, 4]\n",
    "s1=set(l)\n",
    "s1"
   ]
  },
  {
   "cell_type": "markdown",
   "id": "a4cf0d4b-2951-4d39-a7e4-86571e2c2658",
   "metadata": {},
   "source": [
    "### 4.Explain the difference between the union() and update() methods for a set. Give an example of each method."
   ]
  },
  {
   "cell_type": "code",
   "execution_count": 19,
   "id": "30d7967d-e66b-4319-913b-110eae366a7f",
   "metadata": {},
   "outputs": [
    {
     "data": {
      "text/plain": [
       "{1, 2, 3, 4}"
      ]
     },
     "execution_count": 19,
     "metadata": {},
     "output_type": "execute_result"
    }
   ],
   "source": [
    "s1"
   ]
  },
  {
   "cell_type": "code",
   "execution_count": 21,
   "id": "d4c79861-f030-43cf-adf3-0ee584a2c89f",
   "metadata": {},
   "outputs": [],
   "source": [
    "s2={3,4,5,6,\"krishna\"}"
   ]
  },
  {
   "cell_type": "code",
   "execution_count": 22,
   "id": "cdd3e2f7-ac84-4a37-8a11-32ebfc4cb488",
   "metadata": {},
   "outputs": [
    {
     "data": {
      "text/plain": [
       "{1, 2, 3, 4, 5, 6, 'krishna'}"
      ]
     },
     "execution_count": 22,
     "metadata": {},
     "output_type": "execute_result"
    }
   ],
   "source": [
    "s1.union(s2)"
   ]
  },
  {
   "cell_type": "code",
   "execution_count": 23,
   "id": "3382f129-4046-4a5c-9990-8b2c616029f2",
   "metadata": {},
   "outputs": [],
   "source": [
    "s1.update(s2)"
   ]
  },
  {
   "cell_type": "code",
   "execution_count": 24,
   "id": "92e32bb9-7e52-4602-9af0-1045bcaa3ba4",
   "metadata": {},
   "outputs": [
    {
     "data": {
      "text/plain": [
       "{1, 2, 3, 4, 5, 6, 'krishna'}"
      ]
     },
     "execution_count": 24,
     "metadata": {},
     "output_type": "execute_result"
    }
   ],
   "source": [
    "s1"
   ]
  },
  {
   "cell_type": "raw",
   "id": "e85f6ca6-e9fb-4392-8dd3-7c4e526597b3",
   "metadata": {},
   "source": [
    "Diffrence btw union and update union (s1.union(s2)) gives the union of s1 and s2 whereas s1.update(s2) just update the values of s2 with s1"
   ]
  },
  {
   "cell_type": "code",
   "execution_count": 25,
   "id": "3719e08b-da14-4d80-a909-60c51f0fc81d",
   "metadata": {},
   "outputs": [],
   "source": [
    "s2={1,2,3,4,5,6,2,3,1,2,3,4,\"kp\",\"kp\"}\n",
    "s3={3,7,8,9,1,\"my\",\"kp\"}"
   ]
  },
  {
   "cell_type": "code",
   "execution_count": 30,
   "id": "0ba7e9ea-0544-4f7e-b7cf-e57491c5fa06",
   "metadata": {},
   "outputs": [
    {
     "data": {
      "text/plain": [
       "{1, 2, 3, 4, 5, 6, 7, 8, 9, 'kp', 'my'}"
      ]
     },
     "execution_count": 30,
     "metadata": {},
     "output_type": "execute_result"
    }
   ],
   "source": [
    "s2"
   ]
  },
  {
   "cell_type": "code",
   "execution_count": 31,
   "id": "c6c2c25b-e02d-4226-9c33-96777d6f305c",
   "metadata": {},
   "outputs": [
    {
     "data": {
      "text/plain": [
       "{1, 3, 7, 8, 9, 'kp', 'my'}"
      ]
     },
     "execution_count": 31,
     "metadata": {},
     "output_type": "execute_result"
    }
   ],
   "source": [
    "s3"
   ]
  },
  {
   "cell_type": "code",
   "execution_count": 32,
   "id": "0fcfcc7b-8b9b-4d3b-87ff-2c6013f8cbfc",
   "metadata": {},
   "outputs": [
    {
     "data": {
      "text/plain": [
       "{1, 2, 3, 4, 5, 6, 7, 8, 9, 'kp', 'my'}"
      ]
     },
     "execution_count": 32,
     "metadata": {},
     "output_type": "execute_result"
    }
   ],
   "source": [
    "s2.union(s3)"
   ]
  },
  {
   "cell_type": "code",
   "execution_count": 33,
   "id": "b59a0769-6bd1-4196-a013-0bd64343d280",
   "metadata": {},
   "outputs": [],
   "source": [
    "s2.update(s3)"
   ]
  },
  {
   "cell_type": "code",
   "execution_count": 34,
   "id": "145903b8-08b7-4883-ba00-3b2334bd084f",
   "metadata": {},
   "outputs": [
    {
     "data": {
      "text/plain": [
       "{1, 2, 3, 4, 5, 6, 7, 8, 9, 'kp', 'my'}"
      ]
     },
     "execution_count": 34,
     "metadata": {},
     "output_type": "execute_result"
    }
   ],
   "source": [
    "s2"
   ]
  },
  {
   "cell_type": "markdown",
   "id": "2282ab3e-efba-4f75-912c-6a8cd34304be",
   "metadata": {},
   "source": [
    "### 5. What is a dictionary? Give an example. Also, state whether a dictionary is ordered or unordered."
   ]
  },
  {
   "cell_type": "raw",
   "id": "bcfc3ed3-2494-4878-ae6b-da65de635407",
   "metadata": {},
   "source": [
    "Dictionary is a data structure that allows to store data in key value pairs, where key is the unique identifier and value is the value assigned to that key\n",
    "\n",
    "Dictionary is unordered data structure,means it does store data in specific order\n",
    "\n"
   ]
  },
  {
   "cell_type": "code",
   "execution_count": 38,
   "id": "3ed0ab1f-1ca9-4050-bb78-114242c18dbb",
   "metadata": {},
   "outputs": [],
   "source": [
    "# eg\n",
    "\n",
    "D={\"name\":\"kp\",\"age\":1,\"DOB\":1990,\"place\":\"America\"}"
   ]
  },
  {
   "cell_type": "markdown",
   "id": "5bd38d0b-4c6d-4270-b967-d389adcc85ee",
   "metadata": {},
   "source": [
    "### 6.Can we create a nested dictionary? If so, please give an example by creating a simple one-levelnested dictionary."
   ]
  },
  {
   "cell_type": "raw",
   "id": "4efd9f77-8157-4801-8e18-fb10590ea6cb",
   "metadata": {},
   "source": [
    "yes we can create nested dictionary"
   ]
  },
  {
   "cell_type": "code",
   "execution_count": 40,
   "id": "19faa617-25e8-49d9-adac-fadf4d52d78a",
   "metadata": {},
   "outputs": [],
   "source": [
    "D1={\"p1\":{\"name\":\"kp\",\"age\":2,\"email\":\"hnj\"},\"p2\":{\"name\":\"krish\",\"age\":4,\"gmail\":\"kj\"}}"
   ]
  },
  {
   "cell_type": "code",
   "execution_count": 41,
   "id": "8130dcc3-58c6-435c-9e29-1f395949c45c",
   "metadata": {},
   "outputs": [
    {
     "data": {
      "text/plain": [
       "{'p1': {'name': 'kp', 'age': 2, 'email': 'hnj'},\n",
       " 'p2': {'name': 'krish', 'age': 4, 'gmail': 'kj'}}"
      ]
     },
     "execution_count": 41,
     "metadata": {},
     "output_type": "execute_result"
    }
   ],
   "source": [
    "D1"
   ]
  },
  {
   "cell_type": "markdown",
   "id": "ee500600-0580-4299-8858-39fc9380c7bb",
   "metadata": {},
   "source": [
    "### 7.Using setdefault() method, create key named topics in the given dictionary and also add the value of the key as this list ['Python', 'Machine Learning’, 'Deep Learning']\n"
   ]
  },
  {
   "cell_type": "code",
   "execution_count": 50,
   "id": "bd551466-1b05-47b5-916f-e0dbdf997fb9",
   "metadata": {},
   "outputs": [
    {
     "data": {
      "text/plain": [
       "['Python', 'Machine Learning', 'Deep Learning']"
      ]
     },
     "execution_count": 50,
     "metadata": {},
     "output_type": "execute_result"
    }
   ],
   "source": [
    "D2={'language' : 'Python', 'course': 'Data Science Masters'}\n",
    "D2.setdefault(\"topic\",[\"Python\", \"Machine Learning\", \"Deep Learning\"])"
   ]
  },
  {
   "cell_type": "code",
   "execution_count": 51,
   "id": "a3e2c548-e91d-464c-8fd1-6a3cc9579fcb",
   "metadata": {},
   "outputs": [
    {
     "data": {
      "text/plain": [
       "{'language': 'Python',\n",
       " 'course': 'Data Science Masters',\n",
       " 'topic': ['Python', 'Machine Learning', 'Deep Learning']}"
      ]
     },
     "execution_count": 51,
     "metadata": {},
     "output_type": "execute_result"
    }
   ],
   "source": [
    "D2"
   ]
  },
  {
   "cell_type": "markdown",
   "id": "f121cec3-811f-4e75-b37e-84055c2f66f5",
   "metadata": {},
   "source": [
    "### 8.What are the three view objects in dictionaries? Use the three in-built methods in python to displaythese three view objects for the given dictionary.\n",
    "### dict1 = {'Sport': 'Cricket' , 'Teams': ['India', 'Australia', 'England', 'South Africa', 'Sri Lanka', 'New Zealand']}"
   ]
  },
  {
   "cell_type": "raw",
   "id": "8f913026-d7ad-4bc3-a814-8c81011ac9aa",
   "metadata": {},
   "source": [
    "1. dict.keys()\n",
    "2. dict.value()\n",
    "3. dict.item()"
   ]
  },
  {
   "cell_type": "code",
   "execution_count": null,
   "id": "e6a5164e-ead3-4d43-a9a2-d02be1bbba74",
   "metadata": {},
   "outputs": [],
   "source": [
    "D3=[]"
   ]
  }
 ],
 "metadata": {
  "kernelspec": {
   "display_name": "Python 3 (ipykernel)",
   "language": "python",
   "name": "python3"
  },
  "language_info": {
   "codemirror_mode": {
    "name": "ipython",
    "version": 3
   },
   "file_extension": ".py",
   "mimetype": "text/x-python",
   "name": "python",
   "nbconvert_exporter": "python",
   "pygments_lexer": "ipython3",
   "version": "3.10.8"
  }
 },
 "nbformat": 4,
 "nbformat_minor": 5
}
