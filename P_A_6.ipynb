{
 "cells": [
  {
   "cell_type": "markdown",
   "id": "a264eaa1-ddcb-4c09-9940-d9e92c944a8c",
   "metadata": {},
   "source": [
    "### Q1. Explain Class and Object with respect to Object-Oriented Programming. Give a suitable example."
   ]
  },
  {
   "cell_type": "markdown",
   "id": "40eb14a0-a13b-4f87-9a07-abc02a27a4e9",
   "metadata": {},
   "source": [
    "#### A class is a user defined blueprint or prototype from which objects are created. It represents the set of properties or methods that are common to all objects of one type. "
   ]
  },
  {
   "cell_type": "markdown",
   "id": "449766da-a7fe-47d3-95a1-0133236c8412",
   "metadata": {},
   "source": [
    "\n",
    "#### Objects are instances of a class created with specifically defined data. Objects can correspond to real-world objects or an abstract entity. When class is defined initially, the description is the only object that is defined."
   ]
  },
  {
   "cell_type": "code",
   "execution_count": 16,
   "id": "a24230ba-525f-406b-9f26-dfad1bd52221",
   "metadata": {},
   "outputs": [],
   "source": [
    "class car:\n",
    "    \n",
    "    def __init__(self,COMPANY,COLOR,S_CAPACITY):\n",
    "        self.company=COMPANY\n",
    "        self.color=COLOR\n",
    "        self.s_capacity=S_CAPACITY\n",
    "        \n",
    "    def return_car_details(self):\n",
    "        return self.company,self.color,self.s_capacity"
   ]
  },
  {
   "cell_type": "code",
   "execution_count": 17,
   "id": "be73fc57-70ec-41dc-8868-c09a22b9ac9a",
   "metadata": {},
   "outputs": [],
   "source": [
    "car1=car(\"Maruti\",\"Red\",4)"
   ]
  },
  {
   "cell_type": "code",
   "execution_count": 18,
   "id": "9aaf221c-fba9-4679-91eb-ee3ccd883a24",
   "metadata": {},
   "outputs": [
    {
     "data": {
      "text/plain": [
       "'Maruti'"
      ]
     },
     "execution_count": 18,
     "metadata": {},
     "output_type": "execute_result"
    }
   ],
   "source": [
    "car1.company"
   ]
  },
  {
   "cell_type": "code",
   "execution_count": 19,
   "id": "4cbaaee7-7df7-4f56-94dc-1782489f8fdc",
   "metadata": {},
   "outputs": [
    {
     "data": {
      "text/plain": [
       "('Maruti', 'Red', 4)"
      ]
     },
     "execution_count": 19,
     "metadata": {},
     "output_type": "execute_result"
    }
   ],
   "source": [
    "car1.return_car_details()"
   ]
  },
  {
   "cell_type": "markdown",
   "id": "983e208e-c1a4-4fae-982c-166d48f608a7",
   "metadata": {},
   "source": [
    "### 2.Name the four pillars of OOPs."
   ]
  },
  {
   "cell_type": "markdown",
   "id": "0005b1b2-e630-404c-b4b3-84ef23fef1cc",
   "metadata": {},
   "source": [
    "### four pillars of Inheritance, Polymorphism, Encapsulation and Abstraction"
   ]
  },
  {
   "cell_type": "code",
   "execution_count": null,
   "id": "1aa2485d-b6ae-483c-92ef-cc97deb50c9a",
   "metadata": {},
   "outputs": [],
   "source": []
  },
  {
   "cell_type": "markdown",
   "id": "e8ab7e1c-a390-4478-a73a-d6450a32819e",
   "metadata": {},
   "source": [
    "### 3.Explain why the __init__() function is used. Give a suitable example."
   ]
  },
  {
   "cell_type": "markdown",
   "id": "bc9151ed-ae5f-4ed3-aaa4-4ce06af1e1a1",
   "metadata": {},
   "source": [
    "### The __init__ method lets the class initialize the object's attributes and serves no other purpose. It is only used within classes"
   ]
  },
  {
   "cell_type": "code",
   "execution_count": 20,
   "id": "6b3f01a5-418c-45b7-aa95-c7c020e9922c",
   "metadata": {},
   "outputs": [
    {
     "name": "stdout",
     "output_type": "stream",
     "text": [
      "John\n",
      "36\n"
     ]
    }
   ],
   "source": [
    "class Person:\n",
    "  def __init__(self, name, age):\n",
    "    self.name = name\n",
    "    self.age = age\n",
    "\n",
    "p1 = Person(\"John\", 36)\n",
    "\n",
    "print(p1.name)\n",
    "print(p1.age)"
   ]
  },
  {
   "cell_type": "markdown",
   "id": "db6a922c-c2c3-4161-933a-135520d7c636",
   "metadata": {},
   "source": [
    "### 4.Why self is used in OOPs?"
   ]
  },
  {
   "cell_type": "markdown",
   "id": "d993a881-a782-4d38-9b80-7d3bd3bc1d4f",
   "metadata": {},
   "source": [
    "### The self variable is used to represent the instance of the class which is often used in object-oriented programming. It works as a reference to the object. Python uses the self parameter to refer to instance attributes and methods of the class"
   ]
  },
  {
   "cell_type": "markdown",
   "id": "b6339bff-0ef1-4c67-a628-7edaa72e6f46",
   "metadata": {},
   "source": [
    "### 5.What is inheritance? Give an example for each type of inheritance."
   ]
  },
  {
   "cell_type": "markdown",
   "id": "57005f95-664c-47a1-878c-2182aa2675c6",
   "metadata": {},
   "source": [
    "## Single inheritence\n",
    "\n",
    "### In this inheritance, a derived class is created from a single base class.\n",
    "\n",
    "###  Class A is the parent class and Class B is the child class since Class B inherits the features and behavior of the parent class A."
   ]
  },
  {
   "cell_type": "markdown",
   "id": "e5e80bb1-dbd8-4250-aff2-9aee5cebc68c",
   "metadata": {},
   "source": [
    "## Multilevel inheritence\n",
    "\n",
    "### class c inherits the properties and behavior of class B and class B inherits the properties and behavior of class B. So, here A is the parent class of B and class B is the parent class of C. So, here class C implicitly inherits the properties and behavior of class A along with Class B i.e there is a multilevel of inheritance."
   ]
  },
  {
   "cell_type": "markdown",
   "id": "9150f7ea-ce04-4e7a-a631-4a21f4a22f24",
   "metadata": {},
   "source": [
    "## Multiple inheritence\n",
    "\n",
    "### class c inherits the properties and behavior of class B and class A at the same level. So, here A and Class B both are the parent classes for Class C."
   ]
  },
  {
   "cell_type": "markdown",
   "id": "00071bbc-6b42-4a3a-9ee7-f269f769b74b",
   "metadata": {},
   "source": [
    "## Multipath inheritence\n",
    "\n",
    "### class D inherits the properties and behavior of class C and class B as well as Class A. Both class C and class B inherit the Class A. So, Class A is the parent for Class B and Class C as well as Class D. So it's making it a Multipath inheritance."
   ]
  },
  {
   "cell_type": "markdown",
   "id": "023a3c31-5ce1-44aa-affd-f177ba7f2798",
   "metadata": {},
   "source": [
    "## Heirarchichal inheritance\n",
    "\n",
    "### class A has two children class B and class D. Further, class B and class C both are having two children - class D and E; class F and G respectively."
   ]
  },
  {
   "cell_type": "markdown",
   "id": "2cb82ec5-f62f-47cc-8a55-ebd2340c4f38",
   "metadata": {},
   "source": [
    "## Hybrid inheritence\n",
    "\n",
    "### This is a combination of more than one inheritance. Hence, it may be a combination of Multilevel and Multiple inheritance or Hierarchical and Multilevel inheritance Hierarchical and Multipath inheritance, or Hierarchical, Multilevel and Multiple inheritances."
   ]
  },
  {
   "cell_type": "code",
   "execution_count": null,
   "id": "4d8c64a7-c60b-4326-8fc6-35a833592520",
   "metadata": {},
   "outputs": [],
   "source": []
  }
 ],
 "metadata": {
  "kernelspec": {
   "display_name": "Python 3 (ipykernel)",
   "language": "python",
   "name": "python3"
  },
  "language_info": {
   "codemirror_mode": {
    "name": "ipython",
    "version": 3
   },
   "file_extension": ".py",
   "mimetype": "text/x-python",
   "name": "python",
   "nbconvert_exporter": "python",
   "pygments_lexer": "ipython3",
   "version": "3.10.8"
  }
 },
 "nbformat": 4,
 "nbformat_minor": 5
}
