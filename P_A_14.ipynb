{
 "cells": [
  {
   "cell_type": "markdown",
   "id": "4ef42413-7769-4534-bf09-73e84db9c826",
   "metadata": {},
   "source": [
    "### What is multiprocessing in python? Why is it useful?"
   ]
  },
  {
   "cell_type": "raw",
   "id": "0425532b-cd31-4e1f-b7af-2e5ff57c5577",
   "metadata": {},
   "source": [
    "Multiprocessing refers to the ability of a system to support more than one processor at the same time. Applications in a multiprocessing system are broken to smaller routines that run independently. The operating system allocates these threads to the processors improving performance of the system.\n",
    "\n",
    "\n",
    "Consider a computer system with a single processor. If it is assigned several processes at the same time, it will have to interrupt each task and switch briefly to another, to keep all of the processes going.\n",
    "\n",
    "Multiprocessing helps in running the multiple processes with out having to interuppt each process.\n",
    "\n",
    "Devides the work between mulprocesses.\n",
    "\n",
    "\n"
   ]
  },
  {
   "cell_type": "markdown",
   "id": "e20de771-9465-456d-a2f5-49a791cb01fa",
   "metadata": {},
   "source": [
    "### What are the differences between multiprocessing and multithreading?"
   ]
  },
  {
   "cell_type": "raw",
   "id": "ceca3067-a104-416d-8bd9-fab0e8b6bb92",
   "metadata": {},
   "source": [
    "By formal definition, multithreading refers to the ability of a processor to execute multiple threads concurrently, where each thread runs a process. Whereas multiprocessing refers to the ability of a system to run multiple processors concurrently, where each processor can run one or more threads.\n",
    "\n",
    "\n",
    "multithreading--------- multiple threads share the same code, data, and files but run on a different register and stack. \n",
    "Multiprocessing---------multiplies a single processor — replicating the code, data, and files, which incurs more overhead.\n",
    "\n",
    "Multithreading is useful for IO-bound processes, such as reading files from a network or database since each thread can run the IO-bound process concurrently. Multiprocessing is useful for CPU-bound processes, such as computationally heavy tasks since it will benefit from having multiple processors; similar to how multicore computers work faster than computers with a single core."
   ]
  },
  {
   "cell_type": "markdown",
   "id": "5e3a0936-53db-43dc-a37f-c136bbf5d949",
   "metadata": {},
   "source": [
    "### Write a python code to create a process using the multiprocessing module."
   ]
  },
  {
   "cell_type": "code",
   "execution_count": 26,
   "id": "81a85c9e-4ffa-4235-b6e2-8e53551712b5",
   "metadata": {},
   "outputs": [
    {
     "name": "stdout",
     "output_type": "stream",
     "text": [
      "square :  25\n",
      "cube : 125\n"
     ]
    }
   ],
   "source": [
    "import multiprocessing\n",
    "\n",
    "def sq(n):\n",
    "    print(\"square :  {}\".format( n*n))\n",
    "\n",
    "def cube(n):\n",
    "    print(\"cube : {}\".format (n*n*n))\n",
    "\n",
    "if __name__==\"__main__\":\n",
    "    m1=multiprocessing.Process(target=sq,args=(5,))\n",
    "    m2=multiprocessing.Process(target=cube,args=(5,))\n",
    "    \n",
    "    m1.start()\n",
    "    m2.start()\n",
    "    \n",
    "    m1.join\n",
    "    m2.join()\n",
    "\n",
    "\n"
   ]
  },
  {
   "cell_type": "markdown",
   "id": "50c1e90c-9801-4a82-bc5f-6ada2e6d210f",
   "metadata": {},
   "source": [
    "### What is a multiprocessing pool in python? Why is it used?"
   ]
  },
  {
   "cell_type": "code",
   "execution_count": 13,
   "id": "408302e7-449a-45b7-b0fa-964d046f0765",
   "metadata": {},
   "outputs": [
    {
     "name": "stdout",
     "output_type": "stream",
     "text": [
      "Help on method Pool in module multiprocessing.context:\n",
      "\n",
      "Pool(processes=None, initializer=None, initargs=(), maxtasksperchild=None) method of multiprocessing.context.DefaultContext instance\n",
      "    Returns a process pool object\n",
      "\n"
     ]
    }
   ],
   "source": [
    "help(multiprocessing.Pool)"
   ]
  },
  {
   "cell_type": "raw",
   "id": "bde44245-9c26-4745-ab30-ab9b2f7ce28a",
   "metadata": {},
   "source": [
    "Use the multiprocessing pool if your tasks are independent.\n",
    "\n",
    "This means that each task is not dependent on other tasks that could execute at the same time. It also may mean tasks that are not dependent on any data other than data provided via function arguments to the task.\n",
    "\n",
    "The multiprocessing pool can be organized into data flows and pipelines for linear dependence between tasks, perhaps with one multiprocessing pool per task type."
   ]
  },
  {
   "cell_type": "markdown",
   "id": "42492273-25e0-470a-b554-f49d23b42e14",
   "metadata": {},
   "source": [
    "### How can we create a pool of worker processes in python using the multiprocessing module?"
   ]
  },
  {
   "cell_type": "code",
   "execution_count": 23,
   "id": "26a14e4b-237d-4039-aeda-77c3a1276688",
   "metadata": {},
   "outputs": [
    {
     "name": "stdout",
     "output_type": "stream",
     "text": [
      "[9, 16, 25, 36, 49]\n",
      "[27, 64, 125, 216, 343]\n"
     ]
    }
   ],
   "source": [
    "def sqr(n):\n",
    "    return n**2\n",
    "\n",
    "def cube(n):\n",
    "    return n**3\n",
    "\n",
    "if __name__==\"__main__\":\n",
    "    with multiprocessing.Pool(processes=4) as pool:\n",
    "        o1=pool.map(sqr,[3,4,5,6,7])\n",
    "        o2=pool.map(cube,[3,4,5,6,7])\n",
    "        \n",
    "        print(o1)\n",
    "        print(o2)"
   ]
  },
  {
   "cell_type": "markdown",
   "id": "1c750b8f-23a0-4938-90c7-2e6a339aa3f6",
   "metadata": {},
   "source": [
    "### Write a python program to create 4 processes, each process should print a different number using the multiprocessing module in python."
   ]
  },
  {
   "cell_type": "code",
   "execution_count": 38,
   "id": "eb1bc0f6-aa8c-4114-9e1d-d221d1fc9969",
   "metadata": {},
   "outputs": [
    {
     "name": "stdout",
     "output_type": "stream",
     "text": [
      "num is 5\n",
      "num is 6\n",
      "num is 7\n",
      "num is 8\n"
     ]
    }
   ],
   "source": [
    "import multiprocessing\n",
    "\n",
    "def ptnum1(n):\n",
    "    print(\"num is {}\".format(n))\n",
    "    \n",
    "def ptnum2(n):\n",
    "    print(\"num is {}\".format(n))\n",
    "def ptnum3(n):\n",
    "    print(\"num is {}\".format(n))\n",
    "def ptnum4(n):\n",
    "    print(\"num is {}\".format(n))\n",
    "\n",
    "\n",
    "if __name__==\"__main__\":\n",
    "    p1=multiprocessing.Process(target=ptnum1,args=(5,))\n",
    "    p2=multiprocessing.Process(target=ptnum2,args=(6,))\n",
    "    p3=multiprocessing.Process(target=ptnum3,args=(7,))\n",
    "    p4=multiprocessing.Process(target=ptnum4,args=(8,))\n",
    "    \n",
    "    p1.start()\n",
    "    p1.join()\n",
    "    \n",
    "    p2.start()\n",
    "    p2.join()\n",
    "    \n",
    "    p3.start()\n",
    "    p3.join()\n",
    "    \n",
    "    p4.start()\n",
    "    p4.join()\n",
    "    \n",
    " "
   ]
  },
  {
   "cell_type": "code",
   "execution_count": null,
   "id": "4643f153-de3b-4634-9bdc-176c373b41d9",
   "metadata": {},
   "outputs": [],
   "source": []
  }
 ],
 "metadata": {
  "kernelspec": {
   "display_name": "Python 3 (ipykernel)",
   "language": "python",
   "name": "python3"
  },
  "language_info": {
   "codemirror_mode": {
    "name": "ipython",
    "version": 3
   },
   "file_extension": ".py",
   "mimetype": "text/x-python",
   "name": "python",
   "nbconvert_exporter": "python",
   "pygments_lexer": "ipython3",
   "version": "3.10.8"
  }
 },
 "nbformat": 4,
 "nbformat_minor": 5
}
