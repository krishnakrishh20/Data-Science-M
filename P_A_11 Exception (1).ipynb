{
 "cells": [
  {
   "cell_type": "markdown",
   "id": "1a3d6296-cdb6-489a-a136-7894af9953d1",
   "metadata": {},
   "source": [
    "### What is an Exception in python? Write the difference between Exceptions and syntax errors"
   ]
  },
  {
   "cell_type": "raw",
   "id": "b2a05952-5b0c-48a5-b3f9-2038dbabbb39",
   "metadata": {},
   "source": [
    "An Exception is a python object that represents an error.\n",
    "even if the statements and expressions are correct,there may have errors like file does not found.zero by division errors.this might disrupts the normal execution of the program and are called exceptions.\n",
    "\n",
    "\n",
    "syntax errors are detected when we have not followed the rules of the particular programming language while writing a program."
   ]
  },
  {
   "cell_type": "markdown",
   "id": "dc895a82-3340-4e51-8f08-f6255597a395",
   "metadata": {},
   "source": [
    "### What happens when an exception is not handled? Explain withan example"
   ]
  },
  {
   "cell_type": "raw",
   "id": "34c20fbb-2f04-4773-80f6-63821e454fe9",
   "metadata": {},
   "source": [
    "if exception is not handled it will resylt in terminating the program.\n",
    "Exception handlers separate the main logic of the program from the error detection and correction code. The segment of code where there is any possibility of error or exception, is placed inside one block. The code to be executed in case the exception has occurred, is placed inside another block.\n",
    "\n"
   ]
  },
  {
   "cell_type": "code",
   "execution_count": 2,
   "id": "ff8aa931-21a3-4ff1-b48b-bac5b6a0148e",
   "metadata": {},
   "outputs": [
    {
     "name": "stdin",
     "output_type": "stream",
     "text": [
      "no: 0\n"
     ]
    },
    {
     "ename": "ZeroDivisionError",
     "evalue": "division by zero",
     "output_type": "error",
     "traceback": [
      "\u001b[0;31m---------------------------------------------------------------------------\u001b[0m",
      "\u001b[0;31mZeroDivisionError\u001b[0m                         Traceback (most recent call last)",
      "Cell \u001b[0;32mIn[2], line 3\u001b[0m\n\u001b[1;32m      1\u001b[0m a\u001b[38;5;241m=\u001b[39m\u001b[38;5;28mint\u001b[39m(\u001b[38;5;28minput\u001b[39m(\u001b[38;5;124m'\u001b[39m\u001b[38;5;124mno:\u001b[39m\u001b[38;5;124m'\u001b[39m))\n\u001b[0;32m----> 3\u001b[0m a\u001b[38;5;241m=\u001b[39m\u001b[38;5;241;43m10\u001b[39;49m\u001b[38;5;241;43m/\u001b[39;49m\u001b[43ma\u001b[49m\n\u001b[1;32m      4\u001b[0m \u001b[38;5;28mprint\u001b[39m(\u001b[38;5;124m\"\u001b[39m\u001b[38;5;124mresult is: \u001b[39m\u001b[38;5;132;01m{}\u001b[39;00m\u001b[38;5;124m\"\u001b[39m\u001b[38;5;241m.\u001b[39mformat(\u001b[38;5;241m10\u001b[39m\u001b[38;5;241m/\u001b[39ma))\n\u001b[1;32m      5\u001b[0m a\u001b[38;5;241m+\u001b[39m\u001b[38;5;241m10\u001b[39m\n",
      "\u001b[0;31mZeroDivisionError\u001b[0m: division by zero"
     ]
    }
   ],
   "source": [
    "a=int(input('no:'))\n",
    "\n",
    "a=10/a\n",
    "print(\"result is: {}\".format(10/a))\n",
    "a+10\n",
    "print(a)"
   ]
  },
  {
   "cell_type": "code",
   "execution_count": null,
   "id": "181007c7-3b78-48a4-b6e8-5f49fadaf6ad",
   "metadata": {},
   "outputs": [],
   "source": []
  },
  {
   "cell_type": "markdown",
   "id": "88bed55c-9d73-463c-9df9-360fde1f7e40",
   "metadata": {},
   "source": [
    "### Which Python statements are used to catch and handle exceptions? Explain with an example"
   ]
  },
  {
   "cell_type": "code",
   "execution_count": 12,
   "id": "5c84f93b-428d-4070-abd8-d6184f5af65b",
   "metadata": {},
   "outputs": [
    {
     "name": "stdin",
     "output_type": "stream",
     "text": [
      "no: 0\n"
     ]
    },
    {
     "name": "stdout",
     "output_type": "stream",
     "text": [
      "Zero division errror\n",
      "0\n"
     ]
    }
   ],
   "source": [
    "a=int(input('no:'))\n",
    "\n",
    "try:\n",
    "    a=10/a\n",
    "\n",
    "    print(\"result is: {}\".format(10/a))\n",
    "    \n",
    "    \n",
    "except ZeroDivisionError:\n",
    "    print(\"Zero division errror\")\n",
    "    \n",
    "a+10\n",
    "print(a)"
   ]
  },
  {
   "cell_type": "markdown",
   "id": "153f4222-b650-41c1-b99b-d2a690e67a6b",
   "metadata": {},
   "source": [
    "### Q4. Explain with an example:\n",
    "\n",
    "### try and else\n",
    "### finally\n",
    "### raise"
   ]
  },
  {
   "cell_type": "raw",
   "id": "61e68a1b-0965-4748-bebf-1e1437e27467",
   "metadata": {},
   "source": [
    "1.try else"
   ]
  },
  {
   "cell_type": "code",
   "execution_count": 18,
   "id": "d3c20b8c-4852-46db-b4a1-395349ee9e8f",
   "metadata": {},
   "outputs": [
    {
     "name": "stdin",
     "output_type": "stream",
     "text": [
      " 7\n"
     ]
    },
    {
     "name": "stdout",
     "output_type": "stream",
     "text": [
      "unsupported operand type(s) for +: 'int' and 'str'\n"
     ]
    }
   ],
   "source": [
    "\n",
    "b=input('')\n",
    "try:\n",
    "    \n",
    "    a=7\n",
    "    \n",
    "    c= a+b\n",
    "except Exception as e:\n",
    "    print(e)\n",
    "    \n",
    "else:\n",
    "    \n",
    "    print(a*7)\n",
    "\n"
   ]
  },
  {
   "cell_type": "code",
   "execution_count": 19,
   "id": "da637374-49a3-443a-bf0d-31c5a7840e68",
   "metadata": {},
   "outputs": [
    {
     "name": "stdin",
     "output_type": "stream",
     "text": [
      " 7\n"
     ]
    },
    {
     "name": "stdout",
     "output_type": "stream",
     "text": [
      "kpkpkpkpkpkpkp\n"
     ]
    }
   ],
   "source": [
    "b=input('')\n",
    "try:\n",
    "    \n",
    "    a='kp'\n",
    "    \n",
    "    c= a+b\n",
    "except Exception as e:\n",
    "    print(e)\n",
    "    \n",
    "else:\n",
    "    \n",
    "    print(a*7)"
   ]
  },
  {
   "cell_type": "raw",
   "id": "4c7428a5-87cd-440a-8c55-100ef52f24a7",
   "metadata": {},
   "source": [
    "if there is no exception in the try block, else block will get executed.other wise exception is handled."
   ]
  },
  {
   "cell_type": "raw",
   "id": "0dffa979-e8c1-4a74-8e2c-36f7cfd6dd37",
   "metadata": {},
   "source": [
    "2.finally"
   ]
  },
  {
   "cell_type": "code",
   "execution_count": 1,
   "id": "ccc96d59-997c-4419-9a68-694b5d69a4ea",
   "metadata": {},
   "outputs": [
    {
     "name": "stdin",
     "output_type": "stream",
     "text": [
      " 2\n"
     ]
    },
    {
     "name": "stdout",
     "output_type": "stream",
     "text": [
      "unsupported operand type(s) for +: 'int' and 'str'\n",
      "This block will always run\n"
     ]
    }
   ],
   "source": [
    "\n",
    "b=input('')\n",
    "try:\n",
    "    \n",
    "    a=7\n",
    "    \n",
    "    c= a+b\n",
    "except Exception as e:\n",
    "    print(e)\n",
    "    \n",
    "else:\n",
    "    \n",
    "    print(a*7)\n",
    "    \n",
    "    \n",
    "finally:\n",
    "    print(\"This block will always run\")\n",
    "    "
   ]
  },
  {
   "cell_type": "raw",
   "id": "a1ec16e8-36d8-4185-a68a-8bc46ac03e39",
   "metadata": {},
   "source": [
    "3. raise"
   ]
  },
  {
   "cell_type": "code",
   "execution_count": 7,
   "id": "3b8bc33c-7654-4c41-bbf4-46cb09d42e1f",
   "metadata": {},
   "outputs": [
    {
     "name": "stdin",
     "output_type": "stream",
     "text": [
      " 10\n"
     ]
    },
    {
     "ename": "TypeError",
     "evalue": "only string allowed",
     "output_type": "error",
     "traceback": [
      "\u001b[0;31m---------------------------------------------------------------------------\u001b[0m",
      "\u001b[0;31mTypeError\u001b[0m                                 Traceback (most recent call last)",
      "Cell \u001b[0;32mIn[7], line 4\u001b[0m\n\u001b[1;32m      1\u001b[0m a\u001b[38;5;241m=\u001b[39m\u001b[38;5;28minput\u001b[39m()\n\u001b[1;32m      3\u001b[0m \u001b[38;5;28;01mif\u001b[39;00m \u001b[38;5;28mtype\u001b[39m(a)\u001b[38;5;241m==\u001b[39m\u001b[38;5;28mstr\u001b[39m:\n\u001b[0;32m----> 4\u001b[0m     \u001b[38;5;28;01mraise\u001b[39;00m \u001b[38;5;167;01mTypeError\u001b[39;00m(\u001b[38;5;124m\"\u001b[39m\u001b[38;5;124monly string allowed\u001b[39m\u001b[38;5;124m\"\u001b[39m)\n",
      "\u001b[0;31mTypeError\u001b[0m: only string allowed"
     ]
    }
   ],
   "source": [
    "a=input()\n",
    "\n",
    "if type(a)==str:\n",
    "    raise TypeError(\"only string allowed\")"
   ]
  },
  {
   "cell_type": "markdown",
   "id": "736bf127-d8e7-4e1c-9117-cc9fd8f5c25f",
   "metadata": {},
   "source": [
    "### What are Custom Exceptions in python? Why do we need Custom Exceptions? Explain withan example"
   ]
  },
  {
   "cell_type": "raw",
   "id": "ad6a5bb8-b3ad-4718-a3d3-8acb6c9f8aa1",
   "metadata": {},
   "source": [
    "sometimes we may need to create our own custom exceptions that serve our purpose.In Python, we can define custom exceptions by creating a new class that is derived from the built-in Exception class.\n",
    "\n",
    "\n",
    "\n",
    "\n",
    "class CustomError(Exception):\n",
    "    pass\n",
    "\n",
    "raise CustomError(\"Example of Custom Exceptions in Python\")\n",
    "\n",
    "Output: CustomError: Example of Custom Exceptions in Python\n",
    "Python throws errors and exceptions when the code goes wrong, which may cause the program to stop abruptly. Python also provides an exception handling method with the help of try-except. Some of the standard exceptions which are most frequent include IndexError, ImportError, IOError, ZeroDivisionError, TypeError, and FileNotFoundError.\n",
    "\n",
    "\n",
    " \n"
   ]
  },
  {
   "cell_type": "markdown",
   "id": "1c01d0db-9aa1-43ae-a776-b71442021607",
   "metadata": {},
   "source": [
    "### Create custom exception class. Use this class to handle an exception."
   ]
  },
  {
   "cell_type": "code",
   "execution_count": 9,
   "id": "72d324c0-43d6-43b7-9542-3b14d1c07e8e",
   "metadata": {},
   "outputs": [],
   "source": [
    "class InvalidAgeExcception(Exception):\n",
    "    def __init__(self,msg):\n",
    "        self.msg=msg\n",
    "    \n",
    "    \n",
    "    \n",
    "    "
   ]
  },
  {
   "cell_type": "code",
   "execution_count": 10,
   "id": "be0b1e86-8e15-440c-987f-69f6f3679628",
   "metadata": {},
   "outputs": [],
   "source": [
    "def InvalidAge(age):\n",
    "    \n",
    "    \n",
    "    if age<18:\n",
    "        raise InvalidAgeExcception('Not allowed in the Ride')\n",
    "    else:\n",
    "        print('Have a happy Ride')\n",
    "        \n",
    "    "
   ]
  },
  {
   "cell_type": "code",
   "execution_count": null,
   "id": "36904c9d-a35a-4969-8f35-51d09686f3c4",
   "metadata": {},
   "outputs": [],
   "source": [
    "try:\n",
    "    \n",
    "    age=int(input(\"age:\"))\n",
    "    InvalidAge(age)\n",
    "    \n",
    "except InvalidAgeExcception as e:\n",
    "    print(e)"
   ]
  },
  {
   "cell_type": "code",
   "execution_count": null,
   "id": "e0334bc7-0a4f-4704-aed6-adffb8667832",
   "metadata": {},
   "outputs": [],
   "source": []
  }
 ],
 "metadata": {
  "kernelspec": {
   "display_name": "Python 3 (ipykernel)",
   "language": "python",
   "name": "python3"
  },
  "language_info": {
   "codemirror_mode": {
    "name": "ipython",
    "version": 3
   },
   "file_extension": ".py",
   "mimetype": "text/x-python",
   "name": "python",
   "nbconvert_exporter": "python",
   "pygments_lexer": "ipython3",
   "version": "3.10.8"
  }
 },
 "nbformat": 4,
 "nbformat_minor": 5
}
